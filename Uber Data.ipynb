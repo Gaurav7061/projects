{
 "cells": [
  {
   "cell_type": "markdown",
   "id": "ac8b9622",
   "metadata": {},
   "source": [
    "# Importing all the necessary libraries"
   ]
  },
  {
   "cell_type": "code",
   "execution_count": 185,
   "id": "7771a984",
   "metadata": {},
   "outputs": [],
   "source": [
    "import numpy as np\n",
    "import pandas as pd\n",
    "import matplotlib.pyplot as plt\n",
    "import seaborn as sns\n",
    "%matplotlib inline\n",
    "from sklearn.ensemble import RandomForestRegressor,AdaBoostRegressor,BaggingRegressor\n",
    "from sklearn.svm import SVR\n",
    "from sklearn.neighbors import KNeighborsRegressor\n",
    "from sklearn.model_selection import GridSearchCV\n",
    "from sklearn import metrics"
   ]
  },
  {
   "cell_type": "markdown",
   "id": "50a42328",
   "metadata": {},
   "source": [
    "# Reading the data"
   ]
  },
  {
   "cell_type": "code",
   "execution_count": 2,
   "id": "87a7385b",
   "metadata": {},
   "outputs": [],
   "source": [
    "test = pd.read_csv('test.csv')\n",
    "test_label = pd.read_csv('test_label.csv',header=None,names=['Total_booking'])\n",
    "train = pd.read_csv('train.csv')\n",
    "train_label = pd.read_csv('train_label.csv',header=None,names=['Total_booking'])"
   ]
  },
  {
   "cell_type": "code",
   "execution_count": 3,
   "id": "3d0ba061",
   "metadata": {},
   "outputs": [
    {
     "data": {
      "text/html": [
       "<div>\n",
       "<style scoped>\n",
       "    .dataframe tbody tr th:only-of-type {\n",
       "        vertical-align: middle;\n",
       "    }\n",
       "\n",
       "    .dataframe tbody tr th {\n",
       "        vertical-align: top;\n",
       "    }\n",
       "\n",
       "    .dataframe thead th {\n",
       "        text-align: right;\n",
       "    }\n",
       "</style>\n",
       "<table border=\"1\" class=\"dataframe\">\n",
       "  <thead>\n",
       "    <tr style=\"text-align: right;\">\n",
       "      <th></th>\n",
       "      <th>datetime</th>\n",
       "      <th>season</th>\n",
       "      <th>holiday</th>\n",
       "      <th>workingday</th>\n",
       "      <th>weather</th>\n",
       "      <th>temp</th>\n",
       "      <th>atemp</th>\n",
       "      <th>humidity</th>\n",
       "      <th>windspeed</th>\n",
       "    </tr>\n",
       "  </thead>\n",
       "  <tbody>\n",
       "    <tr>\n",
       "      <th>0</th>\n",
       "      <td>5/10/2012 11:00</td>\n",
       "      <td>Summer</td>\n",
       "      <td>0</td>\n",
       "      <td>1</td>\n",
       "      <td>Clear + Few clouds</td>\n",
       "      <td>21.32</td>\n",
       "      <td>25.000</td>\n",
       "      <td>48</td>\n",
       "      <td>35.0008</td>\n",
       "    </tr>\n",
       "    <tr>\n",
       "      <th>1</th>\n",
       "      <td>6/9/2012 7:00</td>\n",
       "      <td>Summer</td>\n",
       "      <td>0</td>\n",
       "      <td>0</td>\n",
       "      <td>Clear + Few clouds</td>\n",
       "      <td>23.78</td>\n",
       "      <td>27.275</td>\n",
       "      <td>64</td>\n",
       "      <td>7.0015</td>\n",
       "    </tr>\n",
       "    <tr>\n",
       "      <th>2</th>\n",
       "      <td>3/6/2011 20:00</td>\n",
       "      <td>Spring</td>\n",
       "      <td>0</td>\n",
       "      <td>0</td>\n",
       "      <td>Light Snow, Light Rain</td>\n",
       "      <td>11.48</td>\n",
       "      <td>12.120</td>\n",
       "      <td>100</td>\n",
       "      <td>27.9993</td>\n",
       "    </tr>\n",
       "    <tr>\n",
       "      <th>3</th>\n",
       "      <td>10/13/2011 11:00</td>\n",
       "      <td>Winter</td>\n",
       "      <td>0</td>\n",
       "      <td>1</td>\n",
       "      <td>Mist + Cloudy</td>\n",
       "      <td>25.42</td>\n",
       "      <td>28.790</td>\n",
       "      <td>83</td>\n",
       "      <td>0.0000</td>\n",
       "    </tr>\n",
       "    <tr>\n",
       "      <th>4</th>\n",
       "      <td>6/2/2012 12:00</td>\n",
       "      <td>Summer</td>\n",
       "      <td>0</td>\n",
       "      <td>0</td>\n",
       "      <td>Clear + Few clouds</td>\n",
       "      <td>25.42</td>\n",
       "      <td>31.060</td>\n",
       "      <td>43</td>\n",
       "      <td>23.9994</td>\n",
       "    </tr>\n",
       "  </tbody>\n",
       "</table>\n",
       "</div>"
      ],
      "text/plain": [
       "           datetime  season  holiday  workingday                  weather  \\\n",
       "0   5/10/2012 11:00  Summer        0           1       Clear + Few clouds   \n",
       "1     6/9/2012 7:00  Summer        0           0       Clear + Few clouds   \n",
       "2    3/6/2011 20:00  Spring        0           0   Light Snow, Light Rain   \n",
       "3  10/13/2011 11:00  Winter        0           1           Mist + Cloudy    \n",
       "4    6/2/2012 12:00  Summer        0           0       Clear + Few clouds   \n",
       "\n",
       "    temp   atemp  humidity  windspeed  \n",
       "0  21.32  25.000        48    35.0008  \n",
       "1  23.78  27.275        64     7.0015  \n",
       "2  11.48  12.120       100    27.9993  \n",
       "3  25.42  28.790        83     0.0000  \n",
       "4  25.42  31.060        43    23.9994  "
      ]
     },
     "execution_count": 3,
     "metadata": {},
     "output_type": "execute_result"
    }
   ],
   "source": [
    "test.head()"
   ]
  },
  {
   "cell_type": "code",
   "execution_count": 4,
   "id": "389bb3f4",
   "metadata": {},
   "outputs": [
    {
     "data": {
      "text/html": [
       "<div>\n",
       "<style scoped>\n",
       "    .dataframe tbody tr th:only-of-type {\n",
       "        vertical-align: middle;\n",
       "    }\n",
       "\n",
       "    .dataframe tbody tr th {\n",
       "        vertical-align: top;\n",
       "    }\n",
       "\n",
       "    .dataframe thead th {\n",
       "        text-align: right;\n",
       "    }\n",
       "</style>\n",
       "<table border=\"1\" class=\"dataframe\">\n",
       "  <thead>\n",
       "    <tr style=\"text-align: right;\">\n",
       "      <th></th>\n",
       "      <th>Total_booking</th>\n",
       "    </tr>\n",
       "  </thead>\n",
       "  <tbody>\n",
       "    <tr>\n",
       "      <th>0</th>\n",
       "      <td>256</td>\n",
       "    </tr>\n",
       "    <tr>\n",
       "      <th>1</th>\n",
       "      <td>87</td>\n",
       "    </tr>\n",
       "    <tr>\n",
       "      <th>2</th>\n",
       "      <td>11</td>\n",
       "    </tr>\n",
       "    <tr>\n",
       "      <th>3</th>\n",
       "      <td>84</td>\n",
       "    </tr>\n",
       "    <tr>\n",
       "      <th>4</th>\n",
       "      <td>668</td>\n",
       "    </tr>\n",
       "  </tbody>\n",
       "</table>\n",
       "</div>"
      ],
      "text/plain": [
       "   Total_booking\n",
       "0            256\n",
       "1             87\n",
       "2             11\n",
       "3             84\n",
       "4            668"
      ]
     },
     "execution_count": 4,
     "metadata": {},
     "output_type": "execute_result"
    }
   ],
   "source": [
    "test_label.head()"
   ]
  },
  {
   "cell_type": "code",
   "execution_count": 5,
   "id": "731eb280",
   "metadata": {},
   "outputs": [
    {
     "data": {
      "text/html": [
       "<div>\n",
       "<style scoped>\n",
       "    .dataframe tbody tr th:only-of-type {\n",
       "        vertical-align: middle;\n",
       "    }\n",
       "\n",
       "    .dataframe tbody tr th {\n",
       "        vertical-align: top;\n",
       "    }\n",
       "\n",
       "    .dataframe thead th {\n",
       "        text-align: right;\n",
       "    }\n",
       "</style>\n",
       "<table border=\"1\" class=\"dataframe\">\n",
       "  <thead>\n",
       "    <tr style=\"text-align: right;\">\n",
       "      <th></th>\n",
       "      <th>Total_booking</th>\n",
       "    </tr>\n",
       "  </thead>\n",
       "  <tbody>\n",
       "    <tr>\n",
       "      <th>0</th>\n",
       "      <td>504</td>\n",
       "    </tr>\n",
       "    <tr>\n",
       "      <th>1</th>\n",
       "      <td>5</td>\n",
       "    </tr>\n",
       "    <tr>\n",
       "      <th>2</th>\n",
       "      <td>139</td>\n",
       "    </tr>\n",
       "    <tr>\n",
       "      <th>3</th>\n",
       "      <td>209</td>\n",
       "    </tr>\n",
       "    <tr>\n",
       "      <th>4</th>\n",
       "      <td>184</td>\n",
       "    </tr>\n",
       "  </tbody>\n",
       "</table>\n",
       "</div>"
      ],
      "text/plain": [
       "   Total_booking\n",
       "0            504\n",
       "1              5\n",
       "2            139\n",
       "3            209\n",
       "4            184"
      ]
     },
     "execution_count": 5,
     "metadata": {},
     "output_type": "execute_result"
    }
   ],
   "source": [
    "train_label.head()"
   ]
  },
  {
   "cell_type": "markdown",
   "id": "ebf87499",
   "metadata": {},
   "source": [
    "# Concatenating the Train and Test data"
   ]
  },
  {
   "cell_type": "code",
   "execution_count": 6,
   "id": "952221b5",
   "metadata": {},
   "outputs": [],
   "source": [
    "Train = pd.concat([train,train_label],axis=1)\n",
    "Test = pd.concat([test,test_label],axis=1)"
   ]
  },
  {
   "cell_type": "code",
   "execution_count": 7,
   "id": "fb3337d1",
   "metadata": {},
   "outputs": [
    {
     "data": {
      "text/html": [
       "<div>\n",
       "<style scoped>\n",
       "    .dataframe tbody tr th:only-of-type {\n",
       "        vertical-align: middle;\n",
       "    }\n",
       "\n",
       "    .dataframe tbody tr th {\n",
       "        vertical-align: top;\n",
       "    }\n",
       "\n",
       "    .dataframe thead th {\n",
       "        text-align: right;\n",
       "    }\n",
       "</style>\n",
       "<table border=\"1\" class=\"dataframe\">\n",
       "  <thead>\n",
       "    <tr style=\"text-align: right;\">\n",
       "      <th></th>\n",
       "      <th>datetime</th>\n",
       "      <th>season</th>\n",
       "      <th>holiday</th>\n",
       "      <th>workingday</th>\n",
       "      <th>weather</th>\n",
       "      <th>temp</th>\n",
       "      <th>atemp</th>\n",
       "      <th>humidity</th>\n",
       "      <th>windspeed</th>\n",
       "      <th>Total_booking</th>\n",
       "    </tr>\n",
       "  </thead>\n",
       "  <tbody>\n",
       "    <tr>\n",
       "      <th>0</th>\n",
       "      <td>5/2/2012 19:00</td>\n",
       "      <td>Summer</td>\n",
       "      <td>0</td>\n",
       "      <td>1</td>\n",
       "      <td>Clear + Few clouds</td>\n",
       "      <td>22.14</td>\n",
       "      <td>25.760</td>\n",
       "      <td>77</td>\n",
       "      <td>16.9979</td>\n",
       "      <td>504</td>\n",
       "    </tr>\n",
       "    <tr>\n",
       "      <th>1</th>\n",
       "      <td>9/5/2012 4:00</td>\n",
       "      <td>Fall</td>\n",
       "      <td>0</td>\n",
       "      <td>1</td>\n",
       "      <td>Clear + Few clouds</td>\n",
       "      <td>28.70</td>\n",
       "      <td>33.335</td>\n",
       "      <td>79</td>\n",
       "      <td>19.0012</td>\n",
       "      <td>5</td>\n",
       "    </tr>\n",
       "    <tr>\n",
       "      <th>2</th>\n",
       "      <td>1/13/2011 9:00</td>\n",
       "      <td>Spring</td>\n",
       "      <td>0</td>\n",
       "      <td>1</td>\n",
       "      <td>Clear + Few clouds</td>\n",
       "      <td>5.74</td>\n",
       "      <td>6.060</td>\n",
       "      <td>50</td>\n",
       "      <td>22.0028</td>\n",
       "      <td>139</td>\n",
       "    </tr>\n",
       "    <tr>\n",
       "      <th>3</th>\n",
       "      <td>11/18/2011 16:00</td>\n",
       "      <td>Winter</td>\n",
       "      <td>0</td>\n",
       "      <td>1</td>\n",
       "      <td>Clear + Few clouds</td>\n",
       "      <td>13.94</td>\n",
       "      <td>16.665</td>\n",
       "      <td>29</td>\n",
       "      <td>8.9981</td>\n",
       "      <td>209</td>\n",
       "    </tr>\n",
       "    <tr>\n",
       "      <th>4</th>\n",
       "      <td>9/13/2011 13:00</td>\n",
       "      <td>Fall</td>\n",
       "      <td>0</td>\n",
       "      <td>1</td>\n",
       "      <td>Clear + Few clouds</td>\n",
       "      <td>30.34</td>\n",
       "      <td>33.335</td>\n",
       "      <td>51</td>\n",
       "      <td>19.0012</td>\n",
       "      <td>184</td>\n",
       "    </tr>\n",
       "  </tbody>\n",
       "</table>\n",
       "</div>"
      ],
      "text/plain": [
       "           datetime  season  holiday  workingday              weather   temp  \\\n",
       "0    5/2/2012 19:00  Summer        0           1   Clear + Few clouds  22.14   \n",
       "1     9/5/2012 4:00    Fall        0           1   Clear + Few clouds  28.70   \n",
       "2    1/13/2011 9:00  Spring        0           1   Clear + Few clouds   5.74   \n",
       "3  11/18/2011 16:00  Winter        0           1   Clear + Few clouds  13.94   \n",
       "4   9/13/2011 13:00    Fall        0           1   Clear + Few clouds  30.34   \n",
       "\n",
       "    atemp  humidity  windspeed  Total_booking  \n",
       "0  25.760        77    16.9979            504  \n",
       "1  33.335        79    19.0012              5  \n",
       "2   6.060        50    22.0028            139  \n",
       "3  16.665        29     8.9981            209  \n",
       "4  33.335        51    19.0012            184  "
      ]
     },
     "execution_count": 7,
     "metadata": {},
     "output_type": "execute_result"
    }
   ],
   "source": [
    "Train.head()"
   ]
  },
  {
   "cell_type": "code",
   "execution_count": 8,
   "id": "2494063a",
   "metadata": {},
   "outputs": [
    {
     "data": {
      "text/html": [
       "<div>\n",
       "<style scoped>\n",
       "    .dataframe tbody tr th:only-of-type {\n",
       "        vertical-align: middle;\n",
       "    }\n",
       "\n",
       "    .dataframe tbody tr th {\n",
       "        vertical-align: top;\n",
       "    }\n",
       "\n",
       "    .dataframe thead th {\n",
       "        text-align: right;\n",
       "    }\n",
       "</style>\n",
       "<table border=\"1\" class=\"dataframe\">\n",
       "  <thead>\n",
       "    <tr style=\"text-align: right;\">\n",
       "      <th></th>\n",
       "      <th>datetime</th>\n",
       "      <th>season</th>\n",
       "      <th>holiday</th>\n",
       "      <th>workingday</th>\n",
       "      <th>weather</th>\n",
       "      <th>temp</th>\n",
       "      <th>atemp</th>\n",
       "      <th>humidity</th>\n",
       "      <th>windspeed</th>\n",
       "      <th>Total_booking</th>\n",
       "    </tr>\n",
       "  </thead>\n",
       "  <tbody>\n",
       "    <tr>\n",
       "      <th>0</th>\n",
       "      <td>5/10/2012 11:00</td>\n",
       "      <td>Summer</td>\n",
       "      <td>0</td>\n",
       "      <td>1</td>\n",
       "      <td>Clear + Few clouds</td>\n",
       "      <td>21.32</td>\n",
       "      <td>25.000</td>\n",
       "      <td>48</td>\n",
       "      <td>35.0008</td>\n",
       "      <td>256</td>\n",
       "    </tr>\n",
       "    <tr>\n",
       "      <th>1</th>\n",
       "      <td>6/9/2012 7:00</td>\n",
       "      <td>Summer</td>\n",
       "      <td>0</td>\n",
       "      <td>0</td>\n",
       "      <td>Clear + Few clouds</td>\n",
       "      <td>23.78</td>\n",
       "      <td>27.275</td>\n",
       "      <td>64</td>\n",
       "      <td>7.0015</td>\n",
       "      <td>87</td>\n",
       "    </tr>\n",
       "    <tr>\n",
       "      <th>2</th>\n",
       "      <td>3/6/2011 20:00</td>\n",
       "      <td>Spring</td>\n",
       "      <td>0</td>\n",
       "      <td>0</td>\n",
       "      <td>Light Snow, Light Rain</td>\n",
       "      <td>11.48</td>\n",
       "      <td>12.120</td>\n",
       "      <td>100</td>\n",
       "      <td>27.9993</td>\n",
       "      <td>11</td>\n",
       "    </tr>\n",
       "    <tr>\n",
       "      <th>3</th>\n",
       "      <td>10/13/2011 11:00</td>\n",
       "      <td>Winter</td>\n",
       "      <td>0</td>\n",
       "      <td>1</td>\n",
       "      <td>Mist + Cloudy</td>\n",
       "      <td>25.42</td>\n",
       "      <td>28.790</td>\n",
       "      <td>83</td>\n",
       "      <td>0.0000</td>\n",
       "      <td>84</td>\n",
       "    </tr>\n",
       "    <tr>\n",
       "      <th>4</th>\n",
       "      <td>6/2/2012 12:00</td>\n",
       "      <td>Summer</td>\n",
       "      <td>0</td>\n",
       "      <td>0</td>\n",
       "      <td>Clear + Few clouds</td>\n",
       "      <td>25.42</td>\n",
       "      <td>31.060</td>\n",
       "      <td>43</td>\n",
       "      <td>23.9994</td>\n",
       "      <td>668</td>\n",
       "    </tr>\n",
       "  </tbody>\n",
       "</table>\n",
       "</div>"
      ],
      "text/plain": [
       "           datetime  season  holiday  workingday                  weather  \\\n",
       "0   5/10/2012 11:00  Summer        0           1       Clear + Few clouds   \n",
       "1     6/9/2012 7:00  Summer        0           0       Clear + Few clouds   \n",
       "2    3/6/2011 20:00  Spring        0           0   Light Snow, Light Rain   \n",
       "3  10/13/2011 11:00  Winter        0           1           Mist + Cloudy    \n",
       "4    6/2/2012 12:00  Summer        0           0       Clear + Few clouds   \n",
       "\n",
       "    temp   atemp  humidity  windspeed  Total_booking  \n",
       "0  21.32  25.000        48    35.0008            256  \n",
       "1  23.78  27.275        64     7.0015             87  \n",
       "2  11.48  12.120       100    27.9993             11  \n",
       "3  25.42  28.790        83     0.0000             84  \n",
       "4  25.42  31.060        43    23.9994            668  "
      ]
     },
     "execution_count": 8,
     "metadata": {},
     "output_type": "execute_result"
    }
   ],
   "source": [
    "Test.head()"
   ]
  },
  {
   "cell_type": "markdown",
   "id": "11003791",
   "metadata": {},
   "source": [
    "# Analyzing the data"
   ]
  },
  {
   "cell_type": "code",
   "execution_count": 9,
   "id": "c3565b9b",
   "metadata": {},
   "outputs": [
    {
     "data": {
      "text/plain": [
       "(8708, 10)"
      ]
     },
     "execution_count": 9,
     "metadata": {},
     "output_type": "execute_result"
    }
   ],
   "source": [
    "Train.shape"
   ]
  },
  {
   "cell_type": "code",
   "execution_count": 10,
   "id": "196ad392",
   "metadata": {},
   "outputs": [
    {
     "data": {
      "text/plain": [
       "(2178, 10)"
      ]
     },
     "execution_count": 10,
     "metadata": {},
     "output_type": "execute_result"
    }
   ],
   "source": [
    "Test.shape"
   ]
  },
  {
   "cell_type": "code",
   "execution_count": 11,
   "id": "a3a15fb4",
   "metadata": {},
   "outputs": [
    {
     "data": {
      "text/plain": [
       "datetime          object\n",
       "season            object\n",
       "holiday            int64\n",
       "workingday         int64\n",
       "weather           object\n",
       "temp             float64\n",
       "atemp            float64\n",
       "humidity           int64\n",
       "windspeed        float64\n",
       "Total_booking      int64\n",
       "dtype: object"
      ]
     },
     "execution_count": 11,
     "metadata": {},
     "output_type": "execute_result"
    }
   ],
   "source": [
    "Train.dtypes"
   ]
  },
  {
   "cell_type": "code",
   "execution_count": 12,
   "id": "9df0ff2f",
   "metadata": {},
   "outputs": [
    {
     "data": {
      "text/plain": [
       "datetime          object\n",
       "season            object\n",
       "holiday            int64\n",
       "workingday         int64\n",
       "weather           object\n",
       "temp             float64\n",
       "atemp            float64\n",
       "humidity           int64\n",
       "windspeed        float64\n",
       "Total_booking      int64\n",
       "dtype: object"
      ]
     },
     "execution_count": 12,
     "metadata": {},
     "output_type": "execute_result"
    }
   ],
   "source": [
    "Test.dtypes"
   ]
  },
  {
   "cell_type": "code",
   "execution_count": 13,
   "id": "58647b78",
   "metadata": {},
   "outputs": [
    {
     "data": {
      "text/plain": [
       "datetime         0\n",
       "season           0\n",
       "holiday          0\n",
       "workingday       0\n",
       "weather          0\n",
       "temp             0\n",
       "atemp            0\n",
       "humidity         0\n",
       "windspeed        0\n",
       "Total_booking    0\n",
       "dtype: int64"
      ]
     },
     "execution_count": 13,
     "metadata": {},
     "output_type": "execute_result"
    }
   ],
   "source": [
    "Train.isnull().sum()"
   ]
  },
  {
   "cell_type": "code",
   "execution_count": 14,
   "id": "a416d76d",
   "metadata": {},
   "outputs": [
    {
     "data": {
      "text/plain": [
       "datetime         0\n",
       "season           0\n",
       "holiday          0\n",
       "workingday       0\n",
       "weather          0\n",
       "temp             0\n",
       "atemp            0\n",
       "humidity         0\n",
       "windspeed        0\n",
       "Total_booking    0\n",
       "dtype: int64"
      ]
     },
     "execution_count": 14,
     "metadata": {},
     "output_type": "execute_result"
    }
   ],
   "source": [
    "Test.isnull().sum()"
   ]
  },
  {
   "cell_type": "code",
   "execution_count": 15,
   "id": "190d0bb0",
   "metadata": {},
   "outputs": [
    {
     "data": {
      "text/html": [
       "<div>\n",
       "<style scoped>\n",
       "    .dataframe tbody tr th:only-of-type {\n",
       "        vertical-align: middle;\n",
       "    }\n",
       "\n",
       "    .dataframe tbody tr th {\n",
       "        vertical-align: top;\n",
       "    }\n",
       "\n",
       "    .dataframe thead th {\n",
       "        text-align: right;\n",
       "    }\n",
       "</style>\n",
       "<table border=\"1\" class=\"dataframe\">\n",
       "  <thead>\n",
       "    <tr style=\"text-align: right;\">\n",
       "      <th></th>\n",
       "      <th>holiday</th>\n",
       "      <th>workingday</th>\n",
       "      <th>temp</th>\n",
       "      <th>atemp</th>\n",
       "      <th>humidity</th>\n",
       "      <th>windspeed</th>\n",
       "      <th>Total_booking</th>\n",
       "    </tr>\n",
       "  </thead>\n",
       "  <tbody>\n",
       "    <tr>\n",
       "      <th>count</th>\n",
       "      <td>8708.000000</td>\n",
       "      <td>8708.000000</td>\n",
       "      <td>8708.000000</td>\n",
       "      <td>8708.000000</td>\n",
       "      <td>8708.000000</td>\n",
       "      <td>8708.000000</td>\n",
       "      <td>8708.000000</td>\n",
       "    </tr>\n",
       "    <tr>\n",
       "      <th>mean</th>\n",
       "      <td>0.028480</td>\n",
       "      <td>0.680294</td>\n",
       "      <td>20.243020</td>\n",
       "      <td>23.655552</td>\n",
       "      <td>61.649173</td>\n",
       "      <td>12.843891</td>\n",
       "      <td>193.007005</td>\n",
       "    </tr>\n",
       "    <tr>\n",
       "      <th>std</th>\n",
       "      <td>0.166348</td>\n",
       "      <td>0.466389</td>\n",
       "      <td>7.813494</td>\n",
       "      <td>8.501107</td>\n",
       "      <td>19.199578</td>\n",
       "      <td>8.190314</td>\n",
       "      <td>181.552211</td>\n",
       "    </tr>\n",
       "    <tr>\n",
       "      <th>min</th>\n",
       "      <td>0.000000</td>\n",
       "      <td>0.000000</td>\n",
       "      <td>0.820000</td>\n",
       "      <td>0.760000</td>\n",
       "      <td>0.000000</td>\n",
       "      <td>0.000000</td>\n",
       "      <td>1.000000</td>\n",
       "    </tr>\n",
       "    <tr>\n",
       "      <th>25%</th>\n",
       "      <td>0.000000</td>\n",
       "      <td>0.000000</td>\n",
       "      <td>13.940000</td>\n",
       "      <td>16.665000</td>\n",
       "      <td>46.000000</td>\n",
       "      <td>7.001500</td>\n",
       "      <td>43.000000</td>\n",
       "    </tr>\n",
       "    <tr>\n",
       "      <th>50%</th>\n",
       "      <td>0.000000</td>\n",
       "      <td>1.000000</td>\n",
       "      <td>20.500000</td>\n",
       "      <td>24.240000</td>\n",
       "      <td>61.000000</td>\n",
       "      <td>12.998000</td>\n",
       "      <td>148.000000</td>\n",
       "    </tr>\n",
       "    <tr>\n",
       "      <th>75%</th>\n",
       "      <td>0.000000</td>\n",
       "      <td>1.000000</td>\n",
       "      <td>26.240000</td>\n",
       "      <td>31.060000</td>\n",
       "      <td>77.000000</td>\n",
       "      <td>16.997900</td>\n",
       "      <td>286.000000</td>\n",
       "    </tr>\n",
       "    <tr>\n",
       "      <th>max</th>\n",
       "      <td>1.000000</td>\n",
       "      <td>1.000000</td>\n",
       "      <td>41.000000</td>\n",
       "      <td>45.455000</td>\n",
       "      <td>100.000000</td>\n",
       "      <td>56.996900</td>\n",
       "      <td>977.000000</td>\n",
       "    </tr>\n",
       "  </tbody>\n",
       "</table>\n",
       "</div>"
      ],
      "text/plain": [
       "           holiday   workingday         temp        atemp     humidity  \\\n",
       "count  8708.000000  8708.000000  8708.000000  8708.000000  8708.000000   \n",
       "mean      0.028480     0.680294    20.243020    23.655552    61.649173   \n",
       "std       0.166348     0.466389     7.813494     8.501107    19.199578   \n",
       "min       0.000000     0.000000     0.820000     0.760000     0.000000   \n",
       "25%       0.000000     0.000000    13.940000    16.665000    46.000000   \n",
       "50%       0.000000     1.000000    20.500000    24.240000    61.000000   \n",
       "75%       0.000000     1.000000    26.240000    31.060000    77.000000   \n",
       "max       1.000000     1.000000    41.000000    45.455000   100.000000   \n",
       "\n",
       "         windspeed  Total_booking  \n",
       "count  8708.000000    8708.000000  \n",
       "mean     12.843891     193.007005  \n",
       "std       8.190314     181.552211  \n",
       "min       0.000000       1.000000  \n",
       "25%       7.001500      43.000000  \n",
       "50%      12.998000     148.000000  \n",
       "75%      16.997900     286.000000  \n",
       "max      56.996900     977.000000  "
      ]
     },
     "execution_count": 15,
     "metadata": {},
     "output_type": "execute_result"
    }
   ],
   "source": [
    "Train.describe()"
   ]
  },
  {
   "cell_type": "markdown",
   "id": "ebcee7f3",
   "metadata": {},
   "source": [
    "Train and test data have zero null values"
   ]
  },
  {
   "cell_type": "markdown",
   "id": "2f6f69da",
   "metadata": {},
   "source": [
    "# Feature Engineering"
   ]
  },
  {
   "cell_type": "markdown",
   "id": "e734bd38",
   "metadata": {},
   "source": [
    "we have to perform feature engineering on both the data so the both the data look same way"
   ]
  },
  {
   "cell_type": "code",
   "execution_count": 16,
   "id": "f527c7af",
   "metadata": {},
   "outputs": [
    {
     "data": {
      "text/html": [
       "<div>\n",
       "<style scoped>\n",
       "    .dataframe tbody tr th:only-of-type {\n",
       "        vertical-align: middle;\n",
       "    }\n",
       "\n",
       "    .dataframe tbody tr th {\n",
       "        vertical-align: top;\n",
       "    }\n",
       "\n",
       "    .dataframe thead th {\n",
       "        text-align: right;\n",
       "    }\n",
       "</style>\n",
       "<table border=\"1\" class=\"dataframe\">\n",
       "  <thead>\n",
       "    <tr style=\"text-align: right;\">\n",
       "      <th></th>\n",
       "      <th>datetime</th>\n",
       "      <th>season</th>\n",
       "      <th>holiday</th>\n",
       "      <th>workingday</th>\n",
       "      <th>weather</th>\n",
       "      <th>temp</th>\n",
       "      <th>atemp</th>\n",
       "      <th>humidity</th>\n",
       "      <th>windspeed</th>\n",
       "      <th>Total_booking</th>\n",
       "    </tr>\n",
       "  </thead>\n",
       "  <tbody>\n",
       "    <tr>\n",
       "      <th>0</th>\n",
       "      <td>5/2/2012 19:00</td>\n",
       "      <td>Summer</td>\n",
       "      <td>0</td>\n",
       "      <td>1</td>\n",
       "      <td>Clear + Few clouds</td>\n",
       "      <td>22.14</td>\n",
       "      <td>25.760</td>\n",
       "      <td>77</td>\n",
       "      <td>16.9979</td>\n",
       "      <td>504</td>\n",
       "    </tr>\n",
       "    <tr>\n",
       "      <th>1</th>\n",
       "      <td>9/5/2012 4:00</td>\n",
       "      <td>Fall</td>\n",
       "      <td>0</td>\n",
       "      <td>1</td>\n",
       "      <td>Clear + Few clouds</td>\n",
       "      <td>28.70</td>\n",
       "      <td>33.335</td>\n",
       "      <td>79</td>\n",
       "      <td>19.0012</td>\n",
       "      <td>5</td>\n",
       "    </tr>\n",
       "    <tr>\n",
       "      <th>2</th>\n",
       "      <td>1/13/2011 9:00</td>\n",
       "      <td>Spring</td>\n",
       "      <td>0</td>\n",
       "      <td>1</td>\n",
       "      <td>Clear + Few clouds</td>\n",
       "      <td>5.74</td>\n",
       "      <td>6.060</td>\n",
       "      <td>50</td>\n",
       "      <td>22.0028</td>\n",
       "      <td>139</td>\n",
       "    </tr>\n",
       "    <tr>\n",
       "      <th>3</th>\n",
       "      <td>11/18/2011 16:00</td>\n",
       "      <td>Winter</td>\n",
       "      <td>0</td>\n",
       "      <td>1</td>\n",
       "      <td>Clear + Few clouds</td>\n",
       "      <td>13.94</td>\n",
       "      <td>16.665</td>\n",
       "      <td>29</td>\n",
       "      <td>8.9981</td>\n",
       "      <td>209</td>\n",
       "    </tr>\n",
       "    <tr>\n",
       "      <th>4</th>\n",
       "      <td>9/13/2011 13:00</td>\n",
       "      <td>Fall</td>\n",
       "      <td>0</td>\n",
       "      <td>1</td>\n",
       "      <td>Clear + Few clouds</td>\n",
       "      <td>30.34</td>\n",
       "      <td>33.335</td>\n",
       "      <td>51</td>\n",
       "      <td>19.0012</td>\n",
       "      <td>184</td>\n",
       "    </tr>\n",
       "  </tbody>\n",
       "</table>\n",
       "</div>"
      ],
      "text/plain": [
       "           datetime  season  holiday  workingday              weather   temp  \\\n",
       "0    5/2/2012 19:00  Summer        0           1   Clear + Few clouds  22.14   \n",
       "1     9/5/2012 4:00    Fall        0           1   Clear + Few clouds  28.70   \n",
       "2    1/13/2011 9:00  Spring        0           1   Clear + Few clouds   5.74   \n",
       "3  11/18/2011 16:00  Winter        0           1   Clear + Few clouds  13.94   \n",
       "4   9/13/2011 13:00    Fall        0           1   Clear + Few clouds  30.34   \n",
       "\n",
       "    atemp  humidity  windspeed  Total_booking  \n",
       "0  25.760        77    16.9979            504  \n",
       "1  33.335        79    19.0012              5  \n",
       "2   6.060        50    22.0028            139  \n",
       "3  16.665        29     8.9981            209  \n",
       "4  33.335        51    19.0012            184  "
      ]
     },
     "execution_count": 16,
     "metadata": {},
     "output_type": "execute_result"
    }
   ],
   "source": [
    "Train.head()"
   ]
  },
  {
   "cell_type": "code",
   "execution_count": 17,
   "id": "f20df7c1",
   "metadata": {},
   "outputs": [],
   "source": [
    "Train['date'] = pd.to_datetime(Train['datetime'])"
   ]
  },
  {
   "cell_type": "code",
   "execution_count": 18,
   "id": "43102e70",
   "metadata": {},
   "outputs": [
    {
     "data": {
      "text/html": [
       "<div>\n",
       "<style scoped>\n",
       "    .dataframe tbody tr th:only-of-type {\n",
       "        vertical-align: middle;\n",
       "    }\n",
       "\n",
       "    .dataframe tbody tr th {\n",
       "        vertical-align: top;\n",
       "    }\n",
       "\n",
       "    .dataframe thead th {\n",
       "        text-align: right;\n",
       "    }\n",
       "</style>\n",
       "<table border=\"1\" class=\"dataframe\">\n",
       "  <thead>\n",
       "    <tr style=\"text-align: right;\">\n",
       "      <th></th>\n",
       "      <th>datetime</th>\n",
       "      <th>season</th>\n",
       "      <th>holiday</th>\n",
       "      <th>workingday</th>\n",
       "      <th>weather</th>\n",
       "      <th>temp</th>\n",
       "      <th>atemp</th>\n",
       "      <th>humidity</th>\n",
       "      <th>windspeed</th>\n",
       "      <th>Total_booking</th>\n",
       "      <th>date</th>\n",
       "    </tr>\n",
       "  </thead>\n",
       "  <tbody>\n",
       "    <tr>\n",
       "      <th>0</th>\n",
       "      <td>5/2/2012 19:00</td>\n",
       "      <td>Summer</td>\n",
       "      <td>0</td>\n",
       "      <td>1</td>\n",
       "      <td>Clear + Few clouds</td>\n",
       "      <td>22.14</td>\n",
       "      <td>25.760</td>\n",
       "      <td>77</td>\n",
       "      <td>16.9979</td>\n",
       "      <td>504</td>\n",
       "      <td>2012-05-02 19:00:00</td>\n",
       "    </tr>\n",
       "    <tr>\n",
       "      <th>1</th>\n",
       "      <td>9/5/2012 4:00</td>\n",
       "      <td>Fall</td>\n",
       "      <td>0</td>\n",
       "      <td>1</td>\n",
       "      <td>Clear + Few clouds</td>\n",
       "      <td>28.70</td>\n",
       "      <td>33.335</td>\n",
       "      <td>79</td>\n",
       "      <td>19.0012</td>\n",
       "      <td>5</td>\n",
       "      <td>2012-09-05 04:00:00</td>\n",
       "    </tr>\n",
       "    <tr>\n",
       "      <th>2</th>\n",
       "      <td>1/13/2011 9:00</td>\n",
       "      <td>Spring</td>\n",
       "      <td>0</td>\n",
       "      <td>1</td>\n",
       "      <td>Clear + Few clouds</td>\n",
       "      <td>5.74</td>\n",
       "      <td>6.060</td>\n",
       "      <td>50</td>\n",
       "      <td>22.0028</td>\n",
       "      <td>139</td>\n",
       "      <td>2011-01-13 09:00:00</td>\n",
       "    </tr>\n",
       "    <tr>\n",
       "      <th>3</th>\n",
       "      <td>11/18/2011 16:00</td>\n",
       "      <td>Winter</td>\n",
       "      <td>0</td>\n",
       "      <td>1</td>\n",
       "      <td>Clear + Few clouds</td>\n",
       "      <td>13.94</td>\n",
       "      <td>16.665</td>\n",
       "      <td>29</td>\n",
       "      <td>8.9981</td>\n",
       "      <td>209</td>\n",
       "      <td>2011-11-18 16:00:00</td>\n",
       "    </tr>\n",
       "    <tr>\n",
       "      <th>4</th>\n",
       "      <td>9/13/2011 13:00</td>\n",
       "      <td>Fall</td>\n",
       "      <td>0</td>\n",
       "      <td>1</td>\n",
       "      <td>Clear + Few clouds</td>\n",
       "      <td>30.34</td>\n",
       "      <td>33.335</td>\n",
       "      <td>51</td>\n",
       "      <td>19.0012</td>\n",
       "      <td>184</td>\n",
       "      <td>2011-09-13 13:00:00</td>\n",
       "    </tr>\n",
       "  </tbody>\n",
       "</table>\n",
       "</div>"
      ],
      "text/plain": [
       "           datetime  season  holiday  workingday              weather   temp  \\\n",
       "0    5/2/2012 19:00  Summer        0           1   Clear + Few clouds  22.14   \n",
       "1     9/5/2012 4:00    Fall        0           1   Clear + Few clouds  28.70   \n",
       "2    1/13/2011 9:00  Spring        0           1   Clear + Few clouds   5.74   \n",
       "3  11/18/2011 16:00  Winter        0           1   Clear + Few clouds  13.94   \n",
       "4   9/13/2011 13:00    Fall        0           1   Clear + Few clouds  30.34   \n",
       "\n",
       "    atemp  humidity  windspeed  Total_booking                date  \n",
       "0  25.760        77    16.9979            504 2012-05-02 19:00:00  \n",
       "1  33.335        79    19.0012              5 2012-09-05 04:00:00  \n",
       "2   6.060        50    22.0028            139 2011-01-13 09:00:00  \n",
       "3  16.665        29     8.9981            209 2011-11-18 16:00:00  \n",
       "4  33.335        51    19.0012            184 2011-09-13 13:00:00  "
      ]
     },
     "execution_count": 18,
     "metadata": {},
     "output_type": "execute_result"
    }
   ],
   "source": [
    "Train.head()"
   ]
  },
  {
   "cell_type": "code",
   "execution_count": 19,
   "id": "ebee4806",
   "metadata": {},
   "outputs": [],
   "source": [
    "Train.drop(['datetime'],inplace=True,axis=1)"
   ]
  },
  {
   "cell_type": "code",
   "execution_count": 20,
   "id": "a3180fb4",
   "metadata": {},
   "outputs": [
    {
     "data": {
      "text/html": [
       "<div>\n",
       "<style scoped>\n",
       "    .dataframe tbody tr th:only-of-type {\n",
       "        vertical-align: middle;\n",
       "    }\n",
       "\n",
       "    .dataframe tbody tr th {\n",
       "        vertical-align: top;\n",
       "    }\n",
       "\n",
       "    .dataframe thead th {\n",
       "        text-align: right;\n",
       "    }\n",
       "</style>\n",
       "<table border=\"1\" class=\"dataframe\">\n",
       "  <thead>\n",
       "    <tr style=\"text-align: right;\">\n",
       "      <th></th>\n",
       "      <th>season</th>\n",
       "      <th>holiday</th>\n",
       "      <th>workingday</th>\n",
       "      <th>weather</th>\n",
       "      <th>temp</th>\n",
       "      <th>atemp</th>\n",
       "      <th>humidity</th>\n",
       "      <th>windspeed</th>\n",
       "      <th>Total_booking</th>\n",
       "      <th>date</th>\n",
       "    </tr>\n",
       "  </thead>\n",
       "  <tbody>\n",
       "    <tr>\n",
       "      <th>0</th>\n",
       "      <td>Summer</td>\n",
       "      <td>0</td>\n",
       "      <td>1</td>\n",
       "      <td>Clear + Few clouds</td>\n",
       "      <td>22.14</td>\n",
       "      <td>25.760</td>\n",
       "      <td>77</td>\n",
       "      <td>16.9979</td>\n",
       "      <td>504</td>\n",
       "      <td>2012-05-02 19:00:00</td>\n",
       "    </tr>\n",
       "    <tr>\n",
       "      <th>1</th>\n",
       "      <td>Fall</td>\n",
       "      <td>0</td>\n",
       "      <td>1</td>\n",
       "      <td>Clear + Few clouds</td>\n",
       "      <td>28.70</td>\n",
       "      <td>33.335</td>\n",
       "      <td>79</td>\n",
       "      <td>19.0012</td>\n",
       "      <td>5</td>\n",
       "      <td>2012-09-05 04:00:00</td>\n",
       "    </tr>\n",
       "    <tr>\n",
       "      <th>2</th>\n",
       "      <td>Spring</td>\n",
       "      <td>0</td>\n",
       "      <td>1</td>\n",
       "      <td>Clear + Few clouds</td>\n",
       "      <td>5.74</td>\n",
       "      <td>6.060</td>\n",
       "      <td>50</td>\n",
       "      <td>22.0028</td>\n",
       "      <td>139</td>\n",
       "      <td>2011-01-13 09:00:00</td>\n",
       "    </tr>\n",
       "    <tr>\n",
       "      <th>3</th>\n",
       "      <td>Winter</td>\n",
       "      <td>0</td>\n",
       "      <td>1</td>\n",
       "      <td>Clear + Few clouds</td>\n",
       "      <td>13.94</td>\n",
       "      <td>16.665</td>\n",
       "      <td>29</td>\n",
       "      <td>8.9981</td>\n",
       "      <td>209</td>\n",
       "      <td>2011-11-18 16:00:00</td>\n",
       "    </tr>\n",
       "    <tr>\n",
       "      <th>4</th>\n",
       "      <td>Fall</td>\n",
       "      <td>0</td>\n",
       "      <td>1</td>\n",
       "      <td>Clear + Few clouds</td>\n",
       "      <td>30.34</td>\n",
       "      <td>33.335</td>\n",
       "      <td>51</td>\n",
       "      <td>19.0012</td>\n",
       "      <td>184</td>\n",
       "      <td>2011-09-13 13:00:00</td>\n",
       "    </tr>\n",
       "  </tbody>\n",
       "</table>\n",
       "</div>"
      ],
      "text/plain": [
       "   season  holiday  workingday              weather   temp   atemp  humidity  \\\n",
       "0  Summer        0           1   Clear + Few clouds  22.14  25.760        77   \n",
       "1    Fall        0           1   Clear + Few clouds  28.70  33.335        79   \n",
       "2  Spring        0           1   Clear + Few clouds   5.74   6.060        50   \n",
       "3  Winter        0           1   Clear + Few clouds  13.94  16.665        29   \n",
       "4    Fall        0           1   Clear + Few clouds  30.34  33.335        51   \n",
       "\n",
       "   windspeed  Total_booking                date  \n",
       "0    16.9979            504 2012-05-02 19:00:00  \n",
       "1    19.0012              5 2012-09-05 04:00:00  \n",
       "2    22.0028            139 2011-01-13 09:00:00  \n",
       "3     8.9981            209 2011-11-18 16:00:00  \n",
       "4    19.0012            184 2011-09-13 13:00:00  "
      ]
     },
     "execution_count": 20,
     "metadata": {},
     "output_type": "execute_result"
    }
   ],
   "source": [
    "Train.head()"
   ]
  },
  {
   "cell_type": "code",
   "execution_count": 21,
   "id": "75734555",
   "metadata": {},
   "outputs": [],
   "source": [
    "Train['year'] = pd.to_datetime(Train['date']).dt.year\n",
    "Train['month'] = pd.to_datetime(Train['date']).dt.month_name()\n",
    "Train['hour'] = pd.to_datetime(Train['date']).dt.hour\n",
    "Train['weekday'] = pd.to_datetime(Train['date']).dt.day_name()\n"
   ]
  },
  {
   "cell_type": "code",
   "execution_count": 22,
   "id": "c80841d5",
   "metadata": {},
   "outputs": [
    {
     "data": {
      "text/html": [
       "<div>\n",
       "<style scoped>\n",
       "    .dataframe tbody tr th:only-of-type {\n",
       "        vertical-align: middle;\n",
       "    }\n",
       "\n",
       "    .dataframe tbody tr th {\n",
       "        vertical-align: top;\n",
       "    }\n",
       "\n",
       "    .dataframe thead th {\n",
       "        text-align: right;\n",
       "    }\n",
       "</style>\n",
       "<table border=\"1\" class=\"dataframe\">\n",
       "  <thead>\n",
       "    <tr style=\"text-align: right;\">\n",
       "      <th></th>\n",
       "      <th>season</th>\n",
       "      <th>holiday</th>\n",
       "      <th>workingday</th>\n",
       "      <th>weather</th>\n",
       "      <th>temp</th>\n",
       "      <th>atemp</th>\n",
       "      <th>humidity</th>\n",
       "      <th>windspeed</th>\n",
       "      <th>Total_booking</th>\n",
       "      <th>date</th>\n",
       "      <th>year</th>\n",
       "      <th>month</th>\n",
       "      <th>hour</th>\n",
       "      <th>weekday</th>\n",
       "    </tr>\n",
       "  </thead>\n",
       "  <tbody>\n",
       "    <tr>\n",
       "      <th>0</th>\n",
       "      <td>Summer</td>\n",
       "      <td>0</td>\n",
       "      <td>1</td>\n",
       "      <td>Clear + Few clouds</td>\n",
       "      <td>22.14</td>\n",
       "      <td>25.760</td>\n",
       "      <td>77</td>\n",
       "      <td>16.9979</td>\n",
       "      <td>504</td>\n",
       "      <td>2012-05-02 19:00:00</td>\n",
       "      <td>2012</td>\n",
       "      <td>May</td>\n",
       "      <td>19</td>\n",
       "      <td>Wednesday</td>\n",
       "    </tr>\n",
       "    <tr>\n",
       "      <th>1</th>\n",
       "      <td>Fall</td>\n",
       "      <td>0</td>\n",
       "      <td>1</td>\n",
       "      <td>Clear + Few clouds</td>\n",
       "      <td>28.70</td>\n",
       "      <td>33.335</td>\n",
       "      <td>79</td>\n",
       "      <td>19.0012</td>\n",
       "      <td>5</td>\n",
       "      <td>2012-09-05 04:00:00</td>\n",
       "      <td>2012</td>\n",
       "      <td>September</td>\n",
       "      <td>4</td>\n",
       "      <td>Wednesday</td>\n",
       "    </tr>\n",
       "    <tr>\n",
       "      <th>2</th>\n",
       "      <td>Spring</td>\n",
       "      <td>0</td>\n",
       "      <td>1</td>\n",
       "      <td>Clear + Few clouds</td>\n",
       "      <td>5.74</td>\n",
       "      <td>6.060</td>\n",
       "      <td>50</td>\n",
       "      <td>22.0028</td>\n",
       "      <td>139</td>\n",
       "      <td>2011-01-13 09:00:00</td>\n",
       "      <td>2011</td>\n",
       "      <td>January</td>\n",
       "      <td>9</td>\n",
       "      <td>Thursday</td>\n",
       "    </tr>\n",
       "    <tr>\n",
       "      <th>3</th>\n",
       "      <td>Winter</td>\n",
       "      <td>0</td>\n",
       "      <td>1</td>\n",
       "      <td>Clear + Few clouds</td>\n",
       "      <td>13.94</td>\n",
       "      <td>16.665</td>\n",
       "      <td>29</td>\n",
       "      <td>8.9981</td>\n",
       "      <td>209</td>\n",
       "      <td>2011-11-18 16:00:00</td>\n",
       "      <td>2011</td>\n",
       "      <td>November</td>\n",
       "      <td>16</td>\n",
       "      <td>Friday</td>\n",
       "    </tr>\n",
       "    <tr>\n",
       "      <th>4</th>\n",
       "      <td>Fall</td>\n",
       "      <td>0</td>\n",
       "      <td>1</td>\n",
       "      <td>Clear + Few clouds</td>\n",
       "      <td>30.34</td>\n",
       "      <td>33.335</td>\n",
       "      <td>51</td>\n",
       "      <td>19.0012</td>\n",
       "      <td>184</td>\n",
       "      <td>2011-09-13 13:00:00</td>\n",
       "      <td>2011</td>\n",
       "      <td>September</td>\n",
       "      <td>13</td>\n",
       "      <td>Tuesday</td>\n",
       "    </tr>\n",
       "  </tbody>\n",
       "</table>\n",
       "</div>"
      ],
      "text/plain": [
       "   season  holiday  workingday              weather   temp   atemp  humidity  \\\n",
       "0  Summer        0           1   Clear + Few clouds  22.14  25.760        77   \n",
       "1    Fall        0           1   Clear + Few clouds  28.70  33.335        79   \n",
       "2  Spring        0           1   Clear + Few clouds   5.74   6.060        50   \n",
       "3  Winter        0           1   Clear + Few clouds  13.94  16.665        29   \n",
       "4    Fall        0           1   Clear + Few clouds  30.34  33.335        51   \n",
       "\n",
       "   windspeed  Total_booking                date  year      month  hour  \\\n",
       "0    16.9979            504 2012-05-02 19:00:00  2012        May    19   \n",
       "1    19.0012              5 2012-09-05 04:00:00  2012  September     4   \n",
       "2    22.0028            139 2011-01-13 09:00:00  2011    January     9   \n",
       "3     8.9981            209 2011-11-18 16:00:00  2011   November    16   \n",
       "4    19.0012            184 2011-09-13 13:00:00  2011  September    13   \n",
       "\n",
       "     weekday  \n",
       "0  Wednesday  \n",
       "1  Wednesday  \n",
       "2   Thursday  \n",
       "3     Friday  \n",
       "4    Tuesday  "
      ]
     },
     "execution_count": 22,
     "metadata": {},
     "output_type": "execute_result"
    }
   ],
   "source": [
    "Train.head()"
   ]
  },
  {
   "cell_type": "code",
   "execution_count": 23,
   "id": "4e0f26b0",
   "metadata": {},
   "outputs": [
    {
     "data": {
      "text/plain": [
       "Index(['season', 'holiday', 'workingday', 'weather', 'temp', 'atemp',\n",
       "       'humidity', 'windspeed', 'Total_booking', 'date', 'year', 'month',\n",
       "       'hour', 'weekday'],\n",
       "      dtype='object')"
      ]
     },
     "execution_count": 23,
     "metadata": {},
     "output_type": "execute_result"
    }
   ],
   "source": [
    "Train.columns"
   ]
  },
  {
   "cell_type": "code",
   "execution_count": 24,
   "id": "6915a877",
   "metadata": {},
   "outputs": [],
   "source": [
    "Train[['season', 'holiday', 'workingday', 'weather']] = Train[['season', 'holiday', 'workingday', 'weather']].astype('category')"
   ]
  },
  {
   "cell_type": "code",
   "execution_count": 25,
   "id": "fce653ce",
   "metadata": {},
   "outputs": [
    {
     "data": {
      "text/plain": [
       "season                 category\n",
       "holiday                category\n",
       "workingday             category\n",
       "weather                category\n",
       "temp                    float64\n",
       "atemp                   float64\n",
       "humidity                  int64\n",
       "windspeed               float64\n",
       "Total_booking             int64\n",
       "date             datetime64[ns]\n",
       "year                      int64\n",
       "month                    object\n",
       "hour                      int64\n",
       "weekday                  object\n",
       "dtype: object"
      ]
     },
     "execution_count": 25,
     "metadata": {},
     "output_type": "execute_result"
    }
   ],
   "source": [
    "Train.dtypes"
   ]
  },
  {
   "cell_type": "markdown",
   "id": "6148a720",
   "metadata": {},
   "source": [
    "On Test Data"
   ]
  },
  {
   "cell_type": "code",
   "execution_count": 26,
   "id": "f8e0e2de",
   "metadata": {},
   "outputs": [],
   "source": [
    "Test['date'] = pd.to_datetime(Test['datetime'])"
   ]
  },
  {
   "cell_type": "code",
   "execution_count": 27,
   "id": "fa5eafc1",
   "metadata": {},
   "outputs": [],
   "source": [
    "Test['year'] = pd.to_datetime(Test['date']).dt.year\n",
    "Test['month'] = pd.to_datetime(Test['date']).dt.month_name()\n",
    "Test['hour'] = pd.to_datetime(Test['date']).dt.hour\n",
    "Test['weekday'] = pd.to_datetime(Test['date']).dt.day_name()"
   ]
  },
  {
   "cell_type": "code",
   "execution_count": 28,
   "id": "d7ba0ba0",
   "metadata": {},
   "outputs": [
    {
     "data": {
      "text/html": [
       "<div>\n",
       "<style scoped>\n",
       "    .dataframe tbody tr th:only-of-type {\n",
       "        vertical-align: middle;\n",
       "    }\n",
       "\n",
       "    .dataframe tbody tr th {\n",
       "        vertical-align: top;\n",
       "    }\n",
       "\n",
       "    .dataframe thead th {\n",
       "        text-align: right;\n",
       "    }\n",
       "</style>\n",
       "<table border=\"1\" class=\"dataframe\">\n",
       "  <thead>\n",
       "    <tr style=\"text-align: right;\">\n",
       "      <th></th>\n",
       "      <th>datetime</th>\n",
       "      <th>season</th>\n",
       "      <th>holiday</th>\n",
       "      <th>workingday</th>\n",
       "      <th>weather</th>\n",
       "      <th>temp</th>\n",
       "      <th>atemp</th>\n",
       "      <th>humidity</th>\n",
       "      <th>windspeed</th>\n",
       "      <th>Total_booking</th>\n",
       "      <th>date</th>\n",
       "      <th>year</th>\n",
       "      <th>month</th>\n",
       "      <th>hour</th>\n",
       "      <th>weekday</th>\n",
       "    </tr>\n",
       "  </thead>\n",
       "  <tbody>\n",
       "    <tr>\n",
       "      <th>0</th>\n",
       "      <td>5/10/2012 11:00</td>\n",
       "      <td>Summer</td>\n",
       "      <td>0</td>\n",
       "      <td>1</td>\n",
       "      <td>Clear + Few clouds</td>\n",
       "      <td>21.32</td>\n",
       "      <td>25.000</td>\n",
       "      <td>48</td>\n",
       "      <td>35.0008</td>\n",
       "      <td>256</td>\n",
       "      <td>2012-05-10 11:00:00</td>\n",
       "      <td>2012</td>\n",
       "      <td>May</td>\n",
       "      <td>11</td>\n",
       "      <td>Thursday</td>\n",
       "    </tr>\n",
       "    <tr>\n",
       "      <th>1</th>\n",
       "      <td>6/9/2012 7:00</td>\n",
       "      <td>Summer</td>\n",
       "      <td>0</td>\n",
       "      <td>0</td>\n",
       "      <td>Clear + Few clouds</td>\n",
       "      <td>23.78</td>\n",
       "      <td>27.275</td>\n",
       "      <td>64</td>\n",
       "      <td>7.0015</td>\n",
       "      <td>87</td>\n",
       "      <td>2012-06-09 07:00:00</td>\n",
       "      <td>2012</td>\n",
       "      <td>June</td>\n",
       "      <td>7</td>\n",
       "      <td>Saturday</td>\n",
       "    </tr>\n",
       "    <tr>\n",
       "      <th>2</th>\n",
       "      <td>3/6/2011 20:00</td>\n",
       "      <td>Spring</td>\n",
       "      <td>0</td>\n",
       "      <td>0</td>\n",
       "      <td>Light Snow, Light Rain</td>\n",
       "      <td>11.48</td>\n",
       "      <td>12.120</td>\n",
       "      <td>100</td>\n",
       "      <td>27.9993</td>\n",
       "      <td>11</td>\n",
       "      <td>2011-03-06 20:00:00</td>\n",
       "      <td>2011</td>\n",
       "      <td>March</td>\n",
       "      <td>20</td>\n",
       "      <td>Sunday</td>\n",
       "    </tr>\n",
       "    <tr>\n",
       "      <th>3</th>\n",
       "      <td>10/13/2011 11:00</td>\n",
       "      <td>Winter</td>\n",
       "      <td>0</td>\n",
       "      <td>1</td>\n",
       "      <td>Mist + Cloudy</td>\n",
       "      <td>25.42</td>\n",
       "      <td>28.790</td>\n",
       "      <td>83</td>\n",
       "      <td>0.0000</td>\n",
       "      <td>84</td>\n",
       "      <td>2011-10-13 11:00:00</td>\n",
       "      <td>2011</td>\n",
       "      <td>October</td>\n",
       "      <td>11</td>\n",
       "      <td>Thursday</td>\n",
       "    </tr>\n",
       "    <tr>\n",
       "      <th>4</th>\n",
       "      <td>6/2/2012 12:00</td>\n",
       "      <td>Summer</td>\n",
       "      <td>0</td>\n",
       "      <td>0</td>\n",
       "      <td>Clear + Few clouds</td>\n",
       "      <td>25.42</td>\n",
       "      <td>31.060</td>\n",
       "      <td>43</td>\n",
       "      <td>23.9994</td>\n",
       "      <td>668</td>\n",
       "      <td>2012-06-02 12:00:00</td>\n",
       "      <td>2012</td>\n",
       "      <td>June</td>\n",
       "      <td>12</td>\n",
       "      <td>Saturday</td>\n",
       "    </tr>\n",
       "  </tbody>\n",
       "</table>\n",
       "</div>"
      ],
      "text/plain": [
       "           datetime  season  holiday  workingday                  weather  \\\n",
       "0   5/10/2012 11:00  Summer        0           1       Clear + Few clouds   \n",
       "1     6/9/2012 7:00  Summer        0           0       Clear + Few clouds   \n",
       "2    3/6/2011 20:00  Spring        0           0   Light Snow, Light Rain   \n",
       "3  10/13/2011 11:00  Winter        0           1           Mist + Cloudy    \n",
       "4    6/2/2012 12:00  Summer        0           0       Clear + Few clouds   \n",
       "\n",
       "    temp   atemp  humidity  windspeed  Total_booking                date  \\\n",
       "0  21.32  25.000        48    35.0008            256 2012-05-10 11:00:00   \n",
       "1  23.78  27.275        64     7.0015             87 2012-06-09 07:00:00   \n",
       "2  11.48  12.120       100    27.9993             11 2011-03-06 20:00:00   \n",
       "3  25.42  28.790        83     0.0000             84 2011-10-13 11:00:00   \n",
       "4  25.42  31.060        43    23.9994            668 2012-06-02 12:00:00   \n",
       "\n",
       "   year    month  hour   weekday  \n",
       "0  2012      May    11  Thursday  \n",
       "1  2012     June     7  Saturday  \n",
       "2  2011    March    20    Sunday  \n",
       "3  2011  October    11  Thursday  \n",
       "4  2012     June    12  Saturday  "
      ]
     },
     "execution_count": 28,
     "metadata": {},
     "output_type": "execute_result"
    }
   ],
   "source": [
    "Test.head()"
   ]
  },
  {
   "cell_type": "code",
   "execution_count": 29,
   "id": "cc7aca56",
   "metadata": {},
   "outputs": [],
   "source": [
    "Test[['season', 'holiday', 'workingday', 'weather']] = Test[['season', 'holiday', 'workingday', 'weather']].astype('category')"
   ]
  },
  {
   "cell_type": "code",
   "execution_count": 30,
   "id": "91f213db",
   "metadata": {},
   "outputs": [
    {
     "data": {
      "text/plain": [
       "datetime                 object\n",
       "season                 category\n",
       "holiday                category\n",
       "workingday             category\n",
       "weather                category\n",
       "temp                    float64\n",
       "atemp                   float64\n",
       "humidity                  int64\n",
       "windspeed               float64\n",
       "Total_booking             int64\n",
       "date             datetime64[ns]\n",
       "year                      int64\n",
       "month                    object\n",
       "hour                      int64\n",
       "weekday                  object\n",
       "dtype: object"
      ]
     },
     "execution_count": 30,
     "metadata": {},
     "output_type": "execute_result"
    }
   ],
   "source": [
    "Test.dtypes"
   ]
  },
  {
   "cell_type": "code",
   "execution_count": 31,
   "id": "3ca264a9",
   "metadata": {},
   "outputs": [
    {
     "data": {
      "text/html": [
       "<div>\n",
       "<style scoped>\n",
       "    .dataframe tbody tr th:only-of-type {\n",
       "        vertical-align: middle;\n",
       "    }\n",
       "\n",
       "    .dataframe tbody tr th {\n",
       "        vertical-align: top;\n",
       "    }\n",
       "\n",
       "    .dataframe thead th {\n",
       "        text-align: right;\n",
       "    }\n",
       "</style>\n",
       "<table border=\"1\" class=\"dataframe\">\n",
       "  <thead>\n",
       "    <tr style=\"text-align: right;\">\n",
       "      <th></th>\n",
       "      <th>datetime</th>\n",
       "      <th>season</th>\n",
       "      <th>holiday</th>\n",
       "      <th>workingday</th>\n",
       "      <th>weather</th>\n",
       "      <th>temp</th>\n",
       "      <th>atemp</th>\n",
       "      <th>humidity</th>\n",
       "      <th>windspeed</th>\n",
       "      <th>Total_booking</th>\n",
       "      <th>date</th>\n",
       "      <th>year</th>\n",
       "      <th>month</th>\n",
       "      <th>hour</th>\n",
       "      <th>weekday</th>\n",
       "    </tr>\n",
       "  </thead>\n",
       "  <tbody>\n",
       "    <tr>\n",
       "      <th>0</th>\n",
       "      <td>5/10/2012 11:00</td>\n",
       "      <td>Summer</td>\n",
       "      <td>0</td>\n",
       "      <td>1</td>\n",
       "      <td>Clear + Few clouds</td>\n",
       "      <td>21.32</td>\n",
       "      <td>25.000</td>\n",
       "      <td>48</td>\n",
       "      <td>35.0008</td>\n",
       "      <td>256</td>\n",
       "      <td>2012-05-10 11:00:00</td>\n",
       "      <td>2012</td>\n",
       "      <td>May</td>\n",
       "      <td>11</td>\n",
       "      <td>Thursday</td>\n",
       "    </tr>\n",
       "    <tr>\n",
       "      <th>1</th>\n",
       "      <td>6/9/2012 7:00</td>\n",
       "      <td>Summer</td>\n",
       "      <td>0</td>\n",
       "      <td>0</td>\n",
       "      <td>Clear + Few clouds</td>\n",
       "      <td>23.78</td>\n",
       "      <td>27.275</td>\n",
       "      <td>64</td>\n",
       "      <td>7.0015</td>\n",
       "      <td>87</td>\n",
       "      <td>2012-06-09 07:00:00</td>\n",
       "      <td>2012</td>\n",
       "      <td>June</td>\n",
       "      <td>7</td>\n",
       "      <td>Saturday</td>\n",
       "    </tr>\n",
       "    <tr>\n",
       "      <th>2</th>\n",
       "      <td>3/6/2011 20:00</td>\n",
       "      <td>Spring</td>\n",
       "      <td>0</td>\n",
       "      <td>0</td>\n",
       "      <td>Light Snow, Light Rain</td>\n",
       "      <td>11.48</td>\n",
       "      <td>12.120</td>\n",
       "      <td>100</td>\n",
       "      <td>27.9993</td>\n",
       "      <td>11</td>\n",
       "      <td>2011-03-06 20:00:00</td>\n",
       "      <td>2011</td>\n",
       "      <td>March</td>\n",
       "      <td>20</td>\n",
       "      <td>Sunday</td>\n",
       "    </tr>\n",
       "    <tr>\n",
       "      <th>3</th>\n",
       "      <td>10/13/2011 11:00</td>\n",
       "      <td>Winter</td>\n",
       "      <td>0</td>\n",
       "      <td>1</td>\n",
       "      <td>Mist + Cloudy</td>\n",
       "      <td>25.42</td>\n",
       "      <td>28.790</td>\n",
       "      <td>83</td>\n",
       "      <td>0.0000</td>\n",
       "      <td>84</td>\n",
       "      <td>2011-10-13 11:00:00</td>\n",
       "      <td>2011</td>\n",
       "      <td>October</td>\n",
       "      <td>11</td>\n",
       "      <td>Thursday</td>\n",
       "    </tr>\n",
       "    <tr>\n",
       "      <th>4</th>\n",
       "      <td>6/2/2012 12:00</td>\n",
       "      <td>Summer</td>\n",
       "      <td>0</td>\n",
       "      <td>0</td>\n",
       "      <td>Clear + Few clouds</td>\n",
       "      <td>25.42</td>\n",
       "      <td>31.060</td>\n",
       "      <td>43</td>\n",
       "      <td>23.9994</td>\n",
       "      <td>668</td>\n",
       "      <td>2012-06-02 12:00:00</td>\n",
       "      <td>2012</td>\n",
       "      <td>June</td>\n",
       "      <td>12</td>\n",
       "      <td>Saturday</td>\n",
       "    </tr>\n",
       "  </tbody>\n",
       "</table>\n",
       "</div>"
      ],
      "text/plain": [
       "           datetime  season holiday workingday                  weather  \\\n",
       "0   5/10/2012 11:00  Summer       0          1       Clear + Few clouds   \n",
       "1     6/9/2012 7:00  Summer       0          0       Clear + Few clouds   \n",
       "2    3/6/2011 20:00  Spring       0          0   Light Snow, Light Rain   \n",
       "3  10/13/2011 11:00  Winter       0          1           Mist + Cloudy    \n",
       "4    6/2/2012 12:00  Summer       0          0       Clear + Few clouds   \n",
       "\n",
       "    temp   atemp  humidity  windspeed  Total_booking                date  \\\n",
       "0  21.32  25.000        48    35.0008            256 2012-05-10 11:00:00   \n",
       "1  23.78  27.275        64     7.0015             87 2012-06-09 07:00:00   \n",
       "2  11.48  12.120       100    27.9993             11 2011-03-06 20:00:00   \n",
       "3  25.42  28.790        83     0.0000             84 2011-10-13 11:00:00   \n",
       "4  25.42  31.060        43    23.9994            668 2012-06-02 12:00:00   \n",
       "\n",
       "   year    month  hour   weekday  \n",
       "0  2012      May    11  Thursday  \n",
       "1  2012     June     7  Saturday  \n",
       "2  2011    March    20    Sunday  \n",
       "3  2011  October    11  Thursday  \n",
       "4  2012     June    12  Saturday  "
      ]
     },
     "execution_count": 31,
     "metadata": {},
     "output_type": "execute_result"
    }
   ],
   "source": [
    "Test.head()"
   ]
  },
  {
   "cell_type": "code",
   "execution_count": 32,
   "id": "9d8995ef",
   "metadata": {},
   "outputs": [
    {
     "data": {
      "text/html": [
       "<div>\n",
       "<style scoped>\n",
       "    .dataframe tbody tr th:only-of-type {\n",
       "        vertical-align: middle;\n",
       "    }\n",
       "\n",
       "    .dataframe tbody tr th {\n",
       "        vertical-align: top;\n",
       "    }\n",
       "\n",
       "    .dataframe thead th {\n",
       "        text-align: right;\n",
       "    }\n",
       "</style>\n",
       "<table border=\"1\" class=\"dataframe\">\n",
       "  <thead>\n",
       "    <tr style=\"text-align: right;\">\n",
       "      <th></th>\n",
       "      <th>season</th>\n",
       "      <th>holiday</th>\n",
       "      <th>workingday</th>\n",
       "      <th>weather</th>\n",
       "      <th>temp</th>\n",
       "      <th>atemp</th>\n",
       "      <th>humidity</th>\n",
       "      <th>windspeed</th>\n",
       "      <th>Total_booking</th>\n",
       "      <th>date</th>\n",
       "      <th>year</th>\n",
       "      <th>month</th>\n",
       "      <th>hour</th>\n",
       "      <th>weekday</th>\n",
       "    </tr>\n",
       "  </thead>\n",
       "  <tbody>\n",
       "    <tr>\n",
       "      <th>0</th>\n",
       "      <td>Summer</td>\n",
       "      <td>0</td>\n",
       "      <td>1</td>\n",
       "      <td>Clear + Few clouds</td>\n",
       "      <td>22.14</td>\n",
       "      <td>25.760</td>\n",
       "      <td>77</td>\n",
       "      <td>16.9979</td>\n",
       "      <td>504</td>\n",
       "      <td>2012-05-02 19:00:00</td>\n",
       "      <td>2012</td>\n",
       "      <td>May</td>\n",
       "      <td>19</td>\n",
       "      <td>Wednesday</td>\n",
       "    </tr>\n",
       "    <tr>\n",
       "      <th>1</th>\n",
       "      <td>Fall</td>\n",
       "      <td>0</td>\n",
       "      <td>1</td>\n",
       "      <td>Clear + Few clouds</td>\n",
       "      <td>28.70</td>\n",
       "      <td>33.335</td>\n",
       "      <td>79</td>\n",
       "      <td>19.0012</td>\n",
       "      <td>5</td>\n",
       "      <td>2012-09-05 04:00:00</td>\n",
       "      <td>2012</td>\n",
       "      <td>September</td>\n",
       "      <td>4</td>\n",
       "      <td>Wednesday</td>\n",
       "    </tr>\n",
       "    <tr>\n",
       "      <th>2</th>\n",
       "      <td>Spring</td>\n",
       "      <td>0</td>\n",
       "      <td>1</td>\n",
       "      <td>Clear + Few clouds</td>\n",
       "      <td>5.74</td>\n",
       "      <td>6.060</td>\n",
       "      <td>50</td>\n",
       "      <td>22.0028</td>\n",
       "      <td>139</td>\n",
       "      <td>2011-01-13 09:00:00</td>\n",
       "      <td>2011</td>\n",
       "      <td>January</td>\n",
       "      <td>9</td>\n",
       "      <td>Thursday</td>\n",
       "    </tr>\n",
       "    <tr>\n",
       "      <th>3</th>\n",
       "      <td>Winter</td>\n",
       "      <td>0</td>\n",
       "      <td>1</td>\n",
       "      <td>Clear + Few clouds</td>\n",
       "      <td>13.94</td>\n",
       "      <td>16.665</td>\n",
       "      <td>29</td>\n",
       "      <td>8.9981</td>\n",
       "      <td>209</td>\n",
       "      <td>2011-11-18 16:00:00</td>\n",
       "      <td>2011</td>\n",
       "      <td>November</td>\n",
       "      <td>16</td>\n",
       "      <td>Friday</td>\n",
       "    </tr>\n",
       "    <tr>\n",
       "      <th>4</th>\n",
       "      <td>Fall</td>\n",
       "      <td>0</td>\n",
       "      <td>1</td>\n",
       "      <td>Clear + Few clouds</td>\n",
       "      <td>30.34</td>\n",
       "      <td>33.335</td>\n",
       "      <td>51</td>\n",
       "      <td>19.0012</td>\n",
       "      <td>184</td>\n",
       "      <td>2011-09-13 13:00:00</td>\n",
       "      <td>2011</td>\n",
       "      <td>September</td>\n",
       "      <td>13</td>\n",
       "      <td>Tuesday</td>\n",
       "    </tr>\n",
       "  </tbody>\n",
       "</table>\n",
       "</div>"
      ],
      "text/plain": [
       "   season holiday workingday              weather   temp   atemp  humidity  \\\n",
       "0  Summer       0          1   Clear + Few clouds  22.14  25.760        77   \n",
       "1    Fall       0          1   Clear + Few clouds  28.70  33.335        79   \n",
       "2  Spring       0          1   Clear + Few clouds   5.74   6.060        50   \n",
       "3  Winter       0          1   Clear + Few clouds  13.94  16.665        29   \n",
       "4    Fall       0          1   Clear + Few clouds  30.34  33.335        51   \n",
       "\n",
       "   windspeed  Total_booking                date  year      month  hour  \\\n",
       "0    16.9979            504 2012-05-02 19:00:00  2012        May    19   \n",
       "1    19.0012              5 2012-09-05 04:00:00  2012  September     4   \n",
       "2    22.0028            139 2011-01-13 09:00:00  2011    January     9   \n",
       "3     8.9981            209 2011-11-18 16:00:00  2011   November    16   \n",
       "4    19.0012            184 2011-09-13 13:00:00  2011  September    13   \n",
       "\n",
       "     weekday  \n",
       "0  Wednesday  \n",
       "1  Wednesday  \n",
       "2   Thursday  \n",
       "3     Friday  \n",
       "4    Tuesday  "
      ]
     },
     "execution_count": 32,
     "metadata": {},
     "output_type": "execute_result"
    }
   ],
   "source": [
    "Train.head()"
   ]
  },
  {
   "cell_type": "markdown",
   "id": "5a03d73a",
   "metadata": {},
   "source": [
    "# Outliers Analysis"
   ]
  },
  {
   "cell_type": "code",
   "execution_count": 33,
   "id": "eb87ffd3",
   "metadata": {},
   "outputs": [
    {
     "data": {
      "text/plain": [
       "<AxesSubplot:xlabel='Total_booking', ylabel='season'>"
      ]
     },
     "execution_count": 33,
     "metadata": {},
     "output_type": "execute_result"
    },
    {
     "data": {
      "image/png": "[encoded data removed]",
      "text/plain": [
       "<Figure size 432x288 with 1 Axes>"
      ]
     },
     "metadata": {
      "needs_background": "light"
     },
     "output_type": "display_data"
    }
   ],
   "source": [
    "sns.boxplot(x='Total_booking',y='season',data=Train)"
   ]
  },
  {
   "cell_type": "code",
   "execution_count": 34,
   "id": "a91b3571",
   "metadata": {},
   "outputs": [
    {
     "data": {
      "text/plain": [
       "<AxesSubplot:xlabel='Total_booking', ylabel='workingday'>"
      ]
     },
     "execution_count": 34,
     "metadata": {},
     "output_type": "execute_result"
    },
    {
     "data": {
      "image/png": "[encoded data removed]",
      "text/plain": [
       "<Figure size 432x288 with 1 Axes>"
      ]
     },
     "metadata": {
      "needs_background": "light"
     },
     "output_type": "display_data"
    }
   ],
   "source": [
    "sns.boxplot(x='Total_booking',y='workingday',data=Train)"
   ]
  },
  {
   "cell_type": "code",
   "execution_count": 35,
   "id": "21a61bdf",
   "metadata": {},
   "outputs": [
    {
     "data": {
      "text/plain": [
       "<AxesSubplot:xlabel='hour', ylabel='Total_booking'>"
      ]
     },
     "execution_count": 35,
     "metadata": {},
     "output_type": "execute_result"
    },
    {
     "data": {
      "image/png": "[encoded data removed]",
      "text/plain": [
       "<Figure size 864x504 with 1 Axes>"
      ]
     },
     "metadata": {
      "needs_background": "light"
     },
     "output_type": "display_data"
    }
   ],
   "source": [
    "plt.figure(figsize=(12,7))\n",
    "sns.boxplot(x='hour',y='Total_booking',data=Train)"
   ]
  },
  {
   "cell_type": "code",
   "execution_count": 36,
   "id": "9a4cf2be",
   "metadata": {},
   "outputs": [
    {
     "data": {
      "text/plain": [
       "<AxesSubplot:xlabel='weekday', ylabel='Total_booking'>"
      ]
     },
     "execution_count": 36,
     "metadata": {},
     "output_type": "execute_result"
    },
    {
     "data": {
      "image/png": "[encoded data removed]",
      "text/plain": [
       "<Figure size 432x288 with 1 Axes>"
      ]
     },
     "metadata": {
      "needs_background": "light"
     },
     "output_type": "display_data"
    }
   ],
   "source": [
    "sns.boxplot(x='weekday',y='Total_booking',data=Train)"
   ]
  },
  {
   "cell_type": "code",
   "execution_count": 37,
   "id": "c32f6f74",
   "metadata": {},
   "outputs": [
    {
     "data": {
      "text/plain": [
       "season\n",
       "Fall      237.344906\n",
       "Spring    117.019663\n",
       "Summer    215.086482\n",
       "Winter    200.666972\n",
       "Name: Total_booking, dtype: float64"
      ]
     },
     "execution_count": 37,
     "metadata": {},
     "output_type": "execute_result"
    }
   ],
   "source": [
    "Train.groupby(['season'])['Total_booking'].mean()"
   ]
  },
  {
   "cell_type": "markdown",
   "id": "6b5204d8",
   "metadata": {},
   "source": [
    "finding the outlier"
   ]
  },
  {
   "cell_type": "code",
   "execution_count": 38,
   "id": "05aad236",
   "metadata": {},
   "outputs": [
    {
     "data": {
      "text/plain": [
       "(43.0, 286.0)"
      ]
     },
     "execution_count": 38,
     "metadata": {},
     "output_type": "execute_result"
    }
   ],
   "source": [
    "Q1 = Train.Total_booking.quantile(0.25)\n",
    "Q3 = Train.Total_booking.quantile(0.75)\n",
    "Q1, Q3"
   ]
  },
  {
   "cell_type": "code",
   "execution_count": 39,
   "id": "6d12e353",
   "metadata": {},
   "outputs": [
    {
     "data": {
      "text/plain": [
       "243.0"
      ]
     },
     "execution_count": 39,
     "metadata": {},
     "output_type": "execute_result"
    }
   ],
   "source": [
    "IQR = Q3 - Q1\n",
    "IQR"
   ]
  },
  {
   "cell_type": "code",
   "execution_count": 40,
   "id": "63103265",
   "metadata": {},
   "outputs": [
    {
     "data": {
      "text/plain": [
       "(-321.5, 650.5)"
      ]
     },
     "execution_count": 40,
     "metadata": {},
     "output_type": "execute_result"
    }
   ],
   "source": [
    "lower_limit = Q1 - (1.5*IQR)\n",
    "upper_limit = Q3 + (1.5*IQR)\n",
    "lower_limit, upper_limit"
   ]
  },
  {
   "cell_type": "code",
   "execution_count": 41,
   "id": "173bd964",
   "metadata": {},
   "outputs": [],
   "source": [
    "outliers = Train[(Train.Total_booking<lower_limit)|(Train.Total_booking>upper_limit)]"
   ]
  },
  {
   "cell_type": "code",
   "execution_count": 42,
   "id": "9056886c",
   "metadata": {},
   "outputs": [
    {
     "data": {
      "text/html": [
       "<div>\n",
       "<style scoped>\n",
       "    .dataframe tbody tr th:only-of-type {\n",
       "        vertical-align: middle;\n",
       "    }\n",
       "\n",
       "    .dataframe tbody tr th {\n",
       "        vertical-align: top;\n",
       "    }\n",
       "\n",
       "    .dataframe thead th {\n",
       "        text-align: right;\n",
       "    }\n",
       "</style>\n",
       "<table border=\"1\" class=\"dataframe\">\n",
       "  <thead>\n",
       "    <tr style=\"text-align: right;\">\n",
       "      <th></th>\n",
       "      <th>season</th>\n",
       "      <th>holiday</th>\n",
       "      <th>workingday</th>\n",
       "      <th>weather</th>\n",
       "      <th>temp</th>\n",
       "      <th>atemp</th>\n",
       "      <th>humidity</th>\n",
       "      <th>windspeed</th>\n",
       "      <th>Total_booking</th>\n",
       "      <th>date</th>\n",
       "      <th>year</th>\n",
       "      <th>month</th>\n",
       "      <th>hour</th>\n",
       "      <th>weekday</th>\n",
       "    </tr>\n",
       "  </thead>\n",
       "  <tbody>\n",
       "    <tr>\n",
       "      <th>5</th>\n",
       "      <td>Fall</td>\n",
       "      <td>0</td>\n",
       "      <td>1</td>\n",
       "      <td>Clear + Few clouds</td>\n",
       "      <td>33.62</td>\n",
       "      <td>12.120</td>\n",
       "      <td>36</td>\n",
       "      <td>22.0028</td>\n",
       "      <td>791</td>\n",
       "      <td>2012-08-17 17:00:00</td>\n",
       "      <td>2012</td>\n",
       "      <td>August</td>\n",
       "      <td>17</td>\n",
       "      <td>Friday</td>\n",
       "    </tr>\n",
       "    <tr>\n",
       "      <th>27</th>\n",
       "      <td>Summer</td>\n",
       "      <td>0</td>\n",
       "      <td>1</td>\n",
       "      <td>Clear + Few clouds</td>\n",
       "      <td>22.96</td>\n",
       "      <td>26.515</td>\n",
       "      <td>73</td>\n",
       "      <td>15.0013</td>\n",
       "      <td>813</td>\n",
       "      <td>2012-05-02 18:00:00</td>\n",
       "      <td>2012</td>\n",
       "      <td>May</td>\n",
       "      <td>18</td>\n",
       "      <td>Wednesday</td>\n",
       "    </tr>\n",
       "    <tr>\n",
       "      <th>30</th>\n",
       "      <td>Fall</td>\n",
       "      <td>0</td>\n",
       "      <td>1</td>\n",
       "      <td>Clear + Few clouds</td>\n",
       "      <td>31.98</td>\n",
       "      <td>35.605</td>\n",
       "      <td>49</td>\n",
       "      <td>12.9980</td>\n",
       "      <td>872</td>\n",
       "      <td>2012-07-10 17:00:00</td>\n",
       "      <td>2012</td>\n",
       "      <td>July</td>\n",
       "      <td>17</td>\n",
       "      <td>Tuesday</td>\n",
       "    </tr>\n",
       "    <tr>\n",
       "      <th>52</th>\n",
       "      <td>Summer</td>\n",
       "      <td>0</td>\n",
       "      <td>1</td>\n",
       "      <td>Clear + Few clouds</td>\n",
       "      <td>24.60</td>\n",
       "      <td>31.060</td>\n",
       "      <td>43</td>\n",
       "      <td>12.9980</td>\n",
       "      <td>790</td>\n",
       "      <td>2012-06-05 18:00:00</td>\n",
       "      <td>2012</td>\n",
       "      <td>June</td>\n",
       "      <td>18</td>\n",
       "      <td>Tuesday</td>\n",
       "    </tr>\n",
       "    <tr>\n",
       "      <th>70</th>\n",
       "      <td>Summer</td>\n",
       "      <td>0</td>\n",
       "      <td>1</td>\n",
       "      <td>Clear + Few clouds</td>\n",
       "      <td>26.24</td>\n",
       "      <td>31.060</td>\n",
       "      <td>38</td>\n",
       "      <td>15.0013</td>\n",
       "      <td>669</td>\n",
       "      <td>2012-05-18 18:00:00</td>\n",
       "      <td>2012</td>\n",
       "      <td>May</td>\n",
       "      <td>18</td>\n",
       "      <td>Friday</td>\n",
       "    </tr>\n",
       "    <tr>\n",
       "      <th>...</th>\n",
       "      <td>...</td>\n",
       "      <td>...</td>\n",
       "      <td>...</td>\n",
       "      <td>...</td>\n",
       "      <td>...</td>\n",
       "      <td>...</td>\n",
       "      <td>...</td>\n",
       "      <td>...</td>\n",
       "      <td>...</td>\n",
       "      <td>...</td>\n",
       "      <td>...</td>\n",
       "      <td>...</td>\n",
       "      <td>...</td>\n",
       "      <td>...</td>\n",
       "    </tr>\n",
       "    <tr>\n",
       "      <th>8478</th>\n",
       "      <td>Spring</td>\n",
       "      <td>0</td>\n",
       "      <td>1</td>\n",
       "      <td>Clear + Few clouds</td>\n",
       "      <td>18.04</td>\n",
       "      <td>21.970</td>\n",
       "      <td>82</td>\n",
       "      <td>0.0000</td>\n",
       "      <td>662</td>\n",
       "      <td>2012-03-14 08:00:00</td>\n",
       "      <td>2012</td>\n",
       "      <td>March</td>\n",
       "      <td>8</td>\n",
       "      <td>Wednesday</td>\n",
       "    </tr>\n",
       "    <tr>\n",
       "      <th>8582</th>\n",
       "      <td>Winter</td>\n",
       "      <td>0</td>\n",
       "      <td>1</td>\n",
       "      <td>Mist + Cloudy</td>\n",
       "      <td>24.60</td>\n",
       "      <td>30.305</td>\n",
       "      <td>64</td>\n",
       "      <td>26.0027</td>\n",
       "      <td>737</td>\n",
       "      <td>2012-10-15 08:00:00</td>\n",
       "      <td>2012</td>\n",
       "      <td>October</td>\n",
       "      <td>8</td>\n",
       "      <td>Monday</td>\n",
       "    </tr>\n",
       "    <tr>\n",
       "      <th>8676</th>\n",
       "      <td>Summer</td>\n",
       "      <td>0</td>\n",
       "      <td>0</td>\n",
       "      <td>Clear + Few clouds</td>\n",
       "      <td>26.24</td>\n",
       "      <td>31.060</td>\n",
       "      <td>36</td>\n",
       "      <td>12.9980</td>\n",
       "      <td>659</td>\n",
       "      <td>2012-05-12 13:00:00</td>\n",
       "      <td>2012</td>\n",
       "      <td>May</td>\n",
       "      <td>13</td>\n",
       "      <td>Saturday</td>\n",
       "    </tr>\n",
       "    <tr>\n",
       "      <th>8681</th>\n",
       "      <td>Fall</td>\n",
       "      <td>0</td>\n",
       "      <td>1</td>\n",
       "      <td>Mist + Cloudy</td>\n",
       "      <td>32.80</td>\n",
       "      <td>37.880</td>\n",
       "      <td>55</td>\n",
       "      <td>19.0012</td>\n",
       "      <td>858</td>\n",
       "      <td>2012-08-08 17:00:00</td>\n",
       "      <td>2012</td>\n",
       "      <td>August</td>\n",
       "      <td>17</td>\n",
       "      <td>Wednesday</td>\n",
       "    </tr>\n",
       "    <tr>\n",
       "      <th>8695</th>\n",
       "      <td>Winter</td>\n",
       "      <td>0</td>\n",
       "      <td>1</td>\n",
       "      <td>Clear + Few clouds</td>\n",
       "      <td>20.50</td>\n",
       "      <td>24.240</td>\n",
       "      <td>39</td>\n",
       "      <td>19.0012</td>\n",
       "      <td>827</td>\n",
       "      <td>2012-10-11 17:00:00</td>\n",
       "      <td>2012</td>\n",
       "      <td>October</td>\n",
       "      <td>17</td>\n",
       "      <td>Thursday</td>\n",
       "    </tr>\n",
       "  </tbody>\n",
       "</table>\n",
       "<p>242 rows × 14 columns</p>\n",
       "</div>"
      ],
      "text/plain": [
       "      season holiday workingday              weather   temp   atemp  humidity  \\\n",
       "5       Fall       0          1   Clear + Few clouds  33.62  12.120        36   \n",
       "27    Summer       0          1   Clear + Few clouds  22.96  26.515        73   \n",
       "30      Fall       0          1   Clear + Few clouds  31.98  35.605        49   \n",
       "52    Summer       0          1   Clear + Few clouds  24.60  31.060        43   \n",
       "70    Summer       0          1   Clear + Few clouds  26.24  31.060        38   \n",
       "...      ...     ...        ...                  ...    ...     ...       ...   \n",
       "8478  Spring       0          1   Clear + Few clouds  18.04  21.970        82   \n",
       "8582  Winter       0          1       Mist + Cloudy   24.60  30.305        64   \n",
       "8676  Summer       0          0   Clear + Few clouds  26.24  31.060        36   \n",
       "8681    Fall       0          1       Mist + Cloudy   32.80  37.880        55   \n",
       "8695  Winter       0          1   Clear + Few clouds  20.50  24.240        39   \n",
       "\n",
       "      windspeed  Total_booking                date  year    month  hour  \\\n",
       "5       22.0028            791 2012-08-17 17:00:00  2012   August    17   \n",
       "27      15.0013            813 2012-05-02 18:00:00  2012      May    18   \n",
       "30      12.9980            872 2012-07-10 17:00:00  2012     July    17   \n",
       "52      12.9980            790 2012-06-05 18:00:00  2012     June    18   \n",
       "70      15.0013            669 2012-05-18 18:00:00  2012      May    18   \n",
       "...         ...            ...                 ...   ...      ...   ...   \n",
       "8478     0.0000            662 2012-03-14 08:00:00  2012    March     8   \n",
       "8582    26.0027            737 2012-10-15 08:00:00  2012  October     8   \n",
       "8676    12.9980            659 2012-05-12 13:00:00  2012      May    13   \n",
       "8681    19.0012            858 2012-08-08 17:00:00  2012   August    17   \n",
       "8695    19.0012            827 2012-10-11 17:00:00  2012  October    17   \n",
       "\n",
       "        weekday  \n",
       "5        Friday  \n",
       "27    Wednesday  \n",
       "30      Tuesday  \n",
       "52      Tuesday  \n",
       "70       Friday  \n",
       "...         ...  \n",
       "8478  Wednesday  \n",
       "8582     Monday  \n",
       "8676   Saturday  \n",
       "8681  Wednesday  \n",
       "8695   Thursday  \n",
       "\n",
       "[242 rows x 14 columns]"
      ]
     },
     "execution_count": 42,
     "metadata": {},
     "output_type": "execute_result"
    }
   ],
   "source": [
    "outliers"
   ]
  },
  {
   "cell_type": "markdown",
   "id": "e849e3e7",
   "metadata": {},
   "source": [
    "So I used IQR formula to find the outliers in the Train data so, there are 242 outliers we have to remove them to make a better predictive model"
   ]
  },
  {
   "cell_type": "markdown",
   "id": "447c34fa",
   "metadata": {},
   "source": [
    "Removing the outlier"
   ]
  },
  {
   "cell_type": "code",
   "execution_count": 43,
   "id": "d7660c28",
   "metadata": {},
   "outputs": [],
   "source": [
    "Traind = Train[(Train.Total_booking>lower_limit)&(Train.Total_booking<upper_limit)]"
   ]
  },
  {
   "cell_type": "code",
   "execution_count": 44,
   "id": "be26f8ce",
   "metadata": {},
   "outputs": [],
   "source": [
    "Train = Traind"
   ]
  },
  {
   "cell_type": "code",
   "execution_count": 45,
   "id": "894df028",
   "metadata": {},
   "outputs": [
    {
     "data": {
      "text/plain": [
       "(8466, 14)"
      ]
     },
     "execution_count": 45,
     "metadata": {},
     "output_type": "execute_result"
    }
   ],
   "source": [
    "Train.shape"
   ]
  },
  {
   "cell_type": "markdown",
   "id": "cf7b3d56",
   "metadata": {},
   "source": [
    "Correlation Analysis"
   ]
  },
  {
   "cell_type": "code",
   "execution_count": 46,
   "id": "beed87c1",
   "metadata": {},
   "outputs": [
    {
     "data": {
      "text/html": [
       "<div>\n",
       "<style scoped>\n",
       "    .dataframe tbody tr th:only-of-type {\n",
       "        vertical-align: middle;\n",
       "    }\n",
       "\n",
       "    .dataframe tbody tr th {\n",
       "        vertical-align: top;\n",
       "    }\n",
       "\n",
       "    .dataframe thead th {\n",
       "        text-align: right;\n",
       "    }\n",
       "</style>\n",
       "<table border=\"1\" class=\"dataframe\">\n",
       "  <thead>\n",
       "    <tr style=\"text-align: right;\">\n",
       "      <th></th>\n",
       "      <th>temp</th>\n",
       "      <th>atemp</th>\n",
       "      <th>humidity</th>\n",
       "      <th>windspeed</th>\n",
       "      <th>Total_booking</th>\n",
       "      <th>year</th>\n",
       "      <th>hour</th>\n",
       "    </tr>\n",
       "  </thead>\n",
       "  <tbody>\n",
       "    <tr>\n",
       "      <th>temp</th>\n",
       "      <td>1.000000</td>\n",
       "      <td>0.985214</td>\n",
       "      <td>-0.052052</td>\n",
       "      <td>-0.031265</td>\n",
       "      <td>0.389198</td>\n",
       "      <td>0.045449</td>\n",
       "      <td>0.134702</td>\n",
       "    </tr>\n",
       "    <tr>\n",
       "      <th>atemp</th>\n",
       "      <td>0.985214</td>\n",
       "      <td>1.000000</td>\n",
       "      <td>-0.030614</td>\n",
       "      <td>-0.073184</td>\n",
       "      <td>0.386209</td>\n",
       "      <td>0.042717</td>\n",
       "      <td>0.130159</td>\n",
       "    </tr>\n",
       "    <tr>\n",
       "      <th>humidity</th>\n",
       "      <td>-0.052052</td>\n",
       "      <td>-0.030614</td>\n",
       "      <td>1.000000</td>\n",
       "      <td>-0.322381</td>\n",
       "      <td>-0.312485</td>\n",
       "      <td>-0.062993</td>\n",
       "      <td>-0.266331</td>\n",
       "    </tr>\n",
       "    <tr>\n",
       "      <th>windspeed</th>\n",
       "      <td>-0.031265</td>\n",
       "      <td>-0.073184</td>\n",
       "      <td>-0.322381</td>\n",
       "      <td>1.000000</td>\n",
       "      <td>0.102777</td>\n",
       "      <td>-0.019651</td>\n",
       "      <td>0.131759</td>\n",
       "    </tr>\n",
       "    <tr>\n",
       "      <th>Total_booking</th>\n",
       "      <td>0.389198</td>\n",
       "      <td>0.386209</td>\n",
       "      <td>-0.312485</td>\n",
       "      <td>0.102777</td>\n",
       "      <td>1.000000</td>\n",
       "      <td>0.213508</td>\n",
       "      <td>0.425427</td>\n",
       "    </tr>\n",
       "    <tr>\n",
       "      <th>year</th>\n",
       "      <td>0.045449</td>\n",
       "      <td>0.042717</td>\n",
       "      <td>-0.062993</td>\n",
       "      <td>-0.019651</td>\n",
       "      <td>0.213508</td>\n",
       "      <td>1.000000</td>\n",
       "      <td>-0.006549</td>\n",
       "    </tr>\n",
       "    <tr>\n",
       "      <th>hour</th>\n",
       "      <td>0.134702</td>\n",
       "      <td>0.130159</td>\n",
       "      <td>-0.266331</td>\n",
       "      <td>0.131759</td>\n",
       "      <td>0.425427</td>\n",
       "      <td>-0.006549</td>\n",
       "      <td>1.000000</td>\n",
       "    </tr>\n",
       "  </tbody>\n",
       "</table>\n",
       "</div>"
      ],
      "text/plain": [
       "                   temp     atemp  humidity  windspeed  Total_booking  \\\n",
       "temp           1.000000  0.985214 -0.052052  -0.031265       0.389198   \n",
       "atemp          0.985214  1.000000 -0.030614  -0.073184       0.386209   \n",
       "humidity      -0.052052 -0.030614  1.000000  -0.322381      -0.312485   \n",
       "windspeed     -0.031265 -0.073184 -0.322381   1.000000       0.102777   \n",
       "Total_booking  0.389198  0.386209 -0.312485   0.102777       1.000000   \n",
       "year           0.045449  0.042717 -0.062993  -0.019651       0.213508   \n",
       "hour           0.134702  0.130159 -0.266331   0.131759       0.425427   \n",
       "\n",
       "                   year      hour  \n",
       "temp           0.045449  0.134702  \n",
       "atemp          0.042717  0.130159  \n",
       "humidity      -0.062993 -0.266331  \n",
       "windspeed     -0.019651  0.131759  \n",
       "Total_booking  0.213508  0.425427  \n",
       "year           1.000000 -0.006549  \n",
       "hour          -0.006549  1.000000  "
      ]
     },
     "execution_count": 46,
     "metadata": {},
     "output_type": "execute_result"
    }
   ],
   "source": [
    "Train.corr()"
   ]
  },
  {
   "cell_type": "code",
   "execution_count": 47,
   "id": "2f7b2e51",
   "metadata": {},
   "outputs": [
    {
     "data": {
      "text/plain": [
       "<AxesSubplot:xlabel='Total_booking', ylabel='temp'>"
      ]
     },
     "execution_count": 47,
     "metadata": {},
     "output_type": "execute_result"
    },
    {
     "data": {
      "image/png": "[encoded data removed]",
      "text/plain": [
       "<Figure size 432x288 with 1 Axes>"
      ]
     },
     "metadata": {
      "needs_background": "light"
     },
     "output_type": "display_data"
    }
   ],
   "source": [
    "sns.scatterplot(x='Total_booking',y='temp',data = Train)"
   ]
  },
  {
   "cell_type": "code",
   "execution_count": 48,
   "id": "26113948",
   "metadata": {},
   "outputs": [
    {
     "data": {
      "text/plain": [
       "<AxesSubplot:xlabel='Total_booking', ylabel='atemp'>"
      ]
     },
     "execution_count": 48,
     "metadata": {},
     "output_type": "execute_result"
    },
    {
     "data": {
      "image/png": "[encoded data removed]",
      "text/plain": [
       "<Figure size 432x288 with 1 Axes>"
      ]
     },
     "metadata": {
      "needs_background": "light"
     },
     "output_type": "display_data"
    }
   ],
   "source": [
    "sns.scatterplot(x='Total_booking',y='atemp',data = Train)"
   ]
  },
  {
   "cell_type": "code",
   "execution_count": 49,
   "id": "352fa11b",
   "metadata": {},
   "outputs": [
    {
     "data": {
      "text/plain": [
       "<AxesSubplot:xlabel='Total_booking', ylabel='humidity'>"
      ]
     },
     "execution_count": 49,
     "metadata": {},
     "output_type": "execute_result"
    },
    {
     "data": {
      "image/png": "[encoded data removed]",
      "text/plain": [
       "<Figure size 432x288 with 1 Axes>"
      ]
     },
     "metadata": {
      "needs_background": "light"
     },
     "output_type": "display_data"
    }
   ],
   "source": [
    "sns.scatterplot(x='Total_booking',y='humidity',data = Train)"
   ]
  },
  {
   "cell_type": "code",
   "execution_count": 50,
   "id": "826e9b02",
   "metadata": {},
   "outputs": [
    {
     "data": {
      "text/plain": [
       "<AxesSubplot:xlabel='Total_booking', ylabel='windspeed'>"
      ]
     },
     "execution_count": 50,
     "metadata": {},
     "output_type": "execute_result"
    },
    {
     "data": {
      "image/png": "[encoded data removed]",
      "text/plain": [
       "<Figure size 432x288 with 1 Axes>"
      ]
     },
     "metadata": {
      "needs_background": "light"
     },
     "output_type": "display_data"
    }
   ],
   "source": [
    "sns.scatterplot(x='Total_booking',y='windspeed',data = Train)"
   ]
  },
  {
   "cell_type": "code",
   "execution_count": 51,
   "id": "bb1fda8f",
   "metadata": {},
   "outputs": [
    {
     "data": {
      "text/plain": [
       "<AxesSubplot:>"
      ]
     },
     "execution_count": 51,
     "metadata": {},
     "output_type": "execute_result"
    },
    {
     "data": {
      "image/png": "[encoded data removed]",
      "text/plain": [
       "<Figure size 432x288 with 2 Axes>"
      ]
     },
     "metadata": {
      "needs_background": "light"
     },
     "output_type": "display_data"
    }
   ],
   "source": [
    "sns.heatmap(Train.corr(),cmap='viridis',yticklabels=True)"
   ]
  },
  {
   "cell_type": "markdown",
   "id": "d5cdc0e0",
   "metadata": {},
   "source": [
    "Data Visualization"
   ]
  },
  {
   "cell_type": "code",
   "execution_count": 52,
   "id": "06bdf1b1",
   "metadata": {},
   "outputs": [
    {
     "data": {
      "text/plain": [
       "<seaborn.axisgrid.FacetGrid at 0x27ed77f9400>"
      ]
     },
     "execution_count": 52,
     "metadata": {},
     "output_type": "execute_result"
    },
    {
     "data": {
      "image/png": "[encoded data removed]",
      "text/plain": [
       "<Figure size 360x360 with 1 Axes>"
      ]
     },
     "metadata": {
      "needs_background": "light"
     },
     "output_type": "display_data"
    }
   ],
   "source": [
    "sns.displot(x='Total_booking',data=Train)"
   ]
  },
  {
   "cell_type": "markdown",
   "id": "de73d548",
   "metadata": {},
   "source": [
    "From above Distribution Plot we can see our data is positively skewed"
   ]
  },
  {
   "cell_type": "code",
   "execution_count": 53,
   "id": "9041bb19",
   "metadata": {},
   "outputs": [
    {
     "data": {
      "text/plain": [
       "<AxesSubplot:xlabel='Total_booking', ylabel='month'>"
      ]
     },
     "execution_count": 53,
     "metadata": {},
     "output_type": "execute_result"
    },
    {
     "data": {
      "image/png": "[encoded data removed]",
      "text/plain": [
       "<Figure size 432x288 with 1 Axes>"
      ]
     },
     "metadata": {
      "needs_background": "light"
     },
     "output_type": "display_data"
    }
   ],
   "source": [
    "sns.barplot(x='Total_booking',y='month',data=Train)"
   ]
  },
  {
   "cell_type": "code",
   "execution_count": 54,
   "id": "a9866c37",
   "metadata": {},
   "outputs": [
    {
     "data": {
      "text/plain": [
       "Index(['season', 'holiday', 'workingday', 'weather', 'temp', 'atemp',\n",
       "       'humidity', 'windspeed', 'Total_booking', 'date', 'year', 'month',\n",
       "       'hour', 'weekday'],\n",
       "      dtype='object')"
      ]
     },
     "execution_count": 54,
     "metadata": {},
     "output_type": "execute_result"
    }
   ],
   "source": [
    "Train.columns"
   ]
  },
  {
   "cell_type": "code",
   "execution_count": 55,
   "id": "47a23856",
   "metadata": {},
   "outputs": [
    {
     "data": {
      "text/plain": [
       "<AxesSubplot:xlabel='Total_booking', ylabel='season'>"
      ]
     },
     "execution_count": 55,
     "metadata": {},
     "output_type": "execute_result"
    },
    {
     "data": {
      "image/png": "[encoded data removed]",
      "text/plain": [
       "<Figure size 432x288 with 1 Axes>"
      ]
     },
     "metadata": {
      "needs_background": "light"
     },
     "output_type": "display_data"
    }
   ],
   "source": [
    "sns.barplot(x='Total_booking',y='season',data=Train)"
   ]
  },
  {
   "cell_type": "code",
   "execution_count": 56,
   "id": "a34c34f8",
   "metadata": {},
   "outputs": [
    {
     "data": {
      "text/plain": [
       "<AxesSubplot:xlabel='Total_booking', ylabel='weekday'>"
      ]
     },
     "execution_count": 56,
     "metadata": {},
     "output_type": "execute_result"
    },
    {
     "data": {
      "image/png": "[encoded data removed]",
      "text/plain": [
       "<Figure size 432x288 with 1 Axes>"
      ]
     },
     "metadata": {
      "needs_background": "light"
     },
     "output_type": "display_data"
    }
   ],
   "source": [
    "sns.barplot(x='Total_booking',y='weekday',data=Train)"
   ]
  },
  {
   "cell_type": "code",
   "execution_count": 57,
   "id": "973713b5",
   "metadata": {},
   "outputs": [
    {
     "data": {
      "text/plain": [
       "<AxesSubplot:xlabel='hour', ylabel='Total_booking'>"
      ]
     },
     "execution_count": 57,
     "metadata": {},
     "output_type": "execute_result"
    },
    {
     "data": {
      "image/png": "[encoded data removed]",
      "text/plain": [
       "<Figure size 432x288 with 1 Axes>"
      ]
     },
     "metadata": {
      "needs_background": "light"
     },
     "output_type": "display_data"
    }
   ],
   "source": [
    "sns.barplot(x='hour',y='Total_booking',data=Train)"
   ]
  },
  {
   "cell_type": "code",
   "execution_count": 58,
   "id": "bbbb6d5d",
   "metadata": {},
   "outputs": [
    {
     "data": {
      "text/html": [
       "<div>\n",
       "<style scoped>\n",
       "    .dataframe tbody tr th:only-of-type {\n",
       "        vertical-align: middle;\n",
       "    }\n",
       "\n",
       "    .dataframe tbody tr th {\n",
       "        vertical-align: top;\n",
       "    }\n",
       "\n",
       "    .dataframe thead th {\n",
       "        text-align: right;\n",
       "    }\n",
       "</style>\n",
       "<table border=\"1\" class=\"dataframe\">\n",
       "  <thead>\n",
       "    <tr style=\"text-align: right;\">\n",
       "      <th></th>\n",
       "      <th>season</th>\n",
       "      <th>holiday</th>\n",
       "      <th>workingday</th>\n",
       "      <th>weather</th>\n",
       "      <th>temp</th>\n",
       "      <th>atemp</th>\n",
       "      <th>humidity</th>\n",
       "      <th>windspeed</th>\n",
       "      <th>Total_booking</th>\n",
       "      <th>date</th>\n",
       "      <th>year</th>\n",
       "      <th>month</th>\n",
       "      <th>hour</th>\n",
       "      <th>weekday</th>\n",
       "    </tr>\n",
       "  </thead>\n",
       "  <tbody>\n",
       "    <tr>\n",
       "      <th>0</th>\n",
       "      <td>Summer</td>\n",
       "      <td>0</td>\n",
       "      <td>1</td>\n",
       "      <td>Clear + Few clouds</td>\n",
       "      <td>22.14</td>\n",
       "      <td>25.760</td>\n",
       "      <td>77</td>\n",
       "      <td>16.9979</td>\n",
       "      <td>504</td>\n",
       "      <td>2012-05-02 19:00:00</td>\n",
       "      <td>2012</td>\n",
       "      <td>May</td>\n",
       "      <td>19</td>\n",
       "      <td>Wednesday</td>\n",
       "    </tr>\n",
       "    <tr>\n",
       "      <th>1</th>\n",
       "      <td>Fall</td>\n",
       "      <td>0</td>\n",
       "      <td>1</td>\n",
       "      <td>Clear + Few clouds</td>\n",
       "      <td>28.70</td>\n",
       "      <td>33.335</td>\n",
       "      <td>79</td>\n",
       "      <td>19.0012</td>\n",
       "      <td>5</td>\n",
       "      <td>2012-09-05 04:00:00</td>\n",
       "      <td>2012</td>\n",
       "      <td>September</td>\n",
       "      <td>4</td>\n",
       "      <td>Wednesday</td>\n",
       "    </tr>\n",
       "    <tr>\n",
       "      <th>2</th>\n",
       "      <td>Spring</td>\n",
       "      <td>0</td>\n",
       "      <td>1</td>\n",
       "      <td>Clear + Few clouds</td>\n",
       "      <td>5.74</td>\n",
       "      <td>6.060</td>\n",
       "      <td>50</td>\n",
       "      <td>22.0028</td>\n",
       "      <td>139</td>\n",
       "      <td>2011-01-13 09:00:00</td>\n",
       "      <td>2011</td>\n",
       "      <td>January</td>\n",
       "      <td>9</td>\n",
       "      <td>Thursday</td>\n",
       "    </tr>\n",
       "    <tr>\n",
       "      <th>3</th>\n",
       "      <td>Winter</td>\n",
       "      <td>0</td>\n",
       "      <td>1</td>\n",
       "      <td>Clear + Few clouds</td>\n",
       "      <td>13.94</td>\n",
       "      <td>16.665</td>\n",
       "      <td>29</td>\n",
       "      <td>8.9981</td>\n",
       "      <td>209</td>\n",
       "      <td>2011-11-18 16:00:00</td>\n",
       "      <td>2011</td>\n",
       "      <td>November</td>\n",
       "      <td>16</td>\n",
       "      <td>Friday</td>\n",
       "    </tr>\n",
       "    <tr>\n",
       "      <th>4</th>\n",
       "      <td>Fall</td>\n",
       "      <td>0</td>\n",
       "      <td>1</td>\n",
       "      <td>Clear + Few clouds</td>\n",
       "      <td>30.34</td>\n",
       "      <td>33.335</td>\n",
       "      <td>51</td>\n",
       "      <td>19.0012</td>\n",
       "      <td>184</td>\n",
       "      <td>2011-09-13 13:00:00</td>\n",
       "      <td>2011</td>\n",
       "      <td>September</td>\n",
       "      <td>13</td>\n",
       "      <td>Tuesday</td>\n",
       "    </tr>\n",
       "  </tbody>\n",
       "</table>\n",
       "</div>"
      ],
      "text/plain": [
       "   season holiday workingday              weather   temp   atemp  humidity  \\\n",
       "0  Summer       0          1   Clear + Few clouds  22.14  25.760        77   \n",
       "1    Fall       0          1   Clear + Few clouds  28.70  33.335        79   \n",
       "2  Spring       0          1   Clear + Few clouds   5.74   6.060        50   \n",
       "3  Winter       0          1   Clear + Few clouds  13.94  16.665        29   \n",
       "4    Fall       0          1   Clear + Few clouds  30.34  33.335        51   \n",
       "\n",
       "   windspeed  Total_booking                date  year      month  hour  \\\n",
       "0    16.9979            504 2012-05-02 19:00:00  2012        May    19   \n",
       "1    19.0012              5 2012-09-05 04:00:00  2012  September     4   \n",
       "2    22.0028            139 2011-01-13 09:00:00  2011    January     9   \n",
       "3     8.9981            209 2011-11-18 16:00:00  2011   November    16   \n",
       "4    19.0012            184 2011-09-13 13:00:00  2011  September    13   \n",
       "\n",
       "     weekday  \n",
       "0  Wednesday  \n",
       "1  Wednesday  \n",
       "2   Thursday  \n",
       "3     Friday  \n",
       "4    Tuesday  "
      ]
     },
     "execution_count": 58,
     "metadata": {},
     "output_type": "execute_result"
    }
   ],
   "source": [
    "Train.head()"
   ]
  },
  {
   "cell_type": "raw",
   "id": "58ce6dff",
   "metadata": {},
   "source": []
  },
  {
   "cell_type": "code",
   "execution_count": 59,
   "id": "194028d6",
   "metadata": {},
   "outputs": [
    {
     "data": {
      "text/plain": [
       "<AxesSubplot:xlabel='Total_booking', ylabel='Count'>"
      ]
     },
     "execution_count": 59,
     "metadata": {},
     "output_type": "execute_result"
    },
    {
     "data": {
      "image/png": "[encoded data removed]",
      "text/plain": [
       "<Figure size 432x288 with 1 Axes>"
      ]
     },
     "metadata": {
      "needs_background": "light"
     },
     "output_type": "display_data"
    }
   ],
   "source": [
    "sns.histplot(x='Total_booking',data=Train)"
   ]
  },
  {
   "cell_type": "code",
   "execution_count": 60,
   "id": "eeb50daa",
   "metadata": {},
   "outputs": [
    {
     "data": {
      "text/plain": [
       "<AxesSubplot:xlabel='humidity', ylabel='Count'>"
      ]
     },
     "execution_count": 60,
     "metadata": {},
     "output_type": "execute_result"
    },
    {
     "data": {
      "image/png": "[encoded data removed]",
      "text/plain": [
       "<Figure size 432x288 with 1 Axes>"
      ]
     },
     "metadata": {
      "needs_background": "light"
     },
     "output_type": "display_data"
    }
   ],
   "source": [
    "sns.histplot(x='humidity',data=Train)"
   ]
  },
  {
   "cell_type": "code",
   "execution_count": 61,
   "id": "072bf3a1",
   "metadata": {},
   "outputs": [
    {
     "data": {
      "text/plain": [
       "season                 category\n",
       "holiday                category\n",
       "workingday             category\n",
       "weather                category\n",
       "temp                    float64\n",
       "atemp                   float64\n",
       "humidity                  int64\n",
       "windspeed               float64\n",
       "Total_booking             int64\n",
       "date             datetime64[ns]\n",
       "year                      int64\n",
       "month                    object\n",
       "hour                      int64\n",
       "weekday                  object\n",
       "dtype: object"
      ]
     },
     "execution_count": 61,
     "metadata": {},
     "output_type": "execute_result"
    }
   ],
   "source": [
    "Train.dtypes"
   ]
  },
  {
   "cell_type": "code",
   "execution_count": 62,
   "id": "954370b4",
   "metadata": {},
   "outputs": [
    {
     "data": {
      "text/html": [
       "<div>\n",
       "<style scoped>\n",
       "    .dataframe tbody tr th:only-of-type {\n",
       "        vertical-align: middle;\n",
       "    }\n",
       "\n",
       "    .dataframe tbody tr th {\n",
       "        vertical-align: top;\n",
       "    }\n",
       "\n",
       "    .dataframe thead th {\n",
       "        text-align: right;\n",
       "    }\n",
       "</style>\n",
       "<table border=\"1\" class=\"dataframe\">\n",
       "  <thead>\n",
       "    <tr style=\"text-align: right;\">\n",
       "      <th></th>\n",
       "      <th>season</th>\n",
       "      <th>holiday</th>\n",
       "      <th>workingday</th>\n",
       "      <th>weather</th>\n",
       "      <th>temp</th>\n",
       "      <th>atemp</th>\n",
       "      <th>humidity</th>\n",
       "      <th>windspeed</th>\n",
       "      <th>Total_booking</th>\n",
       "      <th>date</th>\n",
       "      <th>year</th>\n",
       "      <th>month</th>\n",
       "      <th>hour</th>\n",
       "      <th>weekday</th>\n",
       "    </tr>\n",
       "  </thead>\n",
       "  <tbody>\n",
       "    <tr>\n",
       "      <th>0</th>\n",
       "      <td>Summer</td>\n",
       "      <td>0</td>\n",
       "      <td>1</td>\n",
       "      <td>Clear + Few clouds</td>\n",
       "      <td>22.14</td>\n",
       "      <td>25.760</td>\n",
       "      <td>77</td>\n",
       "      <td>16.9979</td>\n",
       "      <td>504</td>\n",
       "      <td>2012-05-02 19:00:00</td>\n",
       "      <td>2012</td>\n",
       "      <td>May</td>\n",
       "      <td>19</td>\n",
       "      <td>Wednesday</td>\n",
       "    </tr>\n",
       "    <tr>\n",
       "      <th>1</th>\n",
       "      <td>Fall</td>\n",
       "      <td>0</td>\n",
       "      <td>1</td>\n",
       "      <td>Clear + Few clouds</td>\n",
       "      <td>28.70</td>\n",
       "      <td>33.335</td>\n",
       "      <td>79</td>\n",
       "      <td>19.0012</td>\n",
       "      <td>5</td>\n",
       "      <td>2012-09-05 04:00:00</td>\n",
       "      <td>2012</td>\n",
       "      <td>September</td>\n",
       "      <td>4</td>\n",
       "      <td>Wednesday</td>\n",
       "    </tr>\n",
       "    <tr>\n",
       "      <th>2</th>\n",
       "      <td>Spring</td>\n",
       "      <td>0</td>\n",
       "      <td>1</td>\n",
       "      <td>Clear + Few clouds</td>\n",
       "      <td>5.74</td>\n",
       "      <td>6.060</td>\n",
       "      <td>50</td>\n",
       "      <td>22.0028</td>\n",
       "      <td>139</td>\n",
       "      <td>2011-01-13 09:00:00</td>\n",
       "      <td>2011</td>\n",
       "      <td>January</td>\n",
       "      <td>9</td>\n",
       "      <td>Thursday</td>\n",
       "    </tr>\n",
       "    <tr>\n",
       "      <th>3</th>\n",
       "      <td>Winter</td>\n",
       "      <td>0</td>\n",
       "      <td>1</td>\n",
       "      <td>Clear + Few clouds</td>\n",
       "      <td>13.94</td>\n",
       "      <td>16.665</td>\n",
       "      <td>29</td>\n",
       "      <td>8.9981</td>\n",
       "      <td>209</td>\n",
       "      <td>2011-11-18 16:00:00</td>\n",
       "      <td>2011</td>\n",
       "      <td>November</td>\n",
       "      <td>16</td>\n",
       "      <td>Friday</td>\n",
       "    </tr>\n",
       "    <tr>\n",
       "      <th>4</th>\n",
       "      <td>Fall</td>\n",
       "      <td>0</td>\n",
       "      <td>1</td>\n",
       "      <td>Clear + Few clouds</td>\n",
       "      <td>30.34</td>\n",
       "      <td>33.335</td>\n",
       "      <td>51</td>\n",
       "      <td>19.0012</td>\n",
       "      <td>184</td>\n",
       "      <td>2011-09-13 13:00:00</td>\n",
       "      <td>2011</td>\n",
       "      <td>September</td>\n",
       "      <td>13</td>\n",
       "      <td>Tuesday</td>\n",
       "    </tr>\n",
       "  </tbody>\n",
       "</table>\n",
       "</div>"
      ],
      "text/plain": [
       "   season holiday workingday              weather   temp   atemp  humidity  \\\n",
       "0  Summer       0          1   Clear + Few clouds  22.14  25.760        77   \n",
       "1    Fall       0          1   Clear + Few clouds  28.70  33.335        79   \n",
       "2  Spring       0          1   Clear + Few clouds   5.74   6.060        50   \n",
       "3  Winter       0          1   Clear + Few clouds  13.94  16.665        29   \n",
       "4    Fall       0          1   Clear + Few clouds  30.34  33.335        51   \n",
       "\n",
       "   windspeed  Total_booking                date  year      month  hour  \\\n",
       "0    16.9979            504 2012-05-02 19:00:00  2012        May    19   \n",
       "1    19.0012              5 2012-09-05 04:00:00  2012  September     4   \n",
       "2    22.0028            139 2011-01-13 09:00:00  2011    January     9   \n",
       "3     8.9981            209 2011-11-18 16:00:00  2011   November    16   \n",
       "4    19.0012            184 2011-09-13 13:00:00  2011  September    13   \n",
       "\n",
       "     weekday  \n",
       "0  Wednesday  \n",
       "1  Wednesday  \n",
       "2   Thursday  \n",
       "3     Friday  \n",
       "4    Tuesday  "
      ]
     },
     "execution_count": 62,
     "metadata": {},
     "output_type": "execute_result"
    }
   ],
   "source": [
    "Train.head()"
   ]
  },
  {
   "cell_type": "code",
   "execution_count": 63,
   "id": "363fc88b",
   "metadata": {},
   "outputs": [],
   "source": [
    "dummies = Train[['season','weather']]"
   ]
  },
  {
   "cell_type": "code",
   "execution_count": 64,
   "id": "7b534efc",
   "metadata": {},
   "outputs": [],
   "source": [
    "dummies = pd.get_dummies(dummies,drop_first=True)"
   ]
  },
  {
   "cell_type": "code",
   "execution_count": 65,
   "id": "fc4d567b",
   "metadata": {},
   "outputs": [],
   "source": [
    "Train = pd.concat([Train,dummies],axis=1)"
   ]
  },
  {
   "cell_type": "code",
   "execution_count": 66,
   "id": "21907d83",
   "metadata": {},
   "outputs": [
    {
     "data": {
      "text/html": [
       "<div>\n",
       "<style scoped>\n",
       "    .dataframe tbody tr th:only-of-type {\n",
       "        vertical-align: middle;\n",
       "    }\n",
       "\n",
       "    .dataframe tbody tr th {\n",
       "        vertical-align: top;\n",
       "    }\n",
       "\n",
       "    .dataframe thead th {\n",
       "        text-align: right;\n",
       "    }\n",
       "</style>\n",
       "<table border=\"1\" class=\"dataframe\">\n",
       "  <thead>\n",
       "    <tr style=\"text-align: right;\">\n",
       "      <th></th>\n",
       "      <th>season</th>\n",
       "      <th>holiday</th>\n",
       "      <th>workingday</th>\n",
       "      <th>weather</th>\n",
       "      <th>temp</th>\n",
       "      <th>atemp</th>\n",
       "      <th>humidity</th>\n",
       "      <th>windspeed</th>\n",
       "      <th>Total_booking</th>\n",
       "      <th>date</th>\n",
       "      <th>year</th>\n",
       "      <th>month</th>\n",
       "      <th>hour</th>\n",
       "      <th>weekday</th>\n",
       "      <th>season_Spring</th>\n",
       "      <th>season_Summer</th>\n",
       "      <th>season_Winter</th>\n",
       "      <th>weather_ Heavy Rain + Thunderstorm</th>\n",
       "      <th>weather_ Light Snow, Light Rain</th>\n",
       "      <th>weather_ Mist + Cloudy</th>\n",
       "    </tr>\n",
       "  </thead>\n",
       "  <tbody>\n",
       "    <tr>\n",
       "      <th>0</th>\n",
       "      <td>Summer</td>\n",
       "      <td>0</td>\n",
       "      <td>1</td>\n",
       "      <td>Clear + Few clouds</td>\n",
       "      <td>22.14</td>\n",
       "      <td>25.760</td>\n",
       "      <td>77</td>\n",
       "      <td>16.9979</td>\n",
       "      <td>504</td>\n",
       "      <td>2012-05-02 19:00:00</td>\n",
       "      <td>2012</td>\n",
       "      <td>May</td>\n",
       "      <td>19</td>\n",
       "      <td>Wednesday</td>\n",
       "      <td>0</td>\n",
       "      <td>1</td>\n",
       "      <td>0</td>\n",
       "      <td>0</td>\n",
       "      <td>0</td>\n",
       "      <td>0</td>\n",
       "    </tr>\n",
       "    <tr>\n",
       "      <th>1</th>\n",
       "      <td>Fall</td>\n",
       "      <td>0</td>\n",
       "      <td>1</td>\n",
       "      <td>Clear + Few clouds</td>\n",
       "      <td>28.70</td>\n",
       "      <td>33.335</td>\n",
       "      <td>79</td>\n",
       "      <td>19.0012</td>\n",
       "      <td>5</td>\n",
       "      <td>2012-09-05 04:00:00</td>\n",
       "      <td>2012</td>\n",
       "      <td>September</td>\n",
       "      <td>4</td>\n",
       "      <td>Wednesday</td>\n",
       "      <td>0</td>\n",
       "      <td>0</td>\n",
       "      <td>0</td>\n",
       "      <td>0</td>\n",
       "      <td>0</td>\n",
       "      <td>0</td>\n",
       "    </tr>\n",
       "    <tr>\n",
       "      <th>2</th>\n",
       "      <td>Spring</td>\n",
       "      <td>0</td>\n",
       "      <td>1</td>\n",
       "      <td>Clear + Few clouds</td>\n",
       "      <td>5.74</td>\n",
       "      <td>6.060</td>\n",
       "      <td>50</td>\n",
       "      <td>22.0028</td>\n",
       "      <td>139</td>\n",
       "      <td>2011-01-13 09:00:00</td>\n",
       "      <td>2011</td>\n",
       "      <td>January</td>\n",
       "      <td>9</td>\n",
       "      <td>Thursday</td>\n",
       "      <td>1</td>\n",
       "      <td>0</td>\n",
       "      <td>0</td>\n",
       "      <td>0</td>\n",
       "      <td>0</td>\n",
       "      <td>0</td>\n",
       "    </tr>\n",
       "    <tr>\n",
       "      <th>3</th>\n",
       "      <td>Winter</td>\n",
       "      <td>0</td>\n",
       "      <td>1</td>\n",
       "      <td>Clear + Few clouds</td>\n",
       "      <td>13.94</td>\n",
       "      <td>16.665</td>\n",
       "      <td>29</td>\n",
       "      <td>8.9981</td>\n",
       "      <td>209</td>\n",
       "      <td>2011-11-18 16:00:00</td>\n",
       "      <td>2011</td>\n",
       "      <td>November</td>\n",
       "      <td>16</td>\n",
       "      <td>Friday</td>\n",
       "      <td>0</td>\n",
       "      <td>0</td>\n",
       "      <td>1</td>\n",
       "      <td>0</td>\n",
       "      <td>0</td>\n",
       "      <td>0</td>\n",
       "    </tr>\n",
       "    <tr>\n",
       "      <th>4</th>\n",
       "      <td>Fall</td>\n",
       "      <td>0</td>\n",
       "      <td>1</td>\n",
       "      <td>Clear + Few clouds</td>\n",
       "      <td>30.34</td>\n",
       "      <td>33.335</td>\n",
       "      <td>51</td>\n",
       "      <td>19.0012</td>\n",
       "      <td>184</td>\n",
       "      <td>2011-09-13 13:00:00</td>\n",
       "      <td>2011</td>\n",
       "      <td>September</td>\n",
       "      <td>13</td>\n",
       "      <td>Tuesday</td>\n",
       "      <td>0</td>\n",
       "      <td>0</td>\n",
       "      <td>0</td>\n",
       "      <td>0</td>\n",
       "      <td>0</td>\n",
       "      <td>0</td>\n",
       "    </tr>\n",
       "  </tbody>\n",
       "</table>\n",
       "</div>"
      ],
      "text/plain": [
       "   season holiday workingday              weather   temp   atemp  humidity  \\\n",
       "0  Summer       0          1   Clear + Few clouds  22.14  25.760        77   \n",
       "1    Fall       0          1   Clear + Few clouds  28.70  33.335        79   \n",
       "2  Spring       0          1   Clear + Few clouds   5.74   6.060        50   \n",
       "3  Winter       0          1   Clear + Few clouds  13.94  16.665        29   \n",
       "4    Fall       0          1   Clear + Few clouds  30.34  33.335        51   \n",
       "\n",
       "   windspeed  Total_booking                date  year      month  hour  \\\n",
       "0    16.9979            504 2012-05-02 19:00:00  2012        May    19   \n",
       "1    19.0012              5 2012-09-05 04:00:00  2012  September     4   \n",
       "2    22.0028            139 2011-01-13 09:00:00  2011    January     9   \n",
       "3     8.9981            209 2011-11-18 16:00:00  2011   November    16   \n",
       "4    19.0012            184 2011-09-13 13:00:00  2011  September    13   \n",
       "\n",
       "     weekday  season_Spring  season_Summer  season_Winter  \\\n",
       "0  Wednesday              0              1              0   \n",
       "1  Wednesday              0              0              0   \n",
       "2   Thursday              1              0              0   \n",
       "3     Friday              0              0              1   \n",
       "4    Tuesday              0              0              0   \n",
       "\n",
       "   weather_ Heavy Rain + Thunderstorm   weather_ Light Snow, Light Rain  \\\n",
       "0                                    0                                0   \n",
       "1                                    0                                0   \n",
       "2                                    0                                0   \n",
       "3                                    0                                0   \n",
       "4                                    0                                0   \n",
       "\n",
       "   weather_ Mist + Cloudy   \n",
       "0                        0  \n",
       "1                        0  \n",
       "2                        0  \n",
       "3                        0  \n",
       "4                        0  "
      ]
     },
     "execution_count": 66,
     "metadata": {},
     "output_type": "execute_result"
    }
   ],
   "source": [
    "Train.head()"
   ]
  },
  {
   "cell_type": "code",
   "execution_count": 67,
   "id": "3d4a5e7e",
   "metadata": {},
   "outputs": [
    {
     "data": {
      "text/plain": [
       "Index(['season', 'holiday', 'workingday', 'weather', 'temp', 'atemp',\n",
       "       'humidity', 'windspeed', 'Total_booking', 'date', 'year', 'month',\n",
       "       'hour', 'weekday', 'season_Spring', 'season_Summer', 'season_Winter',\n",
       "       'weather_ Heavy Rain + Thunderstorm ',\n",
       "       'weather_ Light Snow, Light Rain', 'weather_ Mist + Cloudy '],\n",
       "      dtype='object')"
      ]
     },
     "execution_count": 67,
     "metadata": {},
     "output_type": "execute_result"
    }
   ],
   "source": [
    "Train.columns"
   ]
  },
  {
   "cell_type": "code",
   "execution_count": 68,
   "id": "a3b7153e",
   "metadata": {},
   "outputs": [
    {
     "data": {
      "text/plain": [
       "array(['Wednesday', 'Thursday', 'Friday', 'Tuesday', 'Saturday', 'Monday',\n",
       "       'Sunday'], dtype=object)"
      ]
     },
     "execution_count": 68,
     "metadata": {},
     "output_type": "execute_result"
    }
   ],
   "source": [
    "Train['weekday'].unique()"
   ]
  },
  {
   "cell_type": "code",
   "execution_count": 69,
   "id": "b9829bd2",
   "metadata": {},
   "outputs": [],
   "source": [
    "d = {'Sunday':0,'Monday':1,'Tuesday':2,'Wednesday':3,'Thursday':4,'Friday':5,'Saturday':6}"
   ]
  },
  {
   "cell_type": "code",
   "execution_count": 70,
   "id": "eb6fd43b",
   "metadata": {},
   "outputs": [],
   "source": [
    "Train['weekday_no']= Train['weekday'].map(d)"
   ]
  },
  {
   "cell_type": "code",
   "execution_count": 71,
   "id": "eb9850c0",
   "metadata": {},
   "outputs": [
    {
     "data": {
      "text/html": [
       "<div>\n",
       "<style scoped>\n",
       "    .dataframe tbody tr th:only-of-type {\n",
       "        vertical-align: middle;\n",
       "    }\n",
       "\n",
       "    .dataframe tbody tr th {\n",
       "        vertical-align: top;\n",
       "    }\n",
       "\n",
       "    .dataframe thead th {\n",
       "        text-align: right;\n",
       "    }\n",
       "</style>\n",
       "<table border=\"1\" class=\"dataframe\">\n",
       "  <thead>\n",
       "    <tr style=\"text-align: right;\">\n",
       "      <th></th>\n",
       "      <th>season</th>\n",
       "      <th>holiday</th>\n",
       "      <th>workingday</th>\n",
       "      <th>weather</th>\n",
       "      <th>temp</th>\n",
       "      <th>atemp</th>\n",
       "      <th>humidity</th>\n",
       "      <th>windspeed</th>\n",
       "      <th>Total_booking</th>\n",
       "      <th>date</th>\n",
       "      <th>...</th>\n",
       "      <th>month</th>\n",
       "      <th>hour</th>\n",
       "      <th>weekday</th>\n",
       "      <th>season_Spring</th>\n",
       "      <th>season_Summer</th>\n",
       "      <th>season_Winter</th>\n",
       "      <th>weather_ Heavy Rain + Thunderstorm</th>\n",
       "      <th>weather_ Light Snow, Light Rain</th>\n",
       "      <th>weather_ Mist + Cloudy</th>\n",
       "      <th>weekday_no</th>\n",
       "    </tr>\n",
       "  </thead>\n",
       "  <tbody>\n",
       "    <tr>\n",
       "      <th>0</th>\n",
       "      <td>Summer</td>\n",
       "      <td>0</td>\n",
       "      <td>1</td>\n",
       "      <td>Clear + Few clouds</td>\n",
       "      <td>22.14</td>\n",
       "      <td>25.760</td>\n",
       "      <td>77</td>\n",
       "      <td>16.9979</td>\n",
       "      <td>504</td>\n",
       "      <td>2012-05-02 19:00:00</td>\n",
       "      <td>...</td>\n",
       "      <td>May</td>\n",
       "      <td>19</td>\n",
       "      <td>Wednesday</td>\n",
       "      <td>0</td>\n",
       "      <td>1</td>\n",
       "      <td>0</td>\n",
       "      <td>0</td>\n",
       "      <td>0</td>\n",
       "      <td>0</td>\n",
       "      <td>3</td>\n",
       "    </tr>\n",
       "    <tr>\n",
       "      <th>1</th>\n",
       "      <td>Fall</td>\n",
       "      <td>0</td>\n",
       "      <td>1</td>\n",
       "      <td>Clear + Few clouds</td>\n",
       "      <td>28.70</td>\n",
       "      <td>33.335</td>\n",
       "      <td>79</td>\n",
       "      <td>19.0012</td>\n",
       "      <td>5</td>\n",
       "      <td>2012-09-05 04:00:00</td>\n",
       "      <td>...</td>\n",
       "      <td>September</td>\n",
       "      <td>4</td>\n",
       "      <td>Wednesday</td>\n",
       "      <td>0</td>\n",
       "      <td>0</td>\n",
       "      <td>0</td>\n",
       "      <td>0</td>\n",
       "      <td>0</td>\n",
       "      <td>0</td>\n",
       "      <td>3</td>\n",
       "    </tr>\n",
       "    <tr>\n",
       "      <th>2</th>\n",
       "      <td>Spring</td>\n",
       "      <td>0</td>\n",
       "      <td>1</td>\n",
       "      <td>Clear + Few clouds</td>\n",
       "      <td>5.74</td>\n",
       "      <td>6.060</td>\n",
       "      <td>50</td>\n",
       "      <td>22.0028</td>\n",
       "      <td>139</td>\n",
       "      <td>2011-01-13 09:00:00</td>\n",
       "      <td>...</td>\n",
       "      <td>January</td>\n",
       "      <td>9</td>\n",
       "      <td>Thursday</td>\n",
       "      <td>1</td>\n",
       "      <td>0</td>\n",
       "      <td>0</td>\n",
       "      <td>0</td>\n",
       "      <td>0</td>\n",
       "      <td>0</td>\n",
       "      <td>4</td>\n",
       "    </tr>\n",
       "    <tr>\n",
       "      <th>3</th>\n",
       "      <td>Winter</td>\n",
       "      <td>0</td>\n",
       "      <td>1</td>\n",
       "      <td>Clear + Few clouds</td>\n",
       "      <td>13.94</td>\n",
       "      <td>16.665</td>\n",
       "      <td>29</td>\n",
       "      <td>8.9981</td>\n",
       "      <td>209</td>\n",
       "      <td>2011-11-18 16:00:00</td>\n",
       "      <td>...</td>\n",
       "      <td>November</td>\n",
       "      <td>16</td>\n",
       "      <td>Friday</td>\n",
       "      <td>0</td>\n",
       "      <td>0</td>\n",
       "      <td>1</td>\n",
       "      <td>0</td>\n",
       "      <td>0</td>\n",
       "      <td>0</td>\n",
       "      <td>5</td>\n",
       "    </tr>\n",
       "    <tr>\n",
       "      <th>4</th>\n",
       "      <td>Fall</td>\n",
       "      <td>0</td>\n",
       "      <td>1</td>\n",
       "      <td>Clear + Few clouds</td>\n",
       "      <td>30.34</td>\n",
       "      <td>33.335</td>\n",
       "      <td>51</td>\n",
       "      <td>19.0012</td>\n",
       "      <td>184</td>\n",
       "      <td>2011-09-13 13:00:00</td>\n",
       "      <td>...</td>\n",
       "      <td>September</td>\n",
       "      <td>13</td>\n",
       "      <td>Tuesday</td>\n",
       "      <td>0</td>\n",
       "      <td>0</td>\n",
       "      <td>0</td>\n",
       "      <td>0</td>\n",
       "      <td>0</td>\n",
       "      <td>0</td>\n",
       "      <td>2</td>\n",
       "    </tr>\n",
       "  </tbody>\n",
       "</table>\n",
       "<p>5 rows × 21 columns</p>\n",
       "</div>"
      ],
      "text/plain": [
       "   season holiday workingday              weather   temp   atemp  humidity  \\\n",
       "0  Summer       0          1   Clear + Few clouds  22.14  25.760        77   \n",
       "1    Fall       0          1   Clear + Few clouds  28.70  33.335        79   \n",
       "2  Spring       0          1   Clear + Few clouds   5.74   6.060        50   \n",
       "3  Winter       0          1   Clear + Few clouds  13.94  16.665        29   \n",
       "4    Fall       0          1   Clear + Few clouds  30.34  33.335        51   \n",
       "\n",
       "   windspeed  Total_booking                date  ...      month hour  \\\n",
       "0    16.9979            504 2012-05-02 19:00:00  ...        May   19   \n",
       "1    19.0012              5 2012-09-05 04:00:00  ...  September    4   \n",
       "2    22.0028            139 2011-01-13 09:00:00  ...    January    9   \n",
       "3     8.9981            209 2011-11-18 16:00:00  ...   November   16   \n",
       "4    19.0012            184 2011-09-13 13:00:00  ...  September   13   \n",
       "\n",
       "     weekday season_Spring  season_Summer  season_Winter  \\\n",
       "0  Wednesday             0              1              0   \n",
       "1  Wednesday             0              0              0   \n",
       "2   Thursday             1              0              0   \n",
       "3     Friday             0              0              1   \n",
       "4    Tuesday             0              0              0   \n",
       "\n",
       "   weather_ Heavy Rain + Thunderstorm   weather_ Light Snow, Light Rain  \\\n",
       "0                                    0                                0   \n",
       "1                                    0                                0   \n",
       "2                                    0                                0   \n",
       "3                                    0                                0   \n",
       "4                                    0                                0   \n",
       "\n",
       "   weather_ Mist + Cloudy   weekday_no  \n",
       "0                        0           3  \n",
       "1                        0           3  \n",
       "2                        0           4  \n",
       "3                        0           5  \n",
       "4                        0           2  \n",
       "\n",
       "[5 rows x 21 columns]"
      ]
     },
     "execution_count": 71,
     "metadata": {},
     "output_type": "execute_result"
    }
   ],
   "source": [
    "Train.head()"
   ]
  },
  {
   "cell_type": "code",
   "execution_count": 72,
   "id": "8ea0afc4",
   "metadata": {},
   "outputs": [
    {
     "data": {
      "text/html": [
       "<div>\n",
       "<style scoped>\n",
       "    .dataframe tbody tr th:only-of-type {\n",
       "        vertical-align: middle;\n",
       "    }\n",
       "\n",
       "    .dataframe tbody tr th {\n",
       "        vertical-align: top;\n",
       "    }\n",
       "\n",
       "    .dataframe thead th {\n",
       "        text-align: right;\n",
       "    }\n",
       "</style>\n",
       "<table border=\"1\" class=\"dataframe\">\n",
       "  <thead>\n",
       "    <tr style=\"text-align: right;\">\n",
       "      <th></th>\n",
       "      <th>temp</th>\n",
       "      <th>atemp</th>\n",
       "      <th>humidity</th>\n",
       "      <th>windspeed</th>\n",
       "      <th>Total_booking</th>\n",
       "      <th>year</th>\n",
       "      <th>hour</th>\n",
       "      <th>season_Spring</th>\n",
       "      <th>season_Summer</th>\n",
       "      <th>season_Winter</th>\n",
       "      <th>weather_ Heavy Rain + Thunderstorm</th>\n",
       "      <th>weather_ Light Snow, Light Rain</th>\n",
       "      <th>weather_ Mist + Cloudy</th>\n",
       "      <th>weekday_no</th>\n",
       "    </tr>\n",
       "  </thead>\n",
       "  <tbody>\n",
       "    <tr>\n",
       "      <th>temp</th>\n",
       "      <td>1.000000</td>\n",
       "      <td>0.985214</td>\n",
       "      <td>-0.052052</td>\n",
       "      <td>-0.031265</td>\n",
       "      <td>0.389198</td>\n",
       "      <td>0.045449</td>\n",
       "      <td>0.134702</td>\n",
       "      <td>-0.567009</td>\n",
       "      <td>0.193684</td>\n",
       "      <td>-0.262132</td>\n",
       "      <td>-0.016535</td>\n",
       "      <td>-0.022403</td>\n",
       "      <td>-0.045424</td>\n",
       "      <td>-0.023604</td>\n",
       "    </tr>\n",
       "    <tr>\n",
       "      <th>atemp</th>\n",
       "      <td>0.985214</td>\n",
       "      <td>1.000000</td>\n",
       "      <td>-0.030614</td>\n",
       "      <td>-0.073184</td>\n",
       "      <td>0.386209</td>\n",
       "      <td>0.042717</td>\n",
       "      <td>0.130159</td>\n",
       "      <td>-0.571875</td>\n",
       "      <td>0.206073</td>\n",
       "      <td>-0.240840</td>\n",
       "      <td>-0.015495</td>\n",
       "      <td>-0.029295</td>\n",
       "      <td>-0.038411</td>\n",
       "      <td>-0.032126</td>\n",
       "    </tr>\n",
       "    <tr>\n",
       "      <th>humidity</th>\n",
       "      <td>-0.052052</td>\n",
       "      <td>-0.030614</td>\n",
       "      <td>1.000000</td>\n",
       "      <td>-0.322381</td>\n",
       "      <td>-0.312485</td>\n",
       "      <td>-0.062993</td>\n",
       "      <td>-0.266331</td>\n",
       "      <td>-0.178718</td>\n",
       "      <td>-0.016286</td>\n",
       "      <td>0.121029</td>\n",
       "      <td>0.013643</td>\n",
       "      <td>0.291695</td>\n",
       "      <td>0.219530</td>\n",
       "      <td>-0.065087</td>\n",
       "    </tr>\n",
       "    <tr>\n",
       "      <th>windspeed</th>\n",
       "      <td>-0.031265</td>\n",
       "      <td>-0.073184</td>\n",
       "      <td>-0.322381</td>\n",
       "      <td>1.000000</td>\n",
       "      <td>0.102777</td>\n",
       "      <td>-0.019651</td>\n",
       "      <td>0.131759</td>\n",
       "      <td>0.142744</td>\n",
       "      <td>0.041349</td>\n",
       "      <td>-0.080572</td>\n",
       "      <td>-0.009045</td>\n",
       "      <td>0.048152</td>\n",
       "      <td>-0.052236</td>\n",
       "      <td>-0.006030</td>\n",
       "    </tr>\n",
       "    <tr>\n",
       "      <th>Total_booking</th>\n",
       "      <td>0.389198</td>\n",
       "      <td>0.386209</td>\n",
       "      <td>-0.312485</td>\n",
       "      <td>0.102777</td>\n",
       "      <td>1.000000</td>\n",
       "      <td>0.213508</td>\n",
       "      <td>0.425427</td>\n",
       "      <td>-0.234284</td>\n",
       "      <td>0.066731</td>\n",
       "      <td>0.039575</td>\n",
       "      <td>-0.000902</td>\n",
       "      <td>-0.123344</td>\n",
       "      <td>-0.031498</td>\n",
       "      <td>0.029191</td>\n",
       "    </tr>\n",
       "    <tr>\n",
       "      <th>year</th>\n",
       "      <td>0.045449</td>\n",
       "      <td>0.042717</td>\n",
       "      <td>-0.062993</td>\n",
       "      <td>-0.019651</td>\n",
       "      <td>0.213508</td>\n",
       "      <td>1.000000</td>\n",
       "      <td>-0.006549</td>\n",
       "      <td>0.008757</td>\n",
       "      <td>-0.010650</td>\n",
       "      <td>0.007711</td>\n",
       "      <td>0.011066</td>\n",
       "      <td>-0.017910</td>\n",
       "      <td>0.021182</td>\n",
       "      <td>-0.018463</td>\n",
       "    </tr>\n",
       "    <tr>\n",
       "      <th>hour</th>\n",
       "      <td>0.134702</td>\n",
       "      <td>0.130159</td>\n",
       "      <td>-0.266331</td>\n",
       "      <td>0.131759</td>\n",
       "      <td>0.425427</td>\n",
       "      <td>-0.006549</td>\n",
       "      <td>1.000000</td>\n",
       "      <td>0.013544</td>\n",
       "      <td>-0.011084</td>\n",
       "      <td>0.004737</td>\n",
       "      <td>0.010191</td>\n",
       "      <td>0.013217</td>\n",
       "      <td>-0.048487</td>\n",
       "      <td>-0.009356</td>\n",
       "    </tr>\n",
       "    <tr>\n",
       "      <th>season_Spring</th>\n",
       "      <td>-0.567009</td>\n",
       "      <td>-0.571875</td>\n",
       "      <td>-0.178718</td>\n",
       "      <td>0.142744</td>\n",
       "      <td>-0.234284</td>\n",
       "      <td>0.008757</td>\n",
       "      <td>0.013544</td>\n",
       "      <td>1.000000</td>\n",
       "      <td>-0.333963</td>\n",
       "      <td>-0.336173</td>\n",
       "      <td>0.018781</td>\n",
       "      <td>-0.003373</td>\n",
       "      <td>0.007298</td>\n",
       "      <td>0.013268</td>\n",
       "    </tr>\n",
       "    <tr>\n",
       "      <th>season_Summer</th>\n",
       "      <td>0.193684</td>\n",
       "      <td>0.206073</td>\n",
       "      <td>-0.016286</td>\n",
       "      <td>0.041349</td>\n",
       "      <td>0.066731</td>\n",
       "      <td>-0.010650</td>\n",
       "      <td>-0.011084</td>\n",
       "      <td>-0.333963</td>\n",
       "      <td>1.000000</td>\n",
       "      <td>-0.335222</td>\n",
       "      <td>-0.006272</td>\n",
       "      <td>0.006433</td>\n",
       "      <td>0.001950</td>\n",
       "      <td>-0.006457</td>\n",
       "    </tr>\n",
       "    <tr>\n",
       "      <th>season_Winter</th>\n",
       "      <td>-0.262132</td>\n",
       "      <td>-0.240840</td>\n",
       "      <td>0.121029</td>\n",
       "      <td>-0.080572</td>\n",
       "      <td>0.039575</td>\n",
       "      <td>0.007711</td>\n",
       "      <td>0.004737</td>\n",
       "      <td>-0.336173</td>\n",
       "      <td>-0.335222</td>\n",
       "      <td>1.000000</td>\n",
       "      <td>-0.006314</td>\n",
       "      <td>0.007756</td>\n",
       "      <td>0.043667</td>\n",
       "      <td>0.006105</td>\n",
       "    </tr>\n",
       "    <tr>\n",
       "      <th>weather_ Heavy Rain + Thunderstorm</th>\n",
       "      <td>-0.016535</td>\n",
       "      <td>-0.015495</td>\n",
       "      <td>0.013643</td>\n",
       "      <td>-0.009045</td>\n",
       "      <td>-0.000902</td>\n",
       "      <td>0.011066</td>\n",
       "      <td>0.010191</td>\n",
       "      <td>0.018781</td>\n",
       "      <td>-0.006272</td>\n",
       "      <td>-0.006314</td>\n",
       "      <td>1.000000</td>\n",
       "      <td>-0.003189</td>\n",
       "      <td>-0.006482</td>\n",
       "      <td>-0.010759</td>\n",
       "    </tr>\n",
       "    <tr>\n",
       "      <th>weather_ Light Snow, Light Rain</th>\n",
       "      <td>-0.022403</td>\n",
       "      <td>-0.029295</td>\n",
       "      <td>0.291695</td>\n",
       "      <td>0.048152</td>\n",
       "      <td>-0.123344</td>\n",
       "      <td>-0.017910</td>\n",
       "      <td>0.013217</td>\n",
       "      <td>-0.003373</td>\n",
       "      <td>0.006433</td>\n",
       "      <td>0.007756</td>\n",
       "      <td>-0.003189</td>\n",
       "      <td>1.000000</td>\n",
       "      <td>-0.174969</td>\n",
       "      <td>0.004911</td>\n",
       "    </tr>\n",
       "    <tr>\n",
       "      <th>weather_ Mist + Cloudy</th>\n",
       "      <td>-0.045424</td>\n",
       "      <td>-0.038411</td>\n",
       "      <td>0.219530</td>\n",
       "      <td>-0.052236</td>\n",
       "      <td>-0.031498</td>\n",
       "      <td>0.021182</td>\n",
       "      <td>-0.048487</td>\n",
       "      <td>0.007298</td>\n",
       "      <td>0.001950</td>\n",
       "      <td>0.043667</td>\n",
       "      <td>-0.006482</td>\n",
       "      <td>-0.174969</td>\n",
       "      <td>1.000000</td>\n",
       "      <td>-0.027609</td>\n",
       "    </tr>\n",
       "    <tr>\n",
       "      <th>weekday_no</th>\n",
       "      <td>-0.023604</td>\n",
       "      <td>-0.032126</td>\n",
       "      <td>-0.065087</td>\n",
       "      <td>-0.006030</td>\n",
       "      <td>0.029191</td>\n",
       "      <td>-0.018463</td>\n",
       "      <td>-0.009356</td>\n",
       "      <td>0.013268</td>\n",
       "      <td>-0.006457</td>\n",
       "      <td>0.006105</td>\n",
       "      <td>-0.010759</td>\n",
       "      <td>0.004911</td>\n",
       "      <td>-0.027609</td>\n",
       "      <td>1.000000</td>\n",
       "    </tr>\n",
       "  </tbody>\n",
       "</table>\n",
       "</div>"
      ],
      "text/plain": [
       "                                         temp     atemp  humidity  windspeed  \\\n",
       "temp                                 1.000000  0.985214 -0.052052  -0.031265   \n",
       "atemp                                0.985214  1.000000 -0.030614  -0.073184   \n",
       "humidity                            -0.052052 -0.030614  1.000000  -0.322381   \n",
       "windspeed                           -0.031265 -0.073184 -0.322381   1.000000   \n",
       "Total_booking                        0.389198  0.386209 -0.312485   0.102777   \n",
       "year                                 0.045449  0.042717 -0.062993  -0.019651   \n",
       "hour                                 0.134702  0.130159 -0.266331   0.131759   \n",
       "season_Spring                       -0.567009 -0.571875 -0.178718   0.142744   \n",
       "season_Summer                        0.193684  0.206073 -0.016286   0.041349   \n",
       "season_Winter                       -0.262132 -0.240840  0.121029  -0.080572   \n",
       "weather_ Heavy Rain + Thunderstorm  -0.016535 -0.015495  0.013643  -0.009045   \n",
       "weather_ Light Snow, Light Rain     -0.022403 -0.029295  0.291695   0.048152   \n",
       "weather_ Mist + Cloudy              -0.045424 -0.038411  0.219530  -0.052236   \n",
       "weekday_no                          -0.023604 -0.032126 -0.065087  -0.006030   \n",
       "\n",
       "                                     Total_booking      year      hour  \\\n",
       "temp                                      0.389198  0.045449  0.134702   \n",
       "atemp                                     0.386209  0.042717  0.130159   \n",
       "humidity                                 -0.312485 -0.062993 -0.266331   \n",
       "windspeed                                 0.102777 -0.019651  0.131759   \n",
       "Total_booking                             1.000000  0.213508  0.425427   \n",
       "year                                      0.213508  1.000000 -0.006549   \n",
       "hour                                      0.425427 -0.006549  1.000000   \n",
       "season_Spring                            -0.234284  0.008757  0.013544   \n",
       "season_Summer                             0.066731 -0.010650 -0.011084   \n",
       "season_Winter                             0.039575  0.007711  0.004737   \n",
       "weather_ Heavy Rain + Thunderstorm       -0.000902  0.011066  0.010191   \n",
       "weather_ Light Snow, Light Rain          -0.123344 -0.017910  0.013217   \n",
       "weather_ Mist + Cloudy                   -0.031498  0.021182 -0.048487   \n",
       "weekday_no                                0.029191 -0.018463 -0.009356   \n",
       "\n",
       "                                     season_Spring  season_Summer  \\\n",
       "temp                                     -0.567009       0.193684   \n",
       "atemp                                    -0.571875       0.206073   \n",
       "humidity                                 -0.178718      -0.016286   \n",
       "windspeed                                 0.142744       0.041349   \n",
       "Total_booking                            -0.234284       0.066731   \n",
       "year                                      0.008757      -0.010650   \n",
       "hour                                      0.013544      -0.011084   \n",
       "season_Spring                             1.000000      -0.333963   \n",
       "season_Summer                            -0.333963       1.000000   \n",
       "season_Winter                            -0.336173      -0.335222   \n",
       "weather_ Heavy Rain + Thunderstorm        0.018781      -0.006272   \n",
       "weather_ Light Snow, Light Rain          -0.003373       0.006433   \n",
       "weather_ Mist + Cloudy                    0.007298       0.001950   \n",
       "weekday_no                                0.013268      -0.006457   \n",
       "\n",
       "                                     season_Winter  \\\n",
       "temp                                     -0.262132   \n",
       "atemp                                    -0.240840   \n",
       "humidity                                  0.121029   \n",
       "windspeed                                -0.080572   \n",
       "Total_booking                             0.039575   \n",
       "year                                      0.007711   \n",
       "hour                                      0.004737   \n",
       "season_Spring                            -0.336173   \n",
       "season_Summer                            -0.335222   \n",
       "season_Winter                             1.000000   \n",
       "weather_ Heavy Rain + Thunderstorm       -0.006314   \n",
       "weather_ Light Snow, Light Rain           0.007756   \n",
       "weather_ Mist + Cloudy                    0.043667   \n",
       "weekday_no                                0.006105   \n",
       "\n",
       "                                     weather_ Heavy Rain + Thunderstorm   \\\n",
       "temp                                                           -0.016535   \n",
       "atemp                                                          -0.015495   \n",
       "humidity                                                        0.013643   \n",
       "windspeed                                                      -0.009045   \n",
       "Total_booking                                                  -0.000902   \n",
       "year                                                            0.011066   \n",
       "hour                                                            0.010191   \n",
       "season_Spring                                                   0.018781   \n",
       "season_Summer                                                  -0.006272   \n",
       "season_Winter                                                  -0.006314   \n",
       "weather_ Heavy Rain + Thunderstorm                              1.000000   \n",
       "weather_ Light Snow, Light Rain                                -0.003189   \n",
       "weather_ Mist + Cloudy                                         -0.006482   \n",
       "weekday_no                                                     -0.010759   \n",
       "\n",
       "                                     weather_ Light Snow, Light Rain  \\\n",
       "temp                                                       -0.022403   \n",
       "atemp                                                      -0.029295   \n",
       "humidity                                                    0.291695   \n",
       "windspeed                                                   0.048152   \n",
       "Total_booking                                              -0.123344   \n",
       "year                                                       -0.017910   \n",
       "hour                                                        0.013217   \n",
       "season_Spring                                              -0.003373   \n",
       "season_Summer                                               0.006433   \n",
       "season_Winter                                               0.007756   \n",
       "weather_ Heavy Rain + Thunderstorm                         -0.003189   \n",
       "weather_ Light Snow, Light Rain                             1.000000   \n",
       "weather_ Mist + Cloudy                                     -0.174969   \n",
       "weekday_no                                                  0.004911   \n",
       "\n",
       "                                     weather_ Mist + Cloudy   weekday_no  \n",
       "temp                                               -0.045424   -0.023604  \n",
       "atemp                                              -0.038411   -0.032126  \n",
       "humidity                                            0.219530   -0.065087  \n",
       "windspeed                                          -0.052236   -0.006030  \n",
       "Total_booking                                      -0.031498    0.029191  \n",
       "year                                                0.021182   -0.018463  \n",
       "hour                                               -0.048487   -0.009356  \n",
       "season_Spring                                       0.007298    0.013268  \n",
       "season_Summer                                       0.001950   -0.006457  \n",
       "season_Winter                                       0.043667    0.006105  \n",
       "weather_ Heavy Rain + Thunderstorm                 -0.006482   -0.010759  \n",
       "weather_ Light Snow, Light Rain                    -0.174969    0.004911  \n",
       "weather_ Mist + Cloudy                              1.000000   -0.027609  \n",
       "weekday_no                                         -0.027609    1.000000  "
      ]
     },
     "execution_count": 72,
     "metadata": {},
     "output_type": "execute_result"
    }
   ],
   "source": [
    "Train.corr()"
   ]
  },
  {
   "cell_type": "code",
   "execution_count": 73,
   "id": "e5937c14",
   "metadata": {},
   "outputs": [
    {
     "data": {
      "text/html": [
       "<div>\n",
       "<style scoped>\n",
       "    .dataframe tbody tr th:only-of-type {\n",
       "        vertical-align: middle;\n",
       "    }\n",
       "\n",
       "    .dataframe tbody tr th {\n",
       "        vertical-align: top;\n",
       "    }\n",
       "\n",
       "    .dataframe thead th {\n",
       "        text-align: right;\n",
       "    }\n",
       "</style>\n",
       "<table border=\"1\" class=\"dataframe\">\n",
       "  <thead>\n",
       "    <tr style=\"text-align: right;\">\n",
       "      <th></th>\n",
       "      <th>season</th>\n",
       "      <th>holiday</th>\n",
       "      <th>workingday</th>\n",
       "      <th>weather</th>\n",
       "      <th>temp</th>\n",
       "      <th>atemp</th>\n",
       "      <th>humidity</th>\n",
       "      <th>windspeed</th>\n",
       "      <th>Total_booking</th>\n",
       "      <th>date</th>\n",
       "      <th>...</th>\n",
       "      <th>month</th>\n",
       "      <th>hour</th>\n",
       "      <th>weekday</th>\n",
       "      <th>season_Spring</th>\n",
       "      <th>season_Summer</th>\n",
       "      <th>season_Winter</th>\n",
       "      <th>weather_ Heavy Rain + Thunderstorm</th>\n",
       "      <th>weather_ Light Snow, Light Rain</th>\n",
       "      <th>weather_ Mist + Cloudy</th>\n",
       "      <th>weekday_no</th>\n",
       "    </tr>\n",
       "  </thead>\n",
       "  <tbody>\n",
       "    <tr>\n",
       "      <th>0</th>\n",
       "      <td>Summer</td>\n",
       "      <td>0</td>\n",
       "      <td>1</td>\n",
       "      <td>Clear + Few clouds</td>\n",
       "      <td>22.14</td>\n",
       "      <td>25.760</td>\n",
       "      <td>77</td>\n",
       "      <td>16.9979</td>\n",
       "      <td>504</td>\n",
       "      <td>2012-05-02 19:00:00</td>\n",
       "      <td>...</td>\n",
       "      <td>May</td>\n",
       "      <td>19</td>\n",
       "      <td>Wednesday</td>\n",
       "      <td>0</td>\n",
       "      <td>1</td>\n",
       "      <td>0</td>\n",
       "      <td>0</td>\n",
       "      <td>0</td>\n",
       "      <td>0</td>\n",
       "      <td>3</td>\n",
       "    </tr>\n",
       "    <tr>\n",
       "      <th>1</th>\n",
       "      <td>Fall</td>\n",
       "      <td>0</td>\n",
       "      <td>1</td>\n",
       "      <td>Clear + Few clouds</td>\n",
       "      <td>28.70</td>\n",
       "      <td>33.335</td>\n",
       "      <td>79</td>\n",
       "      <td>19.0012</td>\n",
       "      <td>5</td>\n",
       "      <td>2012-09-05 04:00:00</td>\n",
       "      <td>...</td>\n",
       "      <td>September</td>\n",
       "      <td>4</td>\n",
       "      <td>Wednesday</td>\n",
       "      <td>0</td>\n",
       "      <td>0</td>\n",
       "      <td>0</td>\n",
       "      <td>0</td>\n",
       "      <td>0</td>\n",
       "      <td>0</td>\n",
       "      <td>3</td>\n",
       "    </tr>\n",
       "    <tr>\n",
       "      <th>2</th>\n",
       "      <td>Spring</td>\n",
       "      <td>0</td>\n",
       "      <td>1</td>\n",
       "      <td>Clear + Few clouds</td>\n",
       "      <td>5.74</td>\n",
       "      <td>6.060</td>\n",
       "      <td>50</td>\n",
       "      <td>22.0028</td>\n",
       "      <td>139</td>\n",
       "      <td>2011-01-13 09:00:00</td>\n",
       "      <td>...</td>\n",
       "      <td>January</td>\n",
       "      <td>9</td>\n",
       "      <td>Thursday</td>\n",
       "      <td>1</td>\n",
       "      <td>0</td>\n",
       "      <td>0</td>\n",
       "      <td>0</td>\n",
       "      <td>0</td>\n",
       "      <td>0</td>\n",
       "      <td>4</td>\n",
       "    </tr>\n",
       "    <tr>\n",
       "      <th>3</th>\n",
       "      <td>Winter</td>\n",
       "      <td>0</td>\n",
       "      <td>1</td>\n",
       "      <td>Clear + Few clouds</td>\n",
       "      <td>13.94</td>\n",
       "      <td>16.665</td>\n",
       "      <td>29</td>\n",
       "      <td>8.9981</td>\n",
       "      <td>209</td>\n",
       "      <td>2011-11-18 16:00:00</td>\n",
       "      <td>...</td>\n",
       "      <td>November</td>\n",
       "      <td>16</td>\n",
       "      <td>Friday</td>\n",
       "      <td>0</td>\n",
       "      <td>0</td>\n",
       "      <td>1</td>\n",
       "      <td>0</td>\n",
       "      <td>0</td>\n",
       "      <td>0</td>\n",
       "      <td>5</td>\n",
       "    </tr>\n",
       "    <tr>\n",
       "      <th>4</th>\n",
       "      <td>Fall</td>\n",
       "      <td>0</td>\n",
       "      <td>1</td>\n",
       "      <td>Clear + Few clouds</td>\n",
       "      <td>30.34</td>\n",
       "      <td>33.335</td>\n",
       "      <td>51</td>\n",
       "      <td>19.0012</td>\n",
       "      <td>184</td>\n",
       "      <td>2011-09-13 13:00:00</td>\n",
       "      <td>...</td>\n",
       "      <td>September</td>\n",
       "      <td>13</td>\n",
       "      <td>Tuesday</td>\n",
       "      <td>0</td>\n",
       "      <td>0</td>\n",
       "      <td>0</td>\n",
       "      <td>0</td>\n",
       "      <td>0</td>\n",
       "      <td>0</td>\n",
       "      <td>2</td>\n",
       "    </tr>\n",
       "  </tbody>\n",
       "</table>\n",
       "<p>5 rows × 21 columns</p>\n",
       "</div>"
      ],
      "text/plain": [
       "   season holiday workingday              weather   temp   atemp  humidity  \\\n",
       "0  Summer       0          1   Clear + Few clouds  22.14  25.760        77   \n",
       "1    Fall       0          1   Clear + Few clouds  28.70  33.335        79   \n",
       "2  Spring       0          1   Clear + Few clouds   5.74   6.060        50   \n",
       "3  Winter       0          1   Clear + Few clouds  13.94  16.665        29   \n",
       "4    Fall       0          1   Clear + Few clouds  30.34  33.335        51   \n",
       "\n",
       "   windspeed  Total_booking                date  ...      month hour  \\\n",
       "0    16.9979            504 2012-05-02 19:00:00  ...        May   19   \n",
       "1    19.0012              5 2012-09-05 04:00:00  ...  September    4   \n",
       "2    22.0028            139 2011-01-13 09:00:00  ...    January    9   \n",
       "3     8.9981            209 2011-11-18 16:00:00  ...   November   16   \n",
       "4    19.0012            184 2011-09-13 13:00:00  ...  September   13   \n",
       "\n",
       "     weekday season_Spring  season_Summer  season_Winter  \\\n",
       "0  Wednesday             0              1              0   \n",
       "1  Wednesday             0              0              0   \n",
       "2   Thursday             1              0              0   \n",
       "3     Friday             0              0              1   \n",
       "4    Tuesday             0              0              0   \n",
       "\n",
       "   weather_ Heavy Rain + Thunderstorm   weather_ Light Snow, Light Rain  \\\n",
       "0                                    0                                0   \n",
       "1                                    0                                0   \n",
       "2                                    0                                0   \n",
       "3                                    0                                0   \n",
       "4                                    0                                0   \n",
       "\n",
       "   weather_ Mist + Cloudy   weekday_no  \n",
       "0                        0           3  \n",
       "1                        0           3  \n",
       "2                        0           4  \n",
       "3                        0           5  \n",
       "4                        0           2  \n",
       "\n",
       "[5 rows x 21 columns]"
      ]
     },
     "execution_count": 73,
     "metadata": {},
     "output_type": "execute_result"
    }
   ],
   "source": [
    "Train.head()"
   ]
  },
  {
   "cell_type": "code",
   "execution_count": 74,
   "id": "e4b5db12",
   "metadata": {},
   "outputs": [
    {
     "data": {
      "text/plain": [
       "Index(['season', 'holiday', 'workingday', 'weather', 'temp', 'atemp',\n",
       "       'humidity', 'windspeed', 'Total_booking', 'date', 'year', 'month',\n",
       "       'hour', 'weekday', 'season_Spring', 'season_Summer', 'season_Winter',\n",
       "       'weather_ Heavy Rain + Thunderstorm ',\n",
       "       'weather_ Light Snow, Light Rain', 'weather_ Mist + Cloudy ',\n",
       "       'weekday_no'],\n",
       "      dtype='object')"
      ]
     },
     "execution_count": 74,
     "metadata": {},
     "output_type": "execute_result"
    }
   ],
   "source": [
    "Train.columns"
   ]
  },
  {
   "cell_type": "code",
   "execution_count": 75,
   "id": "6d4bddfe",
   "metadata": {},
   "outputs": [],
   "source": [
    "Train.drop(['season','weather','windspeed','date','month','weekday','season_Summer', 'season_Winter',\n",
    "            'weather_ Heavy Rain + Thunderstorm ',\n",
    "            'weather_ Light Snow, Light Rain', 'weather_ Mist + Cloudy ',\n",
    "            'weekday_no'],axis=1,inplace=True)"
   ]
  },
  {
   "cell_type": "code",
   "execution_count": 76,
   "id": "3a45939d",
   "metadata": {},
   "outputs": [
    {
     "data": {
      "text/html": [
       "<div>\n",
       "<style scoped>\n",
       "    .dataframe tbody tr th:only-of-type {\n",
       "        vertical-align: middle;\n",
       "    }\n",
       "\n",
       "    .dataframe tbody tr th {\n",
       "        vertical-align: top;\n",
       "    }\n",
       "\n",
       "    .dataframe thead th {\n",
       "        text-align: right;\n",
       "    }\n",
       "</style>\n",
       "<table border=\"1\" class=\"dataframe\">\n",
       "  <thead>\n",
       "    <tr style=\"text-align: right;\">\n",
       "      <th></th>\n",
       "      <th>holiday</th>\n",
       "      <th>workingday</th>\n",
       "      <th>temp</th>\n",
       "      <th>atemp</th>\n",
       "      <th>humidity</th>\n",
       "      <th>Total_booking</th>\n",
       "      <th>year</th>\n",
       "      <th>hour</th>\n",
       "      <th>season_Spring</th>\n",
       "    </tr>\n",
       "  </thead>\n",
       "  <tbody>\n",
       "    <tr>\n",
       "      <th>0</th>\n",
       "      <td>0</td>\n",
       "      <td>1</td>\n",
       "      <td>22.14</td>\n",
       "      <td>25.760</td>\n",
       "      <td>77</td>\n",
       "      <td>504</td>\n",
       "      <td>2012</td>\n",
       "      <td>19</td>\n",
       "      <td>0</td>\n",
       "    </tr>\n",
       "    <tr>\n",
       "      <th>1</th>\n",
       "      <td>0</td>\n",
       "      <td>1</td>\n",
       "      <td>28.70</td>\n",
       "      <td>33.335</td>\n",
       "      <td>79</td>\n",
       "      <td>5</td>\n",
       "      <td>2012</td>\n",
       "      <td>4</td>\n",
       "      <td>0</td>\n",
       "    </tr>\n",
       "    <tr>\n",
       "      <th>2</th>\n",
       "      <td>0</td>\n",
       "      <td>1</td>\n",
       "      <td>5.74</td>\n",
       "      <td>6.060</td>\n",
       "      <td>50</td>\n",
       "      <td>139</td>\n",
       "      <td>2011</td>\n",
       "      <td>9</td>\n",
       "      <td>1</td>\n",
       "    </tr>\n",
       "    <tr>\n",
       "      <th>3</th>\n",
       "      <td>0</td>\n",
       "      <td>1</td>\n",
       "      <td>13.94</td>\n",
       "      <td>16.665</td>\n",
       "      <td>29</td>\n",
       "      <td>209</td>\n",
       "      <td>2011</td>\n",
       "      <td>16</td>\n",
       "      <td>0</td>\n",
       "    </tr>\n",
       "    <tr>\n",
       "      <th>4</th>\n",
       "      <td>0</td>\n",
       "      <td>1</td>\n",
       "      <td>30.34</td>\n",
       "      <td>33.335</td>\n",
       "      <td>51</td>\n",
       "      <td>184</td>\n",
       "      <td>2011</td>\n",
       "      <td>13</td>\n",
       "      <td>0</td>\n",
       "    </tr>\n",
       "  </tbody>\n",
       "</table>\n",
       "</div>"
      ],
      "text/plain": [
       "  holiday workingday   temp   atemp  humidity  Total_booking  year  hour  \\\n",
       "0       0          1  22.14  25.760        77            504  2012    19   \n",
       "1       0          1  28.70  33.335        79              5  2012     4   \n",
       "2       0          1   5.74   6.060        50            139  2011     9   \n",
       "3       0          1  13.94  16.665        29            209  2011    16   \n",
       "4       0          1  30.34  33.335        51            184  2011    13   \n",
       "\n",
       "   season_Spring  \n",
       "0              0  \n",
       "1              0  \n",
       "2              1  \n",
       "3              0  \n",
       "4              0  "
      ]
     },
     "execution_count": 76,
     "metadata": {},
     "output_type": "execute_result"
    }
   ],
   "source": [
    "Train.head()"
   ]
  },
  {
   "cell_type": "markdown",
   "id": "f5777882",
   "metadata": {},
   "source": [
    "# Preparing the test data to be as same as training data"
   ]
  },
  {
   "cell_type": "code",
   "execution_count": 77,
   "id": "73ce85bf",
   "metadata": {},
   "outputs": [
    {
     "data": {
      "text/html": [
       "<div>\n",
       "<style scoped>\n",
       "    .dataframe tbody tr th:only-of-type {\n",
       "        vertical-align: middle;\n",
       "    }\n",
       "\n",
       "    .dataframe tbody tr th {\n",
       "        vertical-align: top;\n",
       "    }\n",
       "\n",
       "    .dataframe thead th {\n",
       "        text-align: right;\n",
       "    }\n",
       "</style>\n",
       "<table border=\"1\" class=\"dataframe\">\n",
       "  <thead>\n",
       "    <tr style=\"text-align: right;\">\n",
       "      <th></th>\n",
       "      <th>datetime</th>\n",
       "      <th>season</th>\n",
       "      <th>holiday</th>\n",
       "      <th>workingday</th>\n",
       "      <th>weather</th>\n",
       "      <th>temp</th>\n",
       "      <th>atemp</th>\n",
       "      <th>humidity</th>\n",
       "      <th>windspeed</th>\n",
       "      <th>Total_booking</th>\n",
       "      <th>date</th>\n",
       "      <th>year</th>\n",
       "      <th>month</th>\n",
       "      <th>hour</th>\n",
       "      <th>weekday</th>\n",
       "    </tr>\n",
       "  </thead>\n",
       "  <tbody>\n",
       "    <tr>\n",
       "      <th>0</th>\n",
       "      <td>5/10/2012 11:00</td>\n",
       "      <td>Summer</td>\n",
       "      <td>0</td>\n",
       "      <td>1</td>\n",
       "      <td>Clear + Few clouds</td>\n",
       "      <td>21.32</td>\n",
       "      <td>25.000</td>\n",
       "      <td>48</td>\n",
       "      <td>35.0008</td>\n",
       "      <td>256</td>\n",
       "      <td>2012-05-10 11:00:00</td>\n",
       "      <td>2012</td>\n",
       "      <td>May</td>\n",
       "      <td>11</td>\n",
       "      <td>Thursday</td>\n",
       "    </tr>\n",
       "    <tr>\n",
       "      <th>1</th>\n",
       "      <td>6/9/2012 7:00</td>\n",
       "      <td>Summer</td>\n",
       "      <td>0</td>\n",
       "      <td>0</td>\n",
       "      <td>Clear + Few clouds</td>\n",
       "      <td>23.78</td>\n",
       "      <td>27.275</td>\n",
       "      <td>64</td>\n",
       "      <td>7.0015</td>\n",
       "      <td>87</td>\n",
       "      <td>2012-06-09 07:00:00</td>\n",
       "      <td>2012</td>\n",
       "      <td>June</td>\n",
       "      <td>7</td>\n",
       "      <td>Saturday</td>\n",
       "    </tr>\n",
       "    <tr>\n",
       "      <th>2</th>\n",
       "      <td>3/6/2011 20:00</td>\n",
       "      <td>Spring</td>\n",
       "      <td>0</td>\n",
       "      <td>0</td>\n",
       "      <td>Light Snow, Light Rain</td>\n",
       "      <td>11.48</td>\n",
       "      <td>12.120</td>\n",
       "      <td>100</td>\n",
       "      <td>27.9993</td>\n",
       "      <td>11</td>\n",
       "      <td>2011-03-06 20:00:00</td>\n",
       "      <td>2011</td>\n",
       "      <td>March</td>\n",
       "      <td>20</td>\n",
       "      <td>Sunday</td>\n",
       "    </tr>\n",
       "    <tr>\n",
       "      <th>3</th>\n",
       "      <td>10/13/2011 11:00</td>\n",
       "      <td>Winter</td>\n",
       "      <td>0</td>\n",
       "      <td>1</td>\n",
       "      <td>Mist + Cloudy</td>\n",
       "      <td>25.42</td>\n",
       "      <td>28.790</td>\n",
       "      <td>83</td>\n",
       "      <td>0.0000</td>\n",
       "      <td>84</td>\n",
       "      <td>2011-10-13 11:00:00</td>\n",
       "      <td>2011</td>\n",
       "      <td>October</td>\n",
       "      <td>11</td>\n",
       "      <td>Thursday</td>\n",
       "    </tr>\n",
       "    <tr>\n",
       "      <th>4</th>\n",
       "      <td>6/2/2012 12:00</td>\n",
       "      <td>Summer</td>\n",
       "      <td>0</td>\n",
       "      <td>0</td>\n",
       "      <td>Clear + Few clouds</td>\n",
       "      <td>25.42</td>\n",
       "      <td>31.060</td>\n",
       "      <td>43</td>\n",
       "      <td>23.9994</td>\n",
       "      <td>668</td>\n",
       "      <td>2012-06-02 12:00:00</td>\n",
       "      <td>2012</td>\n",
       "      <td>June</td>\n",
       "      <td>12</td>\n",
       "      <td>Saturday</td>\n",
       "    </tr>\n",
       "  </tbody>\n",
       "</table>\n",
       "</div>"
      ],
      "text/plain": [
       "           datetime  season holiday workingday                  weather  \\\n",
       "0   5/10/2012 11:00  Summer       0          1       Clear + Few clouds   \n",
       "1     6/9/2012 7:00  Summer       0          0       Clear + Few clouds   \n",
       "2    3/6/2011 20:00  Spring       0          0   Light Snow, Light Rain   \n",
       "3  10/13/2011 11:00  Winter       0          1           Mist + Cloudy    \n",
       "4    6/2/2012 12:00  Summer       0          0       Clear + Few clouds   \n",
       "\n",
       "    temp   atemp  humidity  windspeed  Total_booking                date  \\\n",
       "0  21.32  25.000        48    35.0008            256 2012-05-10 11:00:00   \n",
       "1  23.78  27.275        64     7.0015             87 2012-06-09 07:00:00   \n",
       "2  11.48  12.120       100    27.9993             11 2011-03-06 20:00:00   \n",
       "3  25.42  28.790        83     0.0000             84 2011-10-13 11:00:00   \n",
       "4  25.42  31.060        43    23.9994            668 2012-06-02 12:00:00   \n",
       "\n",
       "   year    month  hour   weekday  \n",
       "0  2012      May    11  Thursday  \n",
       "1  2012     June     7  Saturday  \n",
       "2  2011    March    20    Sunday  \n",
       "3  2011  October    11  Thursday  \n",
       "4  2012     June    12  Saturday  "
      ]
     },
     "execution_count": 77,
     "metadata": {},
     "output_type": "execute_result"
    }
   ],
   "source": [
    "Test.head()"
   ]
  },
  {
   "cell_type": "code",
   "execution_count": 78,
   "id": "879417c6",
   "metadata": {},
   "outputs": [],
   "source": [
    "dummies = pd.get_dummies(Test[['season','weather']],drop_first=True)"
   ]
  },
  {
   "cell_type": "code",
   "execution_count": 79,
   "id": "fa9948c6",
   "metadata": {},
   "outputs": [
    {
     "data": {
      "text/html": [
       "<div>\n",
       "<style scoped>\n",
       "    .dataframe tbody tr th:only-of-type {\n",
       "        vertical-align: middle;\n",
       "    }\n",
       "\n",
       "    .dataframe tbody tr th {\n",
       "        vertical-align: top;\n",
       "    }\n",
       "\n",
       "    .dataframe thead th {\n",
       "        text-align: right;\n",
       "    }\n",
       "</style>\n",
       "<table border=\"1\" class=\"dataframe\">\n",
       "  <thead>\n",
       "    <tr style=\"text-align: right;\">\n",
       "      <th></th>\n",
       "      <th>season_Spring</th>\n",
       "      <th>season_Summer</th>\n",
       "      <th>season_Winter</th>\n",
       "      <th>weather_ Light Snow, Light Rain</th>\n",
       "      <th>weather_ Mist + Cloudy</th>\n",
       "    </tr>\n",
       "  </thead>\n",
       "  <tbody>\n",
       "    <tr>\n",
       "      <th>0</th>\n",
       "      <td>0</td>\n",
       "      <td>1</td>\n",
       "      <td>0</td>\n",
       "      <td>0</td>\n",
       "      <td>0</td>\n",
       "    </tr>\n",
       "    <tr>\n",
       "      <th>1</th>\n",
       "      <td>0</td>\n",
       "      <td>1</td>\n",
       "      <td>0</td>\n",
       "      <td>0</td>\n",
       "      <td>0</td>\n",
       "    </tr>\n",
       "    <tr>\n",
       "      <th>2</th>\n",
       "      <td>1</td>\n",
       "      <td>0</td>\n",
       "      <td>0</td>\n",
       "      <td>1</td>\n",
       "      <td>0</td>\n",
       "    </tr>\n",
       "    <tr>\n",
       "      <th>3</th>\n",
       "      <td>0</td>\n",
       "      <td>0</td>\n",
       "      <td>1</td>\n",
       "      <td>0</td>\n",
       "      <td>1</td>\n",
       "    </tr>\n",
       "    <tr>\n",
       "      <th>4</th>\n",
       "      <td>0</td>\n",
       "      <td>1</td>\n",
       "      <td>0</td>\n",
       "      <td>0</td>\n",
       "      <td>0</td>\n",
       "    </tr>\n",
       "    <tr>\n",
       "      <th>...</th>\n",
       "      <td>...</td>\n",
       "      <td>...</td>\n",
       "      <td>...</td>\n",
       "      <td>...</td>\n",
       "      <td>...</td>\n",
       "    </tr>\n",
       "    <tr>\n",
       "      <th>2173</th>\n",
       "      <td>1</td>\n",
       "      <td>0</td>\n",
       "      <td>0</td>\n",
       "      <td>0</td>\n",
       "      <td>0</td>\n",
       "    </tr>\n",
       "    <tr>\n",
       "      <th>2174</th>\n",
       "      <td>1</td>\n",
       "      <td>0</td>\n",
       "      <td>0</td>\n",
       "      <td>0</td>\n",
       "      <td>1</td>\n",
       "    </tr>\n",
       "    <tr>\n",
       "      <th>2175</th>\n",
       "      <td>1</td>\n",
       "      <td>0</td>\n",
       "      <td>0</td>\n",
       "      <td>0</td>\n",
       "      <td>0</td>\n",
       "    </tr>\n",
       "    <tr>\n",
       "      <th>2176</th>\n",
       "      <td>0</td>\n",
       "      <td>1</td>\n",
       "      <td>0</td>\n",
       "      <td>0</td>\n",
       "      <td>0</td>\n",
       "    </tr>\n",
       "    <tr>\n",
       "      <th>2177</th>\n",
       "      <td>0</td>\n",
       "      <td>0</td>\n",
       "      <td>0</td>\n",
       "      <td>0</td>\n",
       "      <td>0</td>\n",
       "    </tr>\n",
       "  </tbody>\n",
       "</table>\n",
       "<p>2178 rows × 5 columns</p>\n",
       "</div>"
      ],
      "text/plain": [
       "      season_Spring  season_Summer  season_Winter  \\\n",
       "0                 0              1              0   \n",
       "1                 0              1              0   \n",
       "2                 1              0              0   \n",
       "3                 0              0              1   \n",
       "4                 0              1              0   \n",
       "...             ...            ...            ...   \n",
       "2173              1              0              0   \n",
       "2174              1              0              0   \n",
       "2175              1              0              0   \n",
       "2176              0              1              0   \n",
       "2177              0              0              0   \n",
       "\n",
       "      weather_ Light Snow, Light Rain  weather_ Mist + Cloudy   \n",
       "0                                   0                        0  \n",
       "1                                   0                        0  \n",
       "2                                   1                        0  \n",
       "3                                   0                        1  \n",
       "4                                   0                        0  \n",
       "...                               ...                      ...  \n",
       "2173                                0                        0  \n",
       "2174                                0                        1  \n",
       "2175                                0                        0  \n",
       "2176                                0                        0  \n",
       "2177                                0                        0  \n",
       "\n",
       "[2178 rows x 5 columns]"
      ]
     },
     "execution_count": 79,
     "metadata": {},
     "output_type": "execute_result"
    }
   ],
   "source": [
    "dummies"
   ]
  },
  {
   "cell_type": "code",
   "execution_count": 80,
   "id": "af168b98",
   "metadata": {},
   "outputs": [],
   "source": [
    "dummies = dummies['season_Spring']"
   ]
  },
  {
   "cell_type": "code",
   "execution_count": 81,
   "id": "91248cb6",
   "metadata": {},
   "outputs": [],
   "source": [
    "Test = pd.concat([Test,dummies],axis=1)"
   ]
  },
  {
   "cell_type": "code",
   "execution_count": 82,
   "id": "a1ae43d7",
   "metadata": {},
   "outputs": [
    {
     "data": {
      "text/html": [
       "<div>\n",
       "<style scoped>\n",
       "    .dataframe tbody tr th:only-of-type {\n",
       "        vertical-align: middle;\n",
       "    }\n",
       "\n",
       "    .dataframe tbody tr th {\n",
       "        vertical-align: top;\n",
       "    }\n",
       "\n",
       "    .dataframe thead th {\n",
       "        text-align: right;\n",
       "    }\n",
       "</style>\n",
       "<table border=\"1\" class=\"dataframe\">\n",
       "  <thead>\n",
       "    <tr style=\"text-align: right;\">\n",
       "      <th></th>\n",
       "      <th>datetime</th>\n",
       "      <th>season</th>\n",
       "      <th>holiday</th>\n",
       "      <th>workingday</th>\n",
       "      <th>weather</th>\n",
       "      <th>temp</th>\n",
       "      <th>atemp</th>\n",
       "      <th>humidity</th>\n",
       "      <th>windspeed</th>\n",
       "      <th>Total_booking</th>\n",
       "      <th>date</th>\n",
       "      <th>year</th>\n",
       "      <th>month</th>\n",
       "      <th>hour</th>\n",
       "      <th>weekday</th>\n",
       "      <th>season_Spring</th>\n",
       "    </tr>\n",
       "  </thead>\n",
       "  <tbody>\n",
       "    <tr>\n",
       "      <th>0</th>\n",
       "      <td>5/10/2012 11:00</td>\n",
       "      <td>Summer</td>\n",
       "      <td>0</td>\n",
       "      <td>1</td>\n",
       "      <td>Clear + Few clouds</td>\n",
       "      <td>21.32</td>\n",
       "      <td>25.000</td>\n",
       "      <td>48</td>\n",
       "      <td>35.0008</td>\n",
       "      <td>256</td>\n",
       "      <td>2012-05-10 11:00:00</td>\n",
       "      <td>2012</td>\n",
       "      <td>May</td>\n",
       "      <td>11</td>\n",
       "      <td>Thursday</td>\n",
       "      <td>0</td>\n",
       "    </tr>\n",
       "    <tr>\n",
       "      <th>1</th>\n",
       "      <td>6/9/2012 7:00</td>\n",
       "      <td>Summer</td>\n",
       "      <td>0</td>\n",
       "      <td>0</td>\n",
       "      <td>Clear + Few clouds</td>\n",
       "      <td>23.78</td>\n",
       "      <td>27.275</td>\n",
       "      <td>64</td>\n",
       "      <td>7.0015</td>\n",
       "      <td>87</td>\n",
       "      <td>2012-06-09 07:00:00</td>\n",
       "      <td>2012</td>\n",
       "      <td>June</td>\n",
       "      <td>7</td>\n",
       "      <td>Saturday</td>\n",
       "      <td>0</td>\n",
       "    </tr>\n",
       "    <tr>\n",
       "      <th>2</th>\n",
       "      <td>3/6/2011 20:00</td>\n",
       "      <td>Spring</td>\n",
       "      <td>0</td>\n",
       "      <td>0</td>\n",
       "      <td>Light Snow, Light Rain</td>\n",
       "      <td>11.48</td>\n",
       "      <td>12.120</td>\n",
       "      <td>100</td>\n",
       "      <td>27.9993</td>\n",
       "      <td>11</td>\n",
       "      <td>2011-03-06 20:00:00</td>\n",
       "      <td>2011</td>\n",
       "      <td>March</td>\n",
       "      <td>20</td>\n",
       "      <td>Sunday</td>\n",
       "      <td>1</td>\n",
       "    </tr>\n",
       "    <tr>\n",
       "      <th>3</th>\n",
       "      <td>10/13/2011 11:00</td>\n",
       "      <td>Winter</td>\n",
       "      <td>0</td>\n",
       "      <td>1</td>\n",
       "      <td>Mist + Cloudy</td>\n",
       "      <td>25.42</td>\n",
       "      <td>28.790</td>\n",
       "      <td>83</td>\n",
       "      <td>0.0000</td>\n",
       "      <td>84</td>\n",
       "      <td>2011-10-13 11:00:00</td>\n",
       "      <td>2011</td>\n",
       "      <td>October</td>\n",
       "      <td>11</td>\n",
       "      <td>Thursday</td>\n",
       "      <td>0</td>\n",
       "    </tr>\n",
       "    <tr>\n",
       "      <th>4</th>\n",
       "      <td>6/2/2012 12:00</td>\n",
       "      <td>Summer</td>\n",
       "      <td>0</td>\n",
       "      <td>0</td>\n",
       "      <td>Clear + Few clouds</td>\n",
       "      <td>25.42</td>\n",
       "      <td>31.060</td>\n",
       "      <td>43</td>\n",
       "      <td>23.9994</td>\n",
       "      <td>668</td>\n",
       "      <td>2012-06-02 12:00:00</td>\n",
       "      <td>2012</td>\n",
       "      <td>June</td>\n",
       "      <td>12</td>\n",
       "      <td>Saturday</td>\n",
       "      <td>0</td>\n",
       "    </tr>\n",
       "  </tbody>\n",
       "</table>\n",
       "</div>"
      ],
      "text/plain": [
       "           datetime  season holiday workingday                  weather  \\\n",
       "0   5/10/2012 11:00  Summer       0          1       Clear + Few clouds   \n",
       "1     6/9/2012 7:00  Summer       0          0       Clear + Few clouds   \n",
       "2    3/6/2011 20:00  Spring       0          0   Light Snow, Light Rain   \n",
       "3  10/13/2011 11:00  Winter       0          1           Mist + Cloudy    \n",
       "4    6/2/2012 12:00  Summer       0          0       Clear + Few clouds   \n",
       "\n",
       "    temp   atemp  humidity  windspeed  Total_booking                date  \\\n",
       "0  21.32  25.000        48    35.0008            256 2012-05-10 11:00:00   \n",
       "1  23.78  27.275        64     7.0015             87 2012-06-09 07:00:00   \n",
       "2  11.48  12.120       100    27.9993             11 2011-03-06 20:00:00   \n",
       "3  25.42  28.790        83     0.0000             84 2011-10-13 11:00:00   \n",
       "4  25.42  31.060        43    23.9994            668 2012-06-02 12:00:00   \n",
       "\n",
       "   year    month  hour   weekday  season_Spring  \n",
       "0  2012      May    11  Thursday              0  \n",
       "1  2012     June     7  Saturday              0  \n",
       "2  2011    March    20    Sunday              1  \n",
       "3  2011  October    11  Thursday              0  \n",
       "4  2012     June    12  Saturday              0  "
      ]
     },
     "execution_count": 82,
     "metadata": {},
     "output_type": "execute_result"
    }
   ],
   "source": [
    "Test.head()"
   ]
  },
  {
   "cell_type": "code",
   "execution_count": 83,
   "id": "aec1f7a9",
   "metadata": {},
   "outputs": [],
   "source": [
    "Test.drop(['datetime','season','weather','windspeed','date','month','weekday'],axis=1,inplace=True)"
   ]
  },
  {
   "cell_type": "code",
   "execution_count": 84,
   "id": "72546288",
   "metadata": {},
   "outputs": [
    {
     "data": {
      "text/html": [
       "<div>\n",
       "<style scoped>\n",
       "    .dataframe tbody tr th:only-of-type {\n",
       "        vertical-align: middle;\n",
       "    }\n",
       "\n",
       "    .dataframe tbody tr th {\n",
       "        vertical-align: top;\n",
       "    }\n",
       "\n",
       "    .dataframe thead th {\n",
       "        text-align: right;\n",
       "    }\n",
       "</style>\n",
       "<table border=\"1\" class=\"dataframe\">\n",
       "  <thead>\n",
       "    <tr style=\"text-align: right;\">\n",
       "      <th></th>\n",
       "      <th>holiday</th>\n",
       "      <th>workingday</th>\n",
       "      <th>temp</th>\n",
       "      <th>atemp</th>\n",
       "      <th>humidity</th>\n",
       "      <th>Total_booking</th>\n",
       "      <th>year</th>\n",
       "      <th>hour</th>\n",
       "      <th>season_Spring</th>\n",
       "    </tr>\n",
       "  </thead>\n",
       "  <tbody>\n",
       "    <tr>\n",
       "      <th>0</th>\n",
       "      <td>0</td>\n",
       "      <td>1</td>\n",
       "      <td>21.32</td>\n",
       "      <td>25.000</td>\n",
       "      <td>48</td>\n",
       "      <td>256</td>\n",
       "      <td>2012</td>\n",
       "      <td>11</td>\n",
       "      <td>0</td>\n",
       "    </tr>\n",
       "    <tr>\n",
       "      <th>1</th>\n",
       "      <td>0</td>\n",
       "      <td>0</td>\n",
       "      <td>23.78</td>\n",
       "      <td>27.275</td>\n",
       "      <td>64</td>\n",
       "      <td>87</td>\n",
       "      <td>2012</td>\n",
       "      <td>7</td>\n",
       "      <td>0</td>\n",
       "    </tr>\n",
       "    <tr>\n",
       "      <th>2</th>\n",
       "      <td>0</td>\n",
       "      <td>0</td>\n",
       "      <td>11.48</td>\n",
       "      <td>12.120</td>\n",
       "      <td>100</td>\n",
       "      <td>11</td>\n",
       "      <td>2011</td>\n",
       "      <td>20</td>\n",
       "      <td>1</td>\n",
       "    </tr>\n",
       "    <tr>\n",
       "      <th>3</th>\n",
       "      <td>0</td>\n",
       "      <td>1</td>\n",
       "      <td>25.42</td>\n",
       "      <td>28.790</td>\n",
       "      <td>83</td>\n",
       "      <td>84</td>\n",
       "      <td>2011</td>\n",
       "      <td>11</td>\n",
       "      <td>0</td>\n",
       "    </tr>\n",
       "    <tr>\n",
       "      <th>4</th>\n",
       "      <td>0</td>\n",
       "      <td>0</td>\n",
       "      <td>25.42</td>\n",
       "      <td>31.060</td>\n",
       "      <td>43</td>\n",
       "      <td>668</td>\n",
       "      <td>2012</td>\n",
       "      <td>12</td>\n",
       "      <td>0</td>\n",
       "    </tr>\n",
       "  </tbody>\n",
       "</table>\n",
       "</div>"
      ],
      "text/plain": [
       "  holiday workingday   temp   atemp  humidity  Total_booking  year  hour  \\\n",
       "0       0          1  21.32  25.000        48            256  2012    11   \n",
       "1       0          0  23.78  27.275        64             87  2012     7   \n",
       "2       0          0  11.48  12.120       100             11  2011    20   \n",
       "3       0          1  25.42  28.790        83             84  2011    11   \n",
       "4       0          0  25.42  31.060        43            668  2012    12   \n",
       "\n",
       "   season_Spring  \n",
       "0              0  \n",
       "1              0  \n",
       "2              1  \n",
       "3              0  \n",
       "4              0  "
      ]
     },
     "execution_count": 84,
     "metadata": {},
     "output_type": "execute_result"
    }
   ],
   "source": [
    "Test.head()"
   ]
  },
  {
   "cell_type": "code",
   "execution_count": 121,
   "id": "dca9be48",
   "metadata": {},
   "outputs": [],
   "source": [
    "xt = Test.drop(['Total_booking'],axis=1)"
   ]
  },
  {
   "cell_type": "markdown",
   "id": "3190c9c7",
   "metadata": {},
   "source": [
    "# Splitting the data for training"
   ]
  },
  {
   "cell_type": "code",
   "execution_count": 85,
   "id": "faf10e92",
   "metadata": {},
   "outputs": [],
   "source": [
    "Train.reset_index(drop=True,inplace=True)"
   ]
  },
  {
   "cell_type": "code",
   "execution_count": 86,
   "id": "ba9d6917",
   "metadata": {},
   "outputs": [],
   "source": [
    "X = Train.drop(['Total_booking'],axis=1)\n",
    "y = Train['Total_booking']"
   ]
  },
  {
   "cell_type": "code",
   "execution_count": 87,
   "id": "4327062b",
   "metadata": {},
   "outputs": [
    {
     "data": {
      "text/html": [
       "<div>\n",
       "<style scoped>\n",
       "    .dataframe tbody tr th:only-of-type {\n",
       "        vertical-align: middle;\n",
       "    }\n",
       "\n",
       "    .dataframe tbody tr th {\n",
       "        vertical-align: top;\n",
       "    }\n",
       "\n",
       "    .dataframe thead th {\n",
       "        text-align: right;\n",
       "    }\n",
       "</style>\n",
       "<table border=\"1\" class=\"dataframe\">\n",
       "  <thead>\n",
       "    <tr style=\"text-align: right;\">\n",
       "      <th></th>\n",
       "      <th>holiday</th>\n",
       "      <th>workingday</th>\n",
       "      <th>temp</th>\n",
       "      <th>atemp</th>\n",
       "      <th>humidity</th>\n",
       "      <th>year</th>\n",
       "      <th>hour</th>\n",
       "      <th>season_Spring</th>\n",
       "    </tr>\n",
       "  </thead>\n",
       "  <tbody>\n",
       "    <tr>\n",
       "      <th>0</th>\n",
       "      <td>0</td>\n",
       "      <td>1</td>\n",
       "      <td>22.14</td>\n",
       "      <td>25.760</td>\n",
       "      <td>77</td>\n",
       "      <td>2012</td>\n",
       "      <td>19</td>\n",
       "      <td>0</td>\n",
       "    </tr>\n",
       "    <tr>\n",
       "      <th>1</th>\n",
       "      <td>0</td>\n",
       "      <td>1</td>\n",
       "      <td>28.70</td>\n",
       "      <td>33.335</td>\n",
       "      <td>79</td>\n",
       "      <td>2012</td>\n",
       "      <td>4</td>\n",
       "      <td>0</td>\n",
       "    </tr>\n",
       "    <tr>\n",
       "      <th>2</th>\n",
       "      <td>0</td>\n",
       "      <td>1</td>\n",
       "      <td>5.74</td>\n",
       "      <td>6.060</td>\n",
       "      <td>50</td>\n",
       "      <td>2011</td>\n",
       "      <td>9</td>\n",
       "      <td>1</td>\n",
       "    </tr>\n",
       "    <tr>\n",
       "      <th>3</th>\n",
       "      <td>0</td>\n",
       "      <td>1</td>\n",
       "      <td>13.94</td>\n",
       "      <td>16.665</td>\n",
       "      <td>29</td>\n",
       "      <td>2011</td>\n",
       "      <td>16</td>\n",
       "      <td>0</td>\n",
       "    </tr>\n",
       "    <tr>\n",
       "      <th>4</th>\n",
       "      <td>0</td>\n",
       "      <td>1</td>\n",
       "      <td>30.34</td>\n",
       "      <td>33.335</td>\n",
       "      <td>51</td>\n",
       "      <td>2011</td>\n",
       "      <td>13</td>\n",
       "      <td>0</td>\n",
       "    </tr>\n",
       "    <tr>\n",
       "      <th>...</th>\n",
       "      <td>...</td>\n",
       "      <td>...</td>\n",
       "      <td>...</td>\n",
       "      <td>...</td>\n",
       "      <td>...</td>\n",
       "      <td>...</td>\n",
       "      <td>...</td>\n",
       "      <td>...</td>\n",
       "    </tr>\n",
       "    <tr>\n",
       "      <th>8461</th>\n",
       "      <td>1</td>\n",
       "      <td>0</td>\n",
       "      <td>4.10</td>\n",
       "      <td>6.820</td>\n",
       "      <td>54</td>\n",
       "      <td>2012</td>\n",
       "      <td>6</td>\n",
       "      <td>1</td>\n",
       "    </tr>\n",
       "    <tr>\n",
       "      <th>8462</th>\n",
       "      <td>0</td>\n",
       "      <td>1</td>\n",
       "      <td>16.40</td>\n",
       "      <td>20.455</td>\n",
       "      <td>87</td>\n",
       "      <td>2011</td>\n",
       "      <td>1</td>\n",
       "      <td>0</td>\n",
       "    </tr>\n",
       "    <tr>\n",
       "      <th>8463</th>\n",
       "      <td>0</td>\n",
       "      <td>1</td>\n",
       "      <td>23.78</td>\n",
       "      <td>27.275</td>\n",
       "      <td>56</td>\n",
       "      <td>2011</td>\n",
       "      <td>3</td>\n",
       "      <td>0</td>\n",
       "    </tr>\n",
       "    <tr>\n",
       "      <th>8464</th>\n",
       "      <td>0</td>\n",
       "      <td>1</td>\n",
       "      <td>11.48</td>\n",
       "      <td>13.635</td>\n",
       "      <td>61</td>\n",
       "      <td>2012</td>\n",
       "      <td>1</td>\n",
       "      <td>0</td>\n",
       "    </tr>\n",
       "    <tr>\n",
       "      <th>8465</th>\n",
       "      <td>0</td>\n",
       "      <td>1</td>\n",
       "      <td>5.74</td>\n",
       "      <td>6.060</td>\n",
       "      <td>50</td>\n",
       "      <td>2011</td>\n",
       "      <td>10</td>\n",
       "      <td>1</td>\n",
       "    </tr>\n",
       "  </tbody>\n",
       "</table>\n",
       "<p>8466 rows × 8 columns</p>\n",
       "</div>"
      ],
      "text/plain": [
       "     holiday workingday   temp   atemp  humidity  year  hour  season_Spring\n",
       "0          0          1  22.14  25.760        77  2012    19              0\n",
       "1          0          1  28.70  33.335        79  2012     4              0\n",
       "2          0          1   5.74   6.060        50  2011     9              1\n",
       "3          0          1  13.94  16.665        29  2011    16              0\n",
       "4          0          1  30.34  33.335        51  2011    13              0\n",
       "...      ...        ...    ...     ...       ...   ...   ...            ...\n",
       "8461       1          0   4.10   6.820        54  2012     6              1\n",
       "8462       0          1  16.40  20.455        87  2011     1              0\n",
       "8463       0          1  23.78  27.275        56  2011     3              0\n",
       "8464       0          1  11.48  13.635        61  2012     1              0\n",
       "8465       0          1   5.74   6.060        50  2011    10              1\n",
       "\n",
       "[8466 rows x 8 columns]"
      ]
     },
     "execution_count": 87,
     "metadata": {},
     "output_type": "execute_result"
    }
   ],
   "source": [
    "X"
   ]
  },
  {
   "cell_type": "code",
   "execution_count": 88,
   "id": "fe80cab3",
   "metadata": {},
   "outputs": [],
   "source": [
    "rfc = RandomForestRegressor()\n",
    "adb = AdaBoostRegressor()\n",
    "br = BaggingRegressor()\n",
    "sv = SVR()\n",
    "kn = KNeighborsRegressor()\n"
   ]
  },
  {
   "cell_type": "code",
   "execution_count": 93,
   "id": "06b7ce5c",
   "metadata": {},
   "outputs": [],
   "source": [
    "from sklearn.model_selection import cross_val_score"
   ]
  },
  {
   "cell_type": "code",
   "execution_count": 94,
   "id": "95fe7c3c",
   "metadata": {},
   "outputs": [
    {
     "data": {
      "text/plain": [
       "0.9029442676451799"
      ]
     },
     "execution_count": 94,
     "metadata": {},
     "output_type": "execute_result"
    }
   ],
   "source": [
    "cross_val_score(rfc,X,y,cv=15).mean()"
   ]
  },
  {
   "cell_type": "code",
   "execution_count": 95,
   "id": "89d84d1b",
   "metadata": {},
   "outputs": [
    {
     "data": {
      "text/plain": [
       "0.6210672583988927"
      ]
     },
     "execution_count": 95,
     "metadata": {},
     "output_type": "execute_result"
    }
   ],
   "source": [
    "cross_val_score(adb,X,y,cv=10).mean()"
   ]
  },
  {
   "cell_type": "code",
   "execution_count": 96,
   "id": "70cdb1ab",
   "metadata": {},
   "outputs": [
    {
     "data": {
      "text/plain": [
       "0.8976419500166395"
      ]
     },
     "execution_count": 96,
     "metadata": {},
     "output_type": "execute_result"
    }
   ],
   "source": [
    "cross_val_score(br,X,y,cv=10).mean()"
   ]
  },
  {
   "cell_type": "code",
   "execution_count": 97,
   "id": "36db7b6a",
   "metadata": {},
   "outputs": [
    {
     "data": {
      "text/plain": [
       "-0.05261371302869371"
      ]
     },
     "execution_count": 97,
     "metadata": {},
     "output_type": "execute_result"
    }
   ],
   "source": [
    "cross_val_score(sv,X,y,cv=10).mean()"
   ]
  },
  {
   "cell_type": "code",
   "execution_count": 98,
   "id": "9adec942",
   "metadata": {},
   "outputs": [
    {
     "data": {
      "text/plain": [
       "0.632367368897968"
      ]
     },
     "execution_count": 98,
     "metadata": {},
     "output_type": "execute_result"
    }
   ],
   "source": [
    "cross_val_score(kn,X,y,cv=10).mean()"
   ]
  },
  {
   "cell_type": "markdown",
   "id": "888c10b7",
   "metadata": {},
   "source": [
    "# Random forest regressor performed well on cross valiadtion."
   ]
  },
  {
   "cell_type": "code",
   "execution_count": 99,
   "id": "9caab3a7",
   "metadata": {},
   "outputs": [],
   "source": [
    "from sklearn.model_selection import train_test_split"
   ]
  },
  {
   "cell_type": "code",
   "execution_count": 100,
   "id": "6598f849",
   "metadata": {},
   "outputs": [],
   "source": [
    "X_train, X_test, y_train, y_test = train_test_split(X, y, test_size=0.4, random_state=101)"
   ]
  },
  {
   "cell_type": "code",
   "execution_count": 102,
   "id": "4d12e4ff",
   "metadata": {},
   "outputs": [
    {
     "data": {
      "text/plain": [
       "RandomForestRegressor()"
      ]
     },
     "execution_count": 102,
     "metadata": {},
     "output_type": "execute_result"
    }
   ],
   "source": [
    "rfc.fit(X_train,y_train)"
   ]
  },
  {
   "cell_type": "code",
   "execution_count": 103,
   "id": "861e81d2",
   "metadata": {},
   "outputs": [],
   "source": [
    "pred = rfc.predict(X_test)"
   ]
  },
  {
   "cell_type": "code",
   "execution_count": 104,
   "id": "2b1cf31b",
   "metadata": {},
   "outputs": [
    {
     "data": {
      "text/plain": [
       "array([136.78, 243.08,  68.22, ...,  39.06, 274.03, 112.13])"
      ]
     },
     "execution_count": 104,
     "metadata": {},
     "output_type": "execute_result"
    }
   ],
   "source": [
    "pred"
   ]
  },
  {
   "cell_type": "code",
   "execution_count": 107,
   "id": "e6aa6251",
   "metadata": {},
   "outputs": [
    {
     "data": {
      "text/plain": [
       "52.196340411882424"
      ]
     },
     "execution_count": 107,
     "metadata": {},
     "output_type": "execute_result"
    }
   ],
   "source": [
    "np.sqrt(metrics.mean_squared_error(y_test,pred))"
   ]
  },
  {
   "cell_type": "code",
   "execution_count": 162,
   "id": "9d552a96",
   "metadata": {},
   "outputs": [
    {
     "data": {
      "image/png": "[encoded data removed]",
      "text/plain": [
       "<Figure size 432x288 with 1 Axes>"
      ]
     },
     "metadata": {
      "needs_background": "light"
     },
     "output_type": "display_data"
    }
   ],
   "source": [
    "fig, ax = plt.subplots()\n",
    "ax.scatter(y_test, pred)\n",
    "ax.plot([y.min(), y.max()], [y.min(), y.max()], 'k--', lw=4)\n",
    "ax.set_xlabel('Actual')\n",
    "ax.set_ylabel('Predicted')\n",
    "plt.show()"
   ]
  },
  {
   "cell_type": "code",
   "execution_count": 180,
   "id": "387163f8",
   "metadata": {},
   "outputs": [],
   "source": [
    "b = pd.DataFrame(pred,columns=['actual'])"
   ]
  },
  {
   "cell_type": "markdown",
   "id": "24c430ae",
   "metadata": {},
   "source": [
    "Adaboost regressor"
   ]
  },
  {
   "cell_type": "code",
   "execution_count": 108,
   "id": "b1982e3f",
   "metadata": {},
   "outputs": [
    {
     "data": {
      "text/plain": [
       "AdaBoostRegressor()"
      ]
     },
     "execution_count": 108,
     "metadata": {},
     "output_type": "execute_result"
    }
   ],
   "source": [
    "adb.fit(X_train,y_train)"
   ]
  },
  {
   "cell_type": "code",
   "execution_count": 109,
   "id": "f417372a",
   "metadata": {},
   "outputs": [],
   "source": [
    "adbpred = adb.predict(X_test)"
   ]
  },
  {
   "cell_type": "code",
   "execution_count": 110,
   "id": "64234dd6",
   "metadata": {},
   "outputs": [
    {
     "data": {
      "text/plain": [
       "96.78740383328649"
      ]
     },
     "execution_count": 110,
     "metadata": {},
     "output_type": "execute_result"
    }
   ],
   "source": [
    "np.sqrt(metrics.mean_squared_error(y_test,adbpred))"
   ]
  },
  {
   "cell_type": "code",
   "execution_count": 161,
   "id": "55f45b13",
   "metadata": {},
   "outputs": [
    {
     "data": {
      "image/png": "[encoded data removed]",
      "text/plain": [
       "<Figure size 432x288 with 1 Axes>"
      ]
     },
     "metadata": {
      "needs_background": "light"
     },
     "output_type": "display_data"
    }
   ],
   "source": [
    "fig, ax = plt.subplots()\n",
    "ax.scatter(y_test, adbpred)\n",
    "ax.plot([y.min(), y.max()], [y.min(), y.max()], 'k--', lw=4)\n",
    "ax.set_xlabel('Actual')\n",
    "ax.set_ylabel('Predicted')\n",
    "plt.show()"
   ]
  },
  {
   "cell_type": "markdown",
   "id": "d490ae0f",
   "metadata": {},
   "source": [
    "Bagging regressor"
   ]
  },
  {
   "cell_type": "code",
   "execution_count": 111,
   "id": "1741ef91",
   "metadata": {},
   "outputs": [
    {
     "data": {
      "text/plain": [
       "BaggingRegressor()"
      ]
     },
     "execution_count": 111,
     "metadata": {},
     "output_type": "execute_result"
    }
   ],
   "source": [
    "br.fit(X_train,y_train)"
   ]
  },
  {
   "cell_type": "code",
   "execution_count": 112,
   "id": "08c6f4d3",
   "metadata": {},
   "outputs": [],
   "source": [
    "brpred = br.predict(X_test)"
   ]
  },
  {
   "cell_type": "code",
   "execution_count": 113,
   "id": "7d92b11f",
   "metadata": {},
   "outputs": [
    {
     "data": {
      "text/plain": [
       "54.10548649694874"
      ]
     },
     "execution_count": 113,
     "metadata": {},
     "output_type": "execute_result"
    }
   ],
   "source": [
    "np.sqrt(metrics.mean_squared_error(y_test,brpred))"
   ]
  },
  {
   "cell_type": "code",
   "execution_count": 160,
   "id": "25ce112d",
   "metadata": {},
   "outputs": [
    {
     "data": {
      "image/png": "[encoded data removed]",
      "text/plain": [
       "<Figure size 432x288 with 1 Axes>"
      ]
     },
     "metadata": {
      "needs_background": "light"
     },
     "output_type": "display_data"
    }
   ],
   "source": [
    "fig, ax = plt.subplots()\n",
    "ax.scatter(y_test, brpred)\n",
    "ax.plot([y.min(), y.max()], [y.min(), y.max()], 'k--', lw=4)\n",
    "ax.set_xlabel('Actual')\n",
    "ax.set_ylabel('Predicted')\n",
    "plt.show()"
   ]
  },
  {
   "cell_type": "markdown",
   "id": "7d424b2c",
   "metadata": {},
   "source": [
    "Support vector regressor"
   ]
  },
  {
   "cell_type": "code",
   "execution_count": 114,
   "id": "cd227aca",
   "metadata": {},
   "outputs": [
    {
     "data": {
      "text/plain": [
       "SVR()"
      ]
     },
     "execution_count": 114,
     "metadata": {},
     "output_type": "execute_result"
    }
   ],
   "source": [
    "sv.fit(X_train,y_train)"
   ]
  },
  {
   "cell_type": "code",
   "execution_count": 115,
   "id": "d51b8bba",
   "metadata": {},
   "outputs": [],
   "source": [
    "svpred = sv.predict(X_test)"
   ]
  },
  {
   "cell_type": "code",
   "execution_count": 116,
   "id": "a512408f",
   "metadata": {},
   "outputs": [
    {
     "data": {
      "text/plain": [
       "162.5258584846349"
      ]
     },
     "execution_count": 116,
     "metadata": {},
     "output_type": "execute_result"
    }
   ],
   "source": [
    "np.sqrt(metrics.mean_squared_error(y_test,svpred))"
   ]
  },
  {
   "cell_type": "code",
   "execution_count": 159,
   "id": "f876d78d",
   "metadata": {},
   "outputs": [
    {
     "data": {
      "image/png": "[encoded data removed]",
      "text/plain": [
       "<Figure size 432x288 with 1 Axes>"
      ]
     },
     "metadata": {
      "needs_background": "light"
     },
     "output_type": "display_data"
    }
   ],
   "source": [
    "fig, ax = plt.subplots()\n",
    "ax.scatter(y_test, svpred)\n",
    "ax.plot([y.min(), y.max()], [y.min(), y.max()], 'k--', lw=4)\n",
    "ax.set_xlabel('Actual')\n",
    "ax.set_ylabel('Predicted')\n",
    "plt.show()"
   ]
  },
  {
   "cell_type": "markdown",
   "id": "958c4259",
   "metadata": {},
   "source": [
    "Knearest Neighbours"
   ]
  },
  {
   "cell_type": "code",
   "execution_count": 117,
   "id": "270102d6",
   "metadata": {},
   "outputs": [
    {
     "data": {
      "text/plain": [
       "KNeighborsRegressor()"
      ]
     },
     "execution_count": 117,
     "metadata": {},
     "output_type": "execute_result"
    }
   ],
   "source": [
    "kn.fit(X_train,y_train)"
   ]
  },
  {
   "cell_type": "code",
   "execution_count": 118,
   "id": "4762b2b0",
   "metadata": {},
   "outputs": [],
   "source": [
    "knpred = kn.predict(X_test)"
   ]
  },
  {
   "cell_type": "code",
   "execution_count": 119,
   "id": "7e682117",
   "metadata": {},
   "outputs": [
    {
     "data": {
      "text/plain": [
       "99.273114847686"
      ]
     },
     "execution_count": 119,
     "metadata": {},
     "output_type": "execute_result"
    }
   ],
   "source": [
    "np.sqrt(metrics.mean_squared_error(y_test,knpred))"
   ]
  },
  {
   "cell_type": "code",
   "execution_count": 163,
   "id": "ad993685",
   "metadata": {},
   "outputs": [
    {
     "data": {
      "image/png": "[encoded data removed]",
      "text/plain": [
       "<Figure size 432x288 with 1 Axes>"
      ]
     },
     "metadata": {
      "needs_background": "light"
     },
     "output_type": "display_data"
    }
   ],
   "source": [
    "fig, ax = plt.subplots()\n",
    "ax.scatter(y_test, knpred)\n",
    "ax.plot([y.min(), y.max()], [y.min(), y.max()], 'k--', lw=4)\n",
    "ax.set_xlabel('Actual')\n",
    "ax.set_ylabel('Predicted')\n",
    "plt.show()"
   ]
  },
  {
   "cell_type": "markdown",
   "id": "27ef2277",
   "metadata": {},
   "source": [
    "# Hyperparameter tuning of Random forest"
   ]
  },
  {
   "cell_type": "code",
   "execution_count": 176,
   "id": "3d9fde25",
   "metadata": {},
   "outputs": [],
   "source": [
    "param_grid = {\n",
    "    'bootstrap': [True],\n",
    "    'max_depth': [10,15,20,25,30,35],\n",
    "    'max_features': [2, 3,4,5,6,7,8,9],\n",
    "    'min_samples_leaf': [1,2,3, 4, 5,6,7,8,9],\n",
    "    'min_samples_split': [1,2,3,4,5,6,7,8,9],\n",
    "    'n_estimators': [100,150,200]\n",
    "}"
   ]
  },
  {
   "cell_type": "code",
   "execution_count": 177,
   "id": "dedecea3",
   "metadata": {},
   "outputs": [],
   "source": [
    "gr = GridSearchCV(estimator = rfc, param_grid = param_grid, cv = 3)"
   ]
  },
  {
   "cell_type": "code",
   "execution_count": null,
   "id": "7a4272a4",
   "metadata": {},
   "outputs": [],
   "source": [
    "gr.fit(X_train,y_train)"
   ]
  },
  {
   "cell_type": "code",
   "execution_count": 171,
   "id": "07e17d54",
   "metadata": {},
   "outputs": [
    {
     "data": {
      "text/plain": [
       "{'bootstrap': True,\n",
       " 'max_depth': 30,\n",
       " 'max_features': 3,\n",
       " 'min_samples_leaf': 3,\n",
       " 'min_samples_split': 4,\n",
       " 'n_estimators': 100}"
      ]
     },
     "execution_count": 171,
     "metadata": {},
     "output_type": "execute_result"
    }
   ],
   "source": [
    "gr.best_params_"
   ]
  },
  {
   "cell_type": "code",
   "execution_count": 172,
   "id": "dcc15fc7",
   "metadata": {},
   "outputs": [],
   "source": [
    "rf = RandomForestRegressor(n_estimators=100,bootstrap=True,max_depth=30,max_features=3,min_samples_leaf=3,min_samples_split=3)"
   ]
  },
  {
   "cell_type": "code",
   "execution_count": 173,
   "id": "5664a22a",
   "metadata": {},
   "outputs": [
    {
     "data": {
      "text/plain": [
       "RandomForestRegressor(max_depth=30, max_features=3, min_samples_leaf=3,\n",
       "                      min_samples_split=3)"
      ]
     },
     "execution_count": 173,
     "metadata": {},
     "output_type": "execute_result"
    }
   ],
   "source": [
    "rf.fit(X_train,y_train)"
   ]
  },
  {
   "cell_type": "code",
   "execution_count": 174,
   "id": "d6c15506",
   "metadata": {},
   "outputs": [],
   "source": [
    "rfpred = rf.predict(X_test)"
   ]
  },
  {
   "cell_type": "code",
   "execution_count": 175,
   "id": "4b2722c6",
   "metadata": {},
   "outputs": [
    {
     "data": {
      "text/plain": [
       "61.81873123294454"
      ]
     },
     "execution_count": 175,
     "metadata": {},
     "output_type": "execute_result"
    }
   ],
   "source": [
    "np.sqrt(metrics.mean_squared_error(y_test,rfpred))"
   ]
  },
  {
   "cell_type": "code",
   "execution_count": null,
   "id": "3991e24b",
   "metadata": {},
   "outputs": [],
   "source": []
  }
 ],
 "metadata": {
  "kernelspec": {
   "display_name": "Python 3",
   "language": "python",
   "name": "python3"
  },
  "language_info": {
   "codemirror_mode": {
    "name": "ipython",
    "version": 3
   },
   "file_extension": ".py",
   "mimetype": "text/x-python",
   "name": "python",
   "nbconvert_exporter": "python",
   "pygments_lexer": "ipython3",
   "version": "3.8.8"
  }
 },
 "nbformat": 4,
 "nbformat_minor": 5
}
